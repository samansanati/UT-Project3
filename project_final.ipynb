{
 "cells": [
  {
   "cell_type": "code",
   "execution_count": 2,
   "id": "zsFyRt67ZYfe",
   "metadata": {
    "colab": {
     "base_uri": "https://localhost:8080/"
    },
    "id": "zsFyRt67ZYfe",
    "outputId": "6e8448ca-4156-4cea-f06c-c6561dd3e8bd"
   },
   "outputs": [
    {
     "name": "stdout",
     "output_type": "stream",
     "text": [
      "Mounted at /content/drive\n"
     ]
    }
   ],
   "source": [
    "from google.colab import drive\n",
    "drive.mount('/content/drive')"
   ]
  },
  {
   "cell_type": "code",
   "execution_count": 3,
   "id": "cf8860a6",
   "metadata": {
    "id": "cf8860a6"
   },
   "outputs": [],
   "source": [
    "import pandas as pd\n",
    "import numpy as np\n",
    "import matplotlib.pyplot as plt\n",
    "import seaborn as sns\n",
    "import matplotlib\n",
    "import seaborn as sns\n",
    "from sklearn.feature_selection import SelectKBest, chi2\n",
    "from sklearn.metrics import accuracy_score, f1_score\n",
    "from sklearn.metrics import confusion_matrix\n",
    "from sklearn.model_selection import train_test_split\n",
    "from sklearn import metrics\n",
    "from sklearn.metrics import precision_score\n",
    "from sklearn.metrics import recall_score\n",
    "from sklearn.metrics import classification_report\n",
    "from sklearn.ensemble import RandomForestClassifier\n",
    "from sklearn.neighbors import KNeighborsClassifier"
   ]
  },
  {
   "cell_type": "code",
   "execution_count": 4,
   "id": "p6FOUOECZbz3",
   "metadata": {
    "id": "p6FOUOECZbz3"
   },
   "outputs": [],
   "source": [
    "df = pd.read_csv('/content/drive/My Drive/UNSW_NB15_training-set.csv')\n",
    "df2 = pd.read_csv('/content/drive/My Drive/UNSW_NB15_testing-set.csv')"
   ]
  },
  {
   "cell_type": "code",
   "execution_count": null,
   "id": "66b7fdf0",
   "metadata": {
    "id": "66b7fdf0"
   },
   "outputs": [],
   "source": [
    "df2.shape"
   ]
  },
  {
   "cell_type": "code",
   "execution_count": 7,
   "id": "abe8d080",
   "metadata": {
    "colab": {
     "base_uri": "https://localhost:8080/"
    },
    "id": "abe8d080",
    "outputId": "5cc74de5-2fdd-4a95-b878-452c040ba789",
    "scrolled": true
   },
   "outputs": [
    {
     "data": {
      "text/plain": [
       "(175341, 44)"
      ]
     },
     "execution_count": 7,
     "metadata": {},
     "output_type": "execute_result"
    }
   ],
   "source": [
    "df.shape"
   ]
  },
  {
   "cell_type": "code",
   "execution_count": 8,
   "id": "ad82027a",
   "metadata": {
    "colab": {
     "base_uri": "https://localhost:8080/",
     "height": 237
    },
    "id": "ad82027a",
    "outputId": "ef3c8a79-791a-4502-dd58-0a6206ed20f8"
   },
   "outputs": [
    {
     "data": {
      "text/html": [
       "\n",
       "\n",
       "  <div id=\"df-62d37d5b-3355-4b51-b132-d692bb87c08e\">\n",
       "    <div class=\"colab-df-container\">\n",
       "      <div>\n",
       "<style scoped>\n",
       "    .dataframe tbody tr th:only-of-type {\n",
       "        vertical-align: middle;\n",
       "    }\n",
       "\n",
       "    .dataframe tbody tr th {\n",
       "        vertical-align: top;\n",
       "    }\n",
       "\n",
       "    .dataframe thead th {\n",
       "        text-align: right;\n",
       "    }\n",
       "</style>\n",
       "<table border=\"1\" class=\"dataframe\">\n",
       "  <thead>\n",
       "    <tr style=\"text-align: right;\">\n",
       "      <th></th>\n",
       "      <th>id</th>\n",
       "      <th>dur</th>\n",
       "      <th>proto</th>\n",
       "      <th>service</th>\n",
       "      <th>state</th>\n",
       "      <th>spkts</th>\n",
       "      <th>dpkts</th>\n",
       "      <th>sbytes</th>\n",
       "      <th>dbytes</th>\n",
       "      <th>rate</th>\n",
       "      <th>...</th>\n",
       "      <th>ct_src_dport_ltm</th>\n",
       "      <th>ct_dst_sport_ltm</th>\n",
       "      <th>ct_dst_src_ltm</th>\n",
       "      <th>is_ftp_login</th>\n",
       "      <th>ct_ftp_cmd</th>\n",
       "      <th>ct_flw_http_mthd</th>\n",
       "      <th>ct_src_ltm</th>\n",
       "      <th>ct_srv_dst</th>\n",
       "      <th>is_sm_ips_ports</th>\n",
       "      <th>attack_cat</th>\n",
       "    </tr>\n",
       "  </thead>\n",
       "  <tbody>\n",
       "    <tr>\n",
       "      <th>0</th>\n",
       "      <td>1</td>\n",
       "      <td>0.121478</td>\n",
       "      <td>tcp</td>\n",
       "      <td>-</td>\n",
       "      <td>FIN</td>\n",
       "      <td>6</td>\n",
       "      <td>4</td>\n",
       "      <td>258</td>\n",
       "      <td>172</td>\n",
       "      <td>74.087490</td>\n",
       "      <td>...</td>\n",
       "      <td>1</td>\n",
       "      <td>1</td>\n",
       "      <td>1</td>\n",
       "      <td>0</td>\n",
       "      <td>0</td>\n",
       "      <td>0</td>\n",
       "      <td>1</td>\n",
       "      <td>1</td>\n",
       "      <td>0</td>\n",
       "      <td>Normal</td>\n",
       "    </tr>\n",
       "    <tr>\n",
       "      <th>1</th>\n",
       "      <td>2</td>\n",
       "      <td>0.649902</td>\n",
       "      <td>tcp</td>\n",
       "      <td>-</td>\n",
       "      <td>FIN</td>\n",
       "      <td>14</td>\n",
       "      <td>38</td>\n",
       "      <td>734</td>\n",
       "      <td>42014</td>\n",
       "      <td>78.473372</td>\n",
       "      <td>...</td>\n",
       "      <td>1</td>\n",
       "      <td>1</td>\n",
       "      <td>2</td>\n",
       "      <td>0</td>\n",
       "      <td>0</td>\n",
       "      <td>0</td>\n",
       "      <td>1</td>\n",
       "      <td>6</td>\n",
       "      <td>0</td>\n",
       "      <td>Normal</td>\n",
       "    </tr>\n",
       "    <tr>\n",
       "      <th>2</th>\n",
       "      <td>3</td>\n",
       "      <td>1.623129</td>\n",
       "      <td>tcp</td>\n",
       "      <td>-</td>\n",
       "      <td>FIN</td>\n",
       "      <td>8</td>\n",
       "      <td>16</td>\n",
       "      <td>364</td>\n",
       "      <td>13186</td>\n",
       "      <td>14.170161</td>\n",
       "      <td>...</td>\n",
       "      <td>1</td>\n",
       "      <td>1</td>\n",
       "      <td>3</td>\n",
       "      <td>0</td>\n",
       "      <td>0</td>\n",
       "      <td>0</td>\n",
       "      <td>2</td>\n",
       "      <td>6</td>\n",
       "      <td>0</td>\n",
       "      <td>Normal</td>\n",
       "    </tr>\n",
       "  </tbody>\n",
       "</table>\n",
       "<p>3 rows × 44 columns</p>\n",
       "</div>\n",
       "      <button class=\"colab-df-convert\" onclick=\"convertToInteractive('df-62d37d5b-3355-4b51-b132-d692bb87c08e')\"\n",
       "              title=\"Convert this dataframe to an interactive table.\"\n",
       "              style=\"display:none;\">\n",
       "\n",
       "  <svg xmlns=\"http://www.w3.org/2000/svg\" height=\"24px\"viewBox=\"0 0 24 24\"\n",
       "       width=\"24px\">\n",
       "    <path d=\"M0 0h24v24H0V0z\" fill=\"none\"/>\n",
       "    <path d=\"M18.56 5.44l.94 2.06.94-2.06 2.06-.94-2.06-.94-.94-2.06-.94 2.06-2.06.94zm-11 1L8.5 8.5l.94-2.06 2.06-.94-2.06-.94L8.5 2.5l-.94 2.06-2.06.94zm10 10l.94 2.06.94-2.06 2.06-.94-2.06-.94-.94-2.06-.94 2.06-2.06.94z\"/><path d=\"M17.41 7.96l-1.37-1.37c-.4-.4-.92-.59-1.43-.59-.52 0-1.04.2-1.43.59L10.3 9.45l-7.72 7.72c-.78.78-.78 2.05 0 2.83L4 21.41c.39.39.9.59 1.41.59.51 0 1.02-.2 1.41-.59l7.78-7.78 2.81-2.81c.8-.78.8-2.07 0-2.86zM5.41 20L4 18.59l7.72-7.72 1.47 1.35L5.41 20z\"/>\n",
       "  </svg>\n",
       "      </button>\n",
       "\n",
       "\n",
       "\n",
       "    <div id=\"df-f62b5400-87de-4beb-9fbe-8c28506528bc\">\n",
       "      <button class=\"colab-df-quickchart\" onclick=\"quickchart('df-f62b5400-87de-4beb-9fbe-8c28506528bc')\"\n",
       "              title=\"Suggest charts.\"\n",
       "              style=\"display:none;\">\n",
       "\n",
       "<svg xmlns=\"http://www.w3.org/2000/svg\" height=\"24px\"viewBox=\"0 0 24 24\"\n",
       "     width=\"24px\">\n",
       "    <g>\n",
       "        <path d=\"M19 3H5c-1.1 0-2 .9-2 2v14c0 1.1.9 2 2 2h14c1.1 0 2-.9 2-2V5c0-1.1-.9-2-2-2zM9 17H7v-7h2v7zm4 0h-2V7h2v10zm4 0h-2v-4h2v4z\"/>\n",
       "    </g>\n",
       "</svg>\n",
       "      </button>\n",
       "    </div>\n",
       "\n",
       "<style>\n",
       "  .colab-df-quickchart {\n",
       "    background-color: #E8F0FE;\n",
       "    border: none;\n",
       "    border-radius: 50%;\n",
       "    cursor: pointer;\n",
       "    display: none;\n",
       "    fill: #1967D2;\n",
       "    height: 32px;\n",
       "    padding: 0 0 0 0;\n",
       "    width: 32px;\n",
       "  }\n",
       "\n",
       "  .colab-df-quickchart:hover {\n",
       "    background-color: #E2EBFA;\n",
       "    box-shadow: 0px 1px 2px rgba(60, 64, 67, 0.3), 0px 1px 3px 1px rgba(60, 64, 67, 0.15);\n",
       "    fill: #174EA6;\n",
       "  }\n",
       "\n",
       "  [theme=dark] .colab-df-quickchart {\n",
       "    background-color: #3B4455;\n",
       "    fill: #D2E3FC;\n",
       "  }\n",
       "\n",
       "  [theme=dark] .colab-df-quickchart:hover {\n",
       "    background-color: #434B5C;\n",
       "    box-shadow: 0px 1px 3px 1px rgba(0, 0, 0, 0.15);\n",
       "    filter: drop-shadow(0px 1px 2px rgba(0, 0, 0, 0.3));\n",
       "    fill: #FFFFFF;\n",
       "  }\n",
       "</style>\n",
       "\n",
       "    <script>\n",
       "      async function quickchart(key) {\n",
       "        const containerElement = document.querySelector('#' + key);\n",
       "        const charts = await google.colab.kernel.invokeFunction(\n",
       "            'suggestCharts', [key], {});\n",
       "      }\n",
       "    </script>\n",
       "\n",
       "      <script>\n",
       "\n",
       "function displayQuickchartButton(domScope) {\n",
       "  let quickchartButtonEl =\n",
       "    domScope.querySelector('#df-f62b5400-87de-4beb-9fbe-8c28506528bc button.colab-df-quickchart');\n",
       "  quickchartButtonEl.style.display =\n",
       "    google.colab.kernel.accessAllowed ? 'block' : 'none';\n",
       "}\n",
       "\n",
       "        displayQuickchartButton(document);\n",
       "      </script>\n",
       "      <style>\n",
       "    .colab-df-container {\n",
       "      display:flex;\n",
       "      flex-wrap:wrap;\n",
       "      gap: 12px;\n",
       "    }\n",
       "\n",
       "    .colab-df-convert {\n",
       "      background-color: #E8F0FE;\n",
       "      border: none;\n",
       "      border-radius: 50%;\n",
       "      cursor: pointer;\n",
       "      display: none;\n",
       "      fill: #1967D2;\n",
       "      height: 32px;\n",
       "      padding: 0 0 0 0;\n",
       "      width: 32px;\n",
       "    }\n",
       "\n",
       "    .colab-df-convert:hover {\n",
       "      background-color: #E2EBFA;\n",
       "      box-shadow: 0px 1px 2px rgba(60, 64, 67, 0.3), 0px 1px 3px 1px rgba(60, 64, 67, 0.15);\n",
       "      fill: #174EA6;\n",
       "    }\n",
       "\n",
       "    [theme=dark] .colab-df-convert {\n",
       "      background-color: #3B4455;\n",
       "      fill: #D2E3FC;\n",
       "    }\n",
       "\n",
       "    [theme=dark] .colab-df-convert:hover {\n",
       "      background-color: #434B5C;\n",
       "      box-shadow: 0px 1px 3px 1px rgba(0, 0, 0, 0.15);\n",
       "      filter: drop-shadow(0px 1px 2px rgba(0, 0, 0, 0.3));\n",
       "      fill: #FFFFFF;\n",
       "    }\n",
       "  </style>\n",
       "\n",
       "      <script>\n",
       "        const buttonEl =\n",
       "          document.querySelector('#df-62d37d5b-3355-4b51-b132-d692bb87c08e button.colab-df-convert');\n",
       "        buttonEl.style.display =\n",
       "          google.colab.kernel.accessAllowed ? 'block' : 'none';\n",
       "\n",
       "        async function convertToInteractive(key) {\n",
       "          const element = document.querySelector('#df-62d37d5b-3355-4b51-b132-d692bb87c08e');\n",
       "          const dataTable =\n",
       "            await google.colab.kernel.invokeFunction('convertToInteractive',\n",
       "                                                     [key], {});\n",
       "          if (!dataTable) return;\n",
       "\n",
       "          const docLinkHtml = 'Like what you see? Visit the ' +\n",
       "            '<a target=\"_blank\" href=https://colab.research.google.com/notebooks/data_table.ipynb>data table notebook</a>'\n",
       "            + ' to learn more about interactive tables.';\n",
       "          element.innerHTML = '';\n",
       "          dataTable['output_type'] = 'display_data';\n",
       "          await google.colab.output.renderOutput(dataTable, element);\n",
       "          const docLink = document.createElement('div');\n",
       "          docLink.innerHTML = docLinkHtml;\n",
       "          element.appendChild(docLink);\n",
       "        }\n",
       "      </script>\n",
       "    </div>\n",
       "  </div>\n"
      ],
      "text/plain": [
       "   id       dur proto service state  spkts  dpkts  sbytes  dbytes       rate  \\\n",
       "0   1  0.121478   tcp       -   FIN      6      4     258     172  74.087490   \n",
       "1   2  0.649902   tcp       -   FIN     14     38     734   42014  78.473372   \n",
       "2   3  1.623129   tcp       -   FIN      8     16     364   13186  14.170161   \n",
       "\n",
       "   ...  ct_src_dport_ltm  ct_dst_sport_ltm  ct_dst_src_ltm  is_ftp_login  \\\n",
       "0  ...                 1                 1               1             0   \n",
       "1  ...                 1                 1               2             0   \n",
       "2  ...                 1                 1               3             0   \n",
       "\n",
       "   ct_ftp_cmd  ct_flw_http_mthd  ct_src_ltm  ct_srv_dst  is_sm_ips_ports  \\\n",
       "0           0                 0           1           1                0   \n",
       "1           0                 0           1           6                0   \n",
       "2           0                 0           2           6                0   \n",
       "\n",
       "   attack_cat  \n",
       "0      Normal  \n",
       "1      Normal  \n",
       "2      Normal  \n",
       "\n",
       "[3 rows x 44 columns]"
      ]
     },
     "execution_count": 8,
     "metadata": {},
     "output_type": "execute_result"
    }
   ],
   "source": [
    "df.head(3)"
   ]
  },
  {
   "cell_type": "code",
   "execution_count": 9,
   "id": "cd784a0d",
   "metadata": {
    "colab": {
     "base_uri": "https://localhost:8080/",
     "height": 394
    },
    "id": "cd784a0d",
    "outputId": "bdd53748-a81f-48cd-8cf0-175f41379e49",
    "scrolled": true
   },
   "outputs": [
    {
     "data": {
      "text/html": [
       "\n",
       "\n",
       "  <div id=\"df-f83811d5-ba37-4f32-867c-e715dc748aa3\">\n",
       "    <div class=\"colab-df-container\">\n",
       "      <div>\n",
       "<style scoped>\n",
       "    .dataframe tbody tr th:only-of-type {\n",
       "        vertical-align: middle;\n",
       "    }\n",
       "\n",
       "    .dataframe tbody tr th {\n",
       "        vertical-align: top;\n",
       "    }\n",
       "\n",
       "    .dataframe thead th {\n",
       "        text-align: right;\n",
       "    }\n",
       "</style>\n",
       "<table border=\"1\" class=\"dataframe\">\n",
       "  <thead>\n",
       "    <tr style=\"text-align: right;\">\n",
       "      <th></th>\n",
       "      <th>id</th>\n",
       "      <th>dur</th>\n",
       "      <th>spkts</th>\n",
       "      <th>dpkts</th>\n",
       "      <th>sbytes</th>\n",
       "      <th>dbytes</th>\n",
       "      <th>rate</th>\n",
       "      <th>sttl</th>\n",
       "      <th>dttl</th>\n",
       "      <th>sload</th>\n",
       "      <th>...</th>\n",
       "      <th>ct_dst_ltm</th>\n",
       "      <th>ct_src_dport_ltm</th>\n",
       "      <th>ct_dst_sport_ltm</th>\n",
       "      <th>ct_dst_src_ltm</th>\n",
       "      <th>is_ftp_login</th>\n",
       "      <th>ct_ftp_cmd</th>\n",
       "      <th>ct_flw_http_mthd</th>\n",
       "      <th>ct_src_ltm</th>\n",
       "      <th>ct_srv_dst</th>\n",
       "      <th>is_sm_ips_ports</th>\n",
       "    </tr>\n",
       "  </thead>\n",
       "  <tbody>\n",
       "    <tr>\n",
       "      <th>count</th>\n",
       "      <td>175341.000000</td>\n",
       "      <td>175341.000000</td>\n",
       "      <td>175341.000000</td>\n",
       "      <td>175341.000000</td>\n",
       "      <td>1.753410e+05</td>\n",
       "      <td>1.753410e+05</td>\n",
       "      <td>1.753410e+05</td>\n",
       "      <td>175341.000000</td>\n",
       "      <td>175341.000000</td>\n",
       "      <td>1.753410e+05</td>\n",
       "      <td>...</td>\n",
       "      <td>175341.000000</td>\n",
       "      <td>175341.000000</td>\n",
       "      <td>175341.000000</td>\n",
       "      <td>175341.000000</td>\n",
       "      <td>175341.000000</td>\n",
       "      <td>175341.000000</td>\n",
       "      <td>175341.000000</td>\n",
       "      <td>175341.000000</td>\n",
       "      <td>175341.000000</td>\n",
       "      <td>175341.000000</td>\n",
       "    </tr>\n",
       "    <tr>\n",
       "      <th>mean</th>\n",
       "      <td>87671.000000</td>\n",
       "      <td>1.359389</td>\n",
       "      <td>20.298664</td>\n",
       "      <td>18.969591</td>\n",
       "      <td>8.844844e+03</td>\n",
       "      <td>1.492892e+04</td>\n",
       "      <td>9.540619e+04</td>\n",
       "      <td>179.546997</td>\n",
       "      <td>79.609567</td>\n",
       "      <td>7.345403e+07</td>\n",
       "      <td>...</td>\n",
       "      <td>6.193936</td>\n",
       "      <td>5.383538</td>\n",
       "      <td>4.206255</td>\n",
       "      <td>8.729881</td>\n",
       "      <td>0.014948</td>\n",
       "      <td>0.014948</td>\n",
       "      <td>0.133066</td>\n",
       "      <td>6.955789</td>\n",
       "      <td>9.100758</td>\n",
       "      <td>0.015752</td>\n",
       "    </tr>\n",
       "    <tr>\n",
       "      <th>std</th>\n",
       "      <td>50616.731112</td>\n",
       "      <td>6.480249</td>\n",
       "      <td>136.887597</td>\n",
       "      <td>110.258271</td>\n",
       "      <td>1.747656e+05</td>\n",
       "      <td>1.436542e+05</td>\n",
       "      <td>1.654010e+05</td>\n",
       "      <td>102.940011</td>\n",
       "      <td>110.506863</td>\n",
       "      <td>1.883574e+08</td>\n",
       "      <td>...</td>\n",
       "      <td>8.052476</td>\n",
       "      <td>8.047104</td>\n",
       "      <td>5.783585</td>\n",
       "      <td>10.956186</td>\n",
       "      <td>0.126048</td>\n",
       "      <td>0.126048</td>\n",
       "      <td>0.701208</td>\n",
       "      <td>8.321493</td>\n",
       "      <td>10.756952</td>\n",
       "      <td>0.124516</td>\n",
       "    </tr>\n",
       "    <tr>\n",
       "      <th>min</th>\n",
       "      <td>1.000000</td>\n",
       "      <td>0.000000</td>\n",
       "      <td>1.000000</td>\n",
       "      <td>0.000000</td>\n",
       "      <td>2.800000e+01</td>\n",
       "      <td>0.000000e+00</td>\n",
       "      <td>0.000000e+00</td>\n",
       "      <td>0.000000</td>\n",
       "      <td>0.000000</td>\n",
       "      <td>0.000000e+00</td>\n",
       "      <td>...</td>\n",
       "      <td>1.000000</td>\n",
       "      <td>1.000000</td>\n",
       "      <td>1.000000</td>\n",
       "      <td>1.000000</td>\n",
       "      <td>0.000000</td>\n",
       "      <td>0.000000</td>\n",
       "      <td>0.000000</td>\n",
       "      <td>1.000000</td>\n",
       "      <td>1.000000</td>\n",
       "      <td>0.000000</td>\n",
       "    </tr>\n",
       "    <tr>\n",
       "      <th>25%</th>\n",
       "      <td>43836.000000</td>\n",
       "      <td>0.000008</td>\n",
       "      <td>2.000000</td>\n",
       "      <td>0.000000</td>\n",
       "      <td>1.140000e+02</td>\n",
       "      <td>0.000000e+00</td>\n",
       "      <td>3.278614e+01</td>\n",
       "      <td>62.000000</td>\n",
       "      <td>0.000000</td>\n",
       "      <td>1.305334e+04</td>\n",
       "      <td>...</td>\n",
       "      <td>1.000000</td>\n",
       "      <td>1.000000</td>\n",
       "      <td>1.000000</td>\n",
       "      <td>1.000000</td>\n",
       "      <td>0.000000</td>\n",
       "      <td>0.000000</td>\n",
       "      <td>0.000000</td>\n",
       "      <td>2.000000</td>\n",
       "      <td>2.000000</td>\n",
       "      <td>0.000000</td>\n",
       "    </tr>\n",
       "    <tr>\n",
       "      <th>50%</th>\n",
       "      <td>87671.000000</td>\n",
       "      <td>0.001582</td>\n",
       "      <td>2.000000</td>\n",
       "      <td>2.000000</td>\n",
       "      <td>4.300000e+02</td>\n",
       "      <td>1.640000e+02</td>\n",
       "      <td>3.225807e+03</td>\n",
       "      <td>254.000000</td>\n",
       "      <td>29.000000</td>\n",
       "      <td>8.796748e+05</td>\n",
       "      <td>...</td>\n",
       "      <td>2.000000</td>\n",
       "      <td>1.000000</td>\n",
       "      <td>1.000000</td>\n",
       "      <td>3.000000</td>\n",
       "      <td>0.000000</td>\n",
       "      <td>0.000000</td>\n",
       "      <td>0.000000</td>\n",
       "      <td>3.000000</td>\n",
       "      <td>4.000000</td>\n",
       "      <td>0.000000</td>\n",
       "    </tr>\n",
       "    <tr>\n",
       "      <th>75%</th>\n",
       "      <td>131506.000000</td>\n",
       "      <td>0.668069</td>\n",
       "      <td>12.000000</td>\n",
       "      <td>10.000000</td>\n",
       "      <td>1.418000e+03</td>\n",
       "      <td>1.102000e+03</td>\n",
       "      <td>1.250000e+05</td>\n",
       "      <td>254.000000</td>\n",
       "      <td>252.000000</td>\n",
       "      <td>8.888889e+07</td>\n",
       "      <td>...</td>\n",
       "      <td>7.000000</td>\n",
       "      <td>5.000000</td>\n",
       "      <td>3.000000</td>\n",
       "      <td>12.000000</td>\n",
       "      <td>0.000000</td>\n",
       "      <td>0.000000</td>\n",
       "      <td>0.000000</td>\n",
       "      <td>9.000000</td>\n",
       "      <td>12.000000</td>\n",
       "      <td>0.000000</td>\n",
       "    </tr>\n",
       "    <tr>\n",
       "      <th>max</th>\n",
       "      <td>175341.000000</td>\n",
       "      <td>59.999989</td>\n",
       "      <td>9616.000000</td>\n",
       "      <td>10974.000000</td>\n",
       "      <td>1.296523e+07</td>\n",
       "      <td>1.465555e+07</td>\n",
       "      <td>1.000000e+06</td>\n",
       "      <td>255.000000</td>\n",
       "      <td>254.000000</td>\n",
       "      <td>5.988000e+09</td>\n",
       "      <td>...</td>\n",
       "      <td>51.000000</td>\n",
       "      <td>51.000000</td>\n",
       "      <td>46.000000</td>\n",
       "      <td>65.000000</td>\n",
       "      <td>4.000000</td>\n",
       "      <td>4.000000</td>\n",
       "      <td>30.000000</td>\n",
       "      <td>60.000000</td>\n",
       "      <td>62.000000</td>\n",
       "      <td>1.000000</td>\n",
       "    </tr>\n",
       "  </tbody>\n",
       "</table>\n",
       "<p>8 rows × 40 columns</p>\n",
       "</div>\n",
       "      <button class=\"colab-df-convert\" onclick=\"convertToInteractive('df-f83811d5-ba37-4f32-867c-e715dc748aa3')\"\n",
       "              title=\"Convert this dataframe to an interactive table.\"\n",
       "              style=\"display:none;\">\n",
       "\n",
       "  <svg xmlns=\"http://www.w3.org/2000/svg\" height=\"24px\"viewBox=\"0 0 24 24\"\n",
       "       width=\"24px\">\n",
       "    <path d=\"M0 0h24v24H0V0z\" fill=\"none\"/>\n",
       "    <path d=\"M18.56 5.44l.94 2.06.94-2.06 2.06-.94-2.06-.94-.94-2.06-.94 2.06-2.06.94zm-11 1L8.5 8.5l.94-2.06 2.06-.94-2.06-.94L8.5 2.5l-.94 2.06-2.06.94zm10 10l.94 2.06.94-2.06 2.06-.94-2.06-.94-.94-2.06-.94 2.06-2.06.94z\"/><path d=\"M17.41 7.96l-1.37-1.37c-.4-.4-.92-.59-1.43-.59-.52 0-1.04.2-1.43.59L10.3 9.45l-7.72 7.72c-.78.78-.78 2.05 0 2.83L4 21.41c.39.39.9.59 1.41.59.51 0 1.02-.2 1.41-.59l7.78-7.78 2.81-2.81c.8-.78.8-2.07 0-2.86zM5.41 20L4 18.59l7.72-7.72 1.47 1.35L5.41 20z\"/>\n",
       "  </svg>\n",
       "      </button>\n",
       "\n",
       "\n",
       "\n",
       "    <div id=\"df-649a1980-350c-44d7-9429-e528fa4d151b\">\n",
       "      <button class=\"colab-df-quickchart\" onclick=\"quickchart('df-649a1980-350c-44d7-9429-e528fa4d151b')\"\n",
       "              title=\"Suggest charts.\"\n",
       "              style=\"display:none;\">\n",
       "\n",
       "<svg xmlns=\"http://www.w3.org/2000/svg\" height=\"24px\"viewBox=\"0 0 24 24\"\n",
       "     width=\"24px\">\n",
       "    <g>\n",
       "        <path d=\"M19 3H5c-1.1 0-2 .9-2 2v14c0 1.1.9 2 2 2h14c1.1 0 2-.9 2-2V5c0-1.1-.9-2-2-2zM9 17H7v-7h2v7zm4 0h-2V7h2v10zm4 0h-2v-4h2v4z\"/>\n",
       "    </g>\n",
       "</svg>\n",
       "      </button>\n",
       "    </div>\n",
       "\n",
       "<style>\n",
       "  .colab-df-quickchart {\n",
       "    background-color: #E8F0FE;\n",
       "    border: none;\n",
       "    border-radius: 50%;\n",
       "    cursor: pointer;\n",
       "    display: none;\n",
       "    fill: #1967D2;\n",
       "    height: 32px;\n",
       "    padding: 0 0 0 0;\n",
       "    width: 32px;\n",
       "  }\n",
       "\n",
       "  .colab-df-quickchart:hover {\n",
       "    background-color: #E2EBFA;\n",
       "    box-shadow: 0px 1px 2px rgba(60, 64, 67, 0.3), 0px 1px 3px 1px rgba(60, 64, 67, 0.15);\n",
       "    fill: #174EA6;\n",
       "  }\n",
       "\n",
       "  [theme=dark] .colab-df-quickchart {\n",
       "    background-color: #3B4455;\n",
       "    fill: #D2E3FC;\n",
       "  }\n",
       "\n",
       "  [theme=dark] .colab-df-quickchart:hover {\n",
       "    background-color: #434B5C;\n",
       "    box-shadow: 0px 1px 3px 1px rgba(0, 0, 0, 0.15);\n",
       "    filter: drop-shadow(0px 1px 2px rgba(0, 0, 0, 0.3));\n",
       "    fill: #FFFFFF;\n",
       "  }\n",
       "</style>\n",
       "\n",
       "    <script>\n",
       "      async function quickchart(key) {\n",
       "        const containerElement = document.querySelector('#' + key);\n",
       "        const charts = await google.colab.kernel.invokeFunction(\n",
       "            'suggestCharts', [key], {});\n",
       "      }\n",
       "    </script>\n",
       "\n",
       "      <script>\n",
       "\n",
       "function displayQuickchartButton(domScope) {\n",
       "  let quickchartButtonEl =\n",
       "    domScope.querySelector('#df-649a1980-350c-44d7-9429-e528fa4d151b button.colab-df-quickchart');\n",
       "  quickchartButtonEl.style.display =\n",
       "    google.colab.kernel.accessAllowed ? 'block' : 'none';\n",
       "}\n",
       "\n",
       "        displayQuickchartButton(document);\n",
       "      </script>\n",
       "      <style>\n",
       "    .colab-df-container {\n",
       "      display:flex;\n",
       "      flex-wrap:wrap;\n",
       "      gap: 12px;\n",
       "    }\n",
       "\n",
       "    .colab-df-convert {\n",
       "      background-color: #E8F0FE;\n",
       "      border: none;\n",
       "      border-radius: 50%;\n",
       "      cursor: pointer;\n",
       "      display: none;\n",
       "      fill: #1967D2;\n",
       "      height: 32px;\n",
       "      padding: 0 0 0 0;\n",
       "      width: 32px;\n",
       "    }\n",
       "\n",
       "    .colab-df-convert:hover {\n",
       "      background-color: #E2EBFA;\n",
       "      box-shadow: 0px 1px 2px rgba(60, 64, 67, 0.3), 0px 1px 3px 1px rgba(60, 64, 67, 0.15);\n",
       "      fill: #174EA6;\n",
       "    }\n",
       "\n",
       "    [theme=dark] .colab-df-convert {\n",
       "      background-color: #3B4455;\n",
       "      fill: #D2E3FC;\n",
       "    }\n",
       "\n",
       "    [theme=dark] .colab-df-convert:hover {\n",
       "      background-color: #434B5C;\n",
       "      box-shadow: 0px 1px 3px 1px rgba(0, 0, 0, 0.15);\n",
       "      filter: drop-shadow(0px 1px 2px rgba(0, 0, 0, 0.3));\n",
       "      fill: #FFFFFF;\n",
       "    }\n",
       "  </style>\n",
       "\n",
       "      <script>\n",
       "        const buttonEl =\n",
       "          document.querySelector('#df-f83811d5-ba37-4f32-867c-e715dc748aa3 button.colab-df-convert');\n",
       "        buttonEl.style.display =\n",
       "          google.colab.kernel.accessAllowed ? 'block' : 'none';\n",
       "\n",
       "        async function convertToInteractive(key) {\n",
       "          const element = document.querySelector('#df-f83811d5-ba37-4f32-867c-e715dc748aa3');\n",
       "          const dataTable =\n",
       "            await google.colab.kernel.invokeFunction('convertToInteractive',\n",
       "                                                     [key], {});\n",
       "          if (!dataTable) return;\n",
       "\n",
       "          const docLinkHtml = 'Like what you see? Visit the ' +\n",
       "            '<a target=\"_blank\" href=https://colab.research.google.com/notebooks/data_table.ipynb>data table notebook</a>'\n",
       "            + ' to learn more about interactive tables.';\n",
       "          element.innerHTML = '';\n",
       "          dataTable['output_type'] = 'display_data';\n",
       "          await google.colab.output.renderOutput(dataTable, element);\n",
       "          const docLink = document.createElement('div');\n",
       "          docLink.innerHTML = docLinkHtml;\n",
       "          element.appendChild(docLink);\n",
       "        }\n",
       "      </script>\n",
       "    </div>\n",
       "  </div>\n"
      ],
      "text/plain": [
       "                  id            dur          spkts          dpkts  \\\n",
       "count  175341.000000  175341.000000  175341.000000  175341.000000   \n",
       "mean    87671.000000       1.359389      20.298664      18.969591   \n",
       "std     50616.731112       6.480249     136.887597     110.258271   \n",
       "min         1.000000       0.000000       1.000000       0.000000   \n",
       "25%     43836.000000       0.000008       2.000000       0.000000   \n",
       "50%     87671.000000       0.001582       2.000000       2.000000   \n",
       "75%    131506.000000       0.668069      12.000000      10.000000   \n",
       "max    175341.000000      59.999989    9616.000000   10974.000000   \n",
       "\n",
       "             sbytes        dbytes          rate           sttl           dttl  \\\n",
       "count  1.753410e+05  1.753410e+05  1.753410e+05  175341.000000  175341.000000   \n",
       "mean   8.844844e+03  1.492892e+04  9.540619e+04     179.546997      79.609567   \n",
       "std    1.747656e+05  1.436542e+05  1.654010e+05     102.940011     110.506863   \n",
       "min    2.800000e+01  0.000000e+00  0.000000e+00       0.000000       0.000000   \n",
       "25%    1.140000e+02  0.000000e+00  3.278614e+01      62.000000       0.000000   \n",
       "50%    4.300000e+02  1.640000e+02  3.225807e+03     254.000000      29.000000   \n",
       "75%    1.418000e+03  1.102000e+03  1.250000e+05     254.000000     252.000000   \n",
       "max    1.296523e+07  1.465555e+07  1.000000e+06     255.000000     254.000000   \n",
       "\n",
       "              sload  ...     ct_dst_ltm  ct_src_dport_ltm  ct_dst_sport_ltm  \\\n",
       "count  1.753410e+05  ...  175341.000000     175341.000000     175341.000000   \n",
       "mean   7.345403e+07  ...       6.193936          5.383538          4.206255   \n",
       "std    1.883574e+08  ...       8.052476          8.047104          5.783585   \n",
       "min    0.000000e+00  ...       1.000000          1.000000          1.000000   \n",
       "25%    1.305334e+04  ...       1.000000          1.000000          1.000000   \n",
       "50%    8.796748e+05  ...       2.000000          1.000000          1.000000   \n",
       "75%    8.888889e+07  ...       7.000000          5.000000          3.000000   \n",
       "max    5.988000e+09  ...      51.000000         51.000000         46.000000   \n",
       "\n",
       "       ct_dst_src_ltm   is_ftp_login     ct_ftp_cmd  ct_flw_http_mthd  \\\n",
       "count   175341.000000  175341.000000  175341.000000     175341.000000   \n",
       "mean         8.729881       0.014948       0.014948          0.133066   \n",
       "std         10.956186       0.126048       0.126048          0.701208   \n",
       "min          1.000000       0.000000       0.000000          0.000000   \n",
       "25%          1.000000       0.000000       0.000000          0.000000   \n",
       "50%          3.000000       0.000000       0.000000          0.000000   \n",
       "75%         12.000000       0.000000       0.000000          0.000000   \n",
       "max         65.000000       4.000000       4.000000         30.000000   \n",
       "\n",
       "          ct_src_ltm     ct_srv_dst  is_sm_ips_ports  \n",
       "count  175341.000000  175341.000000    175341.000000  \n",
       "mean        6.955789       9.100758         0.015752  \n",
       "std         8.321493      10.756952         0.124516  \n",
       "min         1.000000       1.000000         0.000000  \n",
       "25%         2.000000       2.000000         0.000000  \n",
       "50%         3.000000       4.000000         0.000000  \n",
       "75%         9.000000      12.000000         0.000000  \n",
       "max        60.000000      62.000000         1.000000  \n",
       "\n",
       "[8 rows x 40 columns]"
      ]
     },
     "execution_count": 9,
     "metadata": {},
     "output_type": "execute_result"
    }
   ],
   "source": [
    "df.describe()"
   ]
  },
  {
   "cell_type": "code",
   "execution_count": 10,
   "id": "6254294a",
   "metadata": {
    "colab": {
     "base_uri": "https://localhost:8080/",
     "height": 547
    },
    "id": "6254294a",
    "outputId": "0add6831-ee73-41fe-8d5e-a267e72affe9",
    "scrolled": true
   },
   "outputs": [
    {
     "data": {
      "image/png": "[encoded data removed]",
      "text/plain": [
       "<Figure size 640x480 with 1 Axes>"
      ]
     },
     "metadata": {},
     "output_type": "display_data"
    }
   ],
   "source": [
    "# Data class bar chartا\n",
    "df['attack_cat'].value_counts().plot(kind='bar')\n",
    "plt.xlabel('attack_cat')\n",
    "plt.ylabel('Count')\n",
    "plt.show()"
   ]
  },
  {
   "cell_type": "markdown",
   "id": "1d5b6704",
   "metadata": {
    "id": "1d5b6704"
   },
   "source": [
    "# ------------------------------------------------"
   ]
  },
  {
   "cell_type": "markdown",
   "id": "50176b03",
   "metadata": {
    "id": "50176b03"
   },
   "source": [
    "# PreProccessing"
   ]
  },
  {
   "cell_type": "code",
   "execution_count": 11,
   "id": "a57fc18b",
   "metadata": {
    "id": "a57fc18b"
   },
   "outputs": [],
   "source": [
    "#We remove duplicate, undefined, etc. data from the data set."
   ]
  },
  {
   "cell_type": "code",
   "execution_count": 12,
   "id": "493ab2be",
   "metadata": {
    "id": "493ab2be"
   },
   "outputs": [],
   "source": [
    "df.drop(\"id\", axis = 1 , inplace = True)"
   ]
  },
  {
   "cell_type": "code",
   "execution_count": 13,
   "id": "9d345dfd",
   "metadata": {
    "id": "9d345dfd"
   },
   "outputs": [],
   "source": [
    "df2.drop(\"id\", axis = 1 , inplace = True)"
   ]
  },
  {
   "cell_type": "code",
   "execution_count": 14,
   "id": "dc560abf",
   "metadata": {
    "colab": {
     "base_uri": "https://localhost:8080/"
    },
    "id": "dc560abf",
    "outputId": "db1d4e8d-a948-4522-8d77-9dffc4dc0549"
   },
   "outputs": [
    {
     "data": {
      "text/plain": [
       "67601"
      ]
     },
     "execution_count": 14,
     "metadata": {},
     "output_type": "execute_result"
    }
   ],
   "source": [
    "df.duplicated().sum()"
   ]
  },
  {
   "cell_type": "code",
   "execution_count": 15,
   "id": "48751f8e",
   "metadata": {
    "id": "48751f8e"
   },
   "outputs": [],
   "source": [
    "df = df.drop_duplicates()"
   ]
  },
  {
   "cell_type": "code",
   "execution_count": 16,
   "id": "2765011f",
   "metadata": {
    "colab": {
     "base_uri": "https://localhost:8080/"
    },
    "id": "2765011f",
    "outputId": "ff100135-81f3-4f9e-be93-239fdd3962d8"
   },
   "outputs": [
    {
     "data": {
      "text/plain": [
       "(107740, 43)"
      ]
     },
     "execution_count": 16,
     "metadata": {},
     "output_type": "execute_result"
    }
   ],
   "source": [
    "df.shape"
   ]
  },
  {
   "cell_type": "code",
   "execution_count": 17,
   "id": "a3c6b2b4",
   "metadata": {
    "colab": {
     "base_uri": "https://localhost:8080/"
    },
    "id": "a3c6b2b4",
    "outputId": "a388e2d5-28b2-4afd-fa62-82ba4421d3d8"
   },
   "outputs": [
    {
     "data": {
      "text/plain": [
       "0"
      ]
     },
     "execution_count": 17,
     "metadata": {},
     "output_type": "execute_result"
    }
   ],
   "source": [
    "df.isnull().sum().sum()  #Do we have null data?"
   ]
  },
  {
   "cell_type": "code",
   "execution_count": 18,
   "id": "1f1cb8b8",
   "metadata": {
    "colab": {
     "base_uri": "https://localhost:8080/"
    },
    "id": "1f1cb8b8",
    "outputId": "344f8719-f084-43fc-d830-d413813ae9a2"
   },
   "outputs": [
    {
     "data": {
      "text/plain": [
       "0"
      ]
     },
     "execution_count": 18,
     "metadata": {},
     "output_type": "execute_result"
    }
   ],
   "source": [
    "df.isna().sum().sum()"
   ]
  },
  {
   "cell_type": "code",
   "execution_count": 19,
   "id": "973c5115",
   "metadata": {
    "colab": {
     "base_uri": "https://localhost:8080/",
     "height": 707
    },
    "id": "973c5115",
    "outputId": "0480d3c3-9a73-48e5-b481-1447e489e5b6"
   },
   "outputs": [
    {
     "data": {
      "image/png": "[encoded data removed]",
      "text/plain": [
       "<Figure size 5000x3000 with 42 Axes>"
      ]
     },
     "metadata": {},
     "output_type": "display_data"
    }
   ],
   "source": [
    "params = {'axes.titlesize':'28',\n",
    "          'xtick.labelsize':'24',\n",
    "          'ytick.labelsize':'24'}\n",
    "matplotlib.rcParams.update(params)\n",
    "df.hist(figsize=(50, 30), bins=20)\n",
    "plt.show()\n"
   ]
  },
  {
   "cell_type": "markdown",
   "id": "96b95582",
   "metadata": {
    "id": "96b95582"
   },
   "source": [
    "# ----------------------------------------------"
   ]
  },
  {
   "cell_type": "markdown",
   "id": "1b7ff7f3",
   "metadata": {
    "id": "1b7ff7f3"
   },
   "source": [
    "# minority removal"
   ]
  },
  {
   "cell_type": "code",
   "execution_count": 20,
   "id": "27f5d52d",
   "metadata": {
    "colab": {
     "base_uri": "https://localhost:8080/"
    },
    "id": "27f5d52d",
    "outputId": "43bcb690-dcc8-47a8-c789-8da875c3b7ca",
    "scrolled": true
   },
   "outputs": [
    {
     "data": {
      "text/plain": [
       "Normal            51890\n",
       "Exploits          19844\n",
       "Fuzzers           16150\n",
       "Reconnaissance     7522\n",
       "Generic            4181\n",
       "DoS                3806\n",
       "Analysis           1594\n",
       "Backdoor           1535\n",
       "Shellcode          1091\n",
       "Worms               127\n",
       "Name: attack_cat, dtype: int64"
      ]
     },
     "execution_count": 20,
     "metadata": {},
     "output_type": "execute_result"
    }
   ],
   "source": [
    "df.attack_cat.value_counts()   # It is clear that the classes are unbalanced."
   ]
  },
  {
   "cell_type": "code",
   "execution_count": 21,
   "id": "1c7aebbb",
   "metadata": {
    "colab": {
     "base_uri": "https://localhost:8080/"
    },
    "id": "1c7aebbb",
    "outputId": "baae26d8-c4fe-4503-98ad-fbc7ac34ba0e"
   },
   "outputs": [
    {
     "data": {
      "text/plain": [
       "Normal            37000\n",
       "Generic           18871\n",
       "Exploits          11132\n",
       "Fuzzers            6062\n",
       "DoS                4089\n",
       "Reconnaissance     3496\n",
       "Analysis            677\n",
       "Backdoor            583\n",
       "Shellcode           378\n",
       "Worms                44\n",
       "Name: attack_cat, dtype: int64"
      ]
     },
     "execution_count": 21,
     "metadata": {},
     "output_type": "execute_result"
    }
   ],
   "source": [
    "df2.attack_cat.value_counts()"
   ]
  },
  {
   "cell_type": "code",
   "execution_count": 22,
   "id": "2748979e",
   "metadata": {
    "colab": {
     "base_uri": "https://localhost:8080/"
    },
    "id": "2748979e",
    "outputId": "06abaf39-a940-45db-f923-7c8bf8066782"
   },
   "outputs": [
    {
     "data": {
      "text/plain": [
       "(107740, 43)"
      ]
     },
     "execution_count": 22,
     "metadata": {},
     "output_type": "execute_result"
    }
   ],
   "source": [
    "df.shape"
   ]
  },
  {
   "cell_type": "code",
   "execution_count": 23,
   "id": "ee68334e",
   "metadata": {
    "colab": {
     "base_uri": "https://localhost:8080/"
    },
    "id": "ee68334e",
    "outputId": "c46cc209-bbb5-4055-ae72-36268e70848b"
   },
   "outputs": [
    {
     "data": {
      "text/plain": [
       "(82332, 43)"
      ]
     },
     "execution_count": 23,
     "metadata": {},
     "output_type": "execute_result"
    }
   ],
   "source": [
    "df2.shape"
   ]
  },
  {
   "cell_type": "code",
   "execution_count": 24,
   "id": "7085a16e",
   "metadata": {
    "id": "7085a16e"
   },
   "outputs": [],
   "source": [
    "minority_labels = ['Analysis','Backdoor','Shellcode','Worms']\n",
    "\n",
    "# We identify the minority classes in order to remove the data with these labels from the data set in the next steps."
   ]
  },
  {
   "cell_type": "code",
   "execution_count": 25,
   "id": "dc198950",
   "metadata": {
    "id": "dc198950"
   },
   "outputs": [],
   "source": [
    "for i in range(4):\n",
    "    df = df[df['attack_cat'] != minority_labels[i]]\n",
    "\n",
    "#Eliminating the minority class in the training data set"
   ]
  },
  {
   "cell_type": "code",
   "execution_count": 26,
   "id": "3b7d1ce0",
   "metadata": {
    "id": "3b7d1ce0"
   },
   "outputs": [],
   "source": [
    "for i in range(4):\n",
    "    df2 = df2[df2['attack_cat'] != minority_labels[i]]\n",
    "\n",
    "#Removing the minority class in the test data set"
   ]
  },
  {
   "cell_type": "code",
   "execution_count": 27,
   "id": "e5b6c5f7",
   "metadata": {
    "colab": {
     "base_uri": "https://localhost:8080/"
    },
    "id": "e5b6c5f7",
    "outputId": "b614cbb8-9906-415e-ee70-e276bd781236"
   },
   "outputs": [
    {
     "data": {
      "text/plain": [
       "(103393, 43)"
      ]
     },
     "execution_count": 27,
     "metadata": {},
     "output_type": "execute_result"
    }
   ],
   "source": [
    "df.shape"
   ]
  },
  {
   "cell_type": "code",
   "execution_count": 28,
   "id": "944ec79e",
   "metadata": {
    "colab": {
     "base_uri": "https://localhost:8080/"
    },
    "id": "944ec79e",
    "outputId": "6216e5e8-e96e-4f33-b9b9-ae3ca04b51c5"
   },
   "outputs": [
    {
     "data": {
      "text/plain": [
       "(80650, 43)"
      ]
     },
     "execution_count": 28,
     "metadata": {},
     "output_type": "execute_result"
    }
   ],
   "source": [
    "df2.shape"
   ]
  },
  {
   "cell_type": "code",
   "execution_count": 29,
   "id": "fea52b46",
   "metadata": {
    "colab": {
     "base_uri": "https://localhost:8080/"
    },
    "id": "fea52b46",
    "outputId": "291e1ed3-6f2a-485f-ce72-11160f0ae3d6"
   },
   "outputs": [
    {
     "data": {
      "text/plain": [
       "Normal            51890\n",
       "Exploits          19844\n",
       "Fuzzers           16150\n",
       "Reconnaissance     7522\n",
       "Generic            4181\n",
       "DoS                3806\n",
       "Name: attack_cat, dtype: int64"
      ]
     },
     "execution_count": 29,
     "metadata": {},
     "output_type": "execute_result"
    }
   ],
   "source": [
    "df.attack_cat.value_counts()    #The number of samples of each class after removing the minority classes"
   ]
  },
  {
   "cell_type": "code",
   "execution_count": 30,
   "id": "7c54d396",
   "metadata": {
    "colab": {
     "base_uri": "https://localhost:8080/",
     "height": 704
    },
    "id": "7c54d396",
    "outputId": "6782a63b-9845-4945-d58c-f2063d470c0f"
   },
   "outputs": [
    {
     "data": {
      "image/png": "[encoded data removed]",
      "text/plain": [
       "<Figure size 640x480 with 1 Axes>"
      ]
     },
     "metadata": {},
     "output_type": "display_data"
    }
   ],
   "source": [
    "df['attack_cat'].value_counts().plot(kind='bar')\n",
    "plt.xlabel('attack_cat')\n",
    "plt.ylabel('Count')\n",
    "plt.show()"
   ]
  },
  {
   "cell_type": "markdown",
   "id": "001f0445",
   "metadata": {
    "id": "001f0445"
   },
   "source": [
    "# --------------------------------------"
   ]
  },
  {
   "cell_type": "markdown",
   "id": "5e7fa17e",
   "metadata": {
    "id": "5e7fa17e"
   },
   "source": [
    "# Convert Categorical to Numerical"
   ]
  },
  {
   "cell_type": "code",
   "execution_count": 31,
   "id": "6a61060f",
   "metadata": {
    "id": "6a61060f"
   },
   "outputs": [],
   "source": [
    "#We convert categorical data into numerical data so that we can fit the models on the data"
   ]
  },
  {
   "cell_type": "code",
   "execution_count": 32,
   "id": "c7eaa561",
   "metadata": {
    "id": "c7eaa561"
   },
   "outputs": [],
   "source": [
    "from sklearn.preprocessing import LabelEncoder"
   ]
  },
  {
   "cell_type": "code",
   "execution_count": 33,
   "id": "e624e70c",
   "metadata": {
    "colab": {
     "base_uri": "https://localhost:8080/"
    },
    "id": "e624e70c",
    "outputId": "3a48c93c-c4c6-4027-d993-f02b3ba7a1c7"
   },
   "outputs": [
    {
     "name": "stdout",
     "output_type": "stream",
     "text": [
      "The categorical variables are : ['proto', 'service', 'state', 'attack_cat']\n"
     ]
    }
   ],
   "source": [
    "categorical = [var for var in df.columns if df[var].dtype=='O']\n",
    "print('The categorical variables are :', categorical)\n",
    "#We find features with categorical values."
   ]
  },
  {
   "cell_type": "code",
   "execution_count": 34,
   "id": "6faa4221",
   "metadata": {
    "id": "6faa4221"
   },
   "outputs": [],
   "source": [
    "label_encoder = LabelEncoder()\n",
    "for column in categorical:\n",
    "    df[column] = label_encoder.fit_transform(df[column])\n",
    "\n",
    "#Convert categorical to numerical"
   ]
  },
  {
   "cell_type": "code",
   "execution_count": 35,
   "id": "793398e2",
   "metadata": {
    "id": "793398e2"
   },
   "outputs": [],
   "source": [
    "label_encoder = LabelEncoder()\n",
    "for column in categorical:\n",
    "    df2[column] = label_encoder.fit_transform(df2[column])"
   ]
  },
  {
   "cell_type": "code",
   "execution_count": 36,
   "id": "40a700de",
   "metadata": {
    "colab": {
     "base_uri": "https://localhost:8080/",
     "height": 300
    },
    "id": "40a700de",
    "outputId": "878c503f-b70a-42e0-dad5-b868f7ce8ce7",
    "scrolled": true
   },
   "outputs": [
    {
     "data": {
      "text/html": [
       "\n",
       "\n",
       "  <div id=\"df-f0d2518c-43b2-48ba-9823-6fefce714049\">\n",
       "    <div class=\"colab-df-container\">\n",
       "      <div>\n",
       "<style scoped>\n",
       "    .dataframe tbody tr th:only-of-type {\n",
       "        vertical-align: middle;\n",
       "    }\n",
       "\n",
       "    .dataframe tbody tr th {\n",
       "        vertical-align: top;\n",
       "    }\n",
       "\n",
       "    .dataframe thead th {\n",
       "        text-align: right;\n",
       "    }\n",
       "</style>\n",
       "<table border=\"1\" class=\"dataframe\">\n",
       "  <thead>\n",
       "    <tr style=\"text-align: right;\">\n",
       "      <th></th>\n",
       "      <th>dur</th>\n",
       "      <th>proto</th>\n",
       "      <th>service</th>\n",
       "      <th>state</th>\n",
       "      <th>spkts</th>\n",
       "      <th>dpkts</th>\n",
       "      <th>sbytes</th>\n",
       "      <th>dbytes</th>\n",
       "      <th>rate</th>\n",
       "      <th>sttl</th>\n",
       "      <th>...</th>\n",
       "      <th>ct_src_dport_ltm</th>\n",
       "      <th>ct_dst_sport_ltm</th>\n",
       "      <th>ct_dst_src_ltm</th>\n",
       "      <th>is_ftp_login</th>\n",
       "      <th>ct_ftp_cmd</th>\n",
       "      <th>ct_flw_http_mthd</th>\n",
       "      <th>ct_src_ltm</th>\n",
       "      <th>ct_srv_dst</th>\n",
       "      <th>is_sm_ips_ports</th>\n",
       "      <th>attack_cat</th>\n",
       "    </tr>\n",
       "  </thead>\n",
       "  <tbody>\n",
       "    <tr>\n",
       "      <th>0</th>\n",
       "      <td>0.121478</td>\n",
       "      <td>113</td>\n",
       "      <td>0</td>\n",
       "      <td>2</td>\n",
       "      <td>6</td>\n",
       "      <td>4</td>\n",
       "      <td>258</td>\n",
       "      <td>172</td>\n",
       "      <td>74.087490</td>\n",
       "      <td>252</td>\n",
       "      <td>...</td>\n",
       "      <td>1</td>\n",
       "      <td>1</td>\n",
       "      <td>1</td>\n",
       "      <td>0</td>\n",
       "      <td>0</td>\n",
       "      <td>0</td>\n",
       "      <td>1</td>\n",
       "      <td>1</td>\n",
       "      <td>0</td>\n",
       "      <td>4</td>\n",
       "    </tr>\n",
       "    <tr>\n",
       "      <th>1</th>\n",
       "      <td>0.649902</td>\n",
       "      <td>113</td>\n",
       "      <td>0</td>\n",
       "      <td>2</td>\n",
       "      <td>14</td>\n",
       "      <td>38</td>\n",
       "      <td>734</td>\n",
       "      <td>42014</td>\n",
       "      <td>78.473372</td>\n",
       "      <td>62</td>\n",
       "      <td>...</td>\n",
       "      <td>1</td>\n",
       "      <td>1</td>\n",
       "      <td>2</td>\n",
       "      <td>0</td>\n",
       "      <td>0</td>\n",
       "      <td>0</td>\n",
       "      <td>1</td>\n",
       "      <td>6</td>\n",
       "      <td>0</td>\n",
       "      <td>4</td>\n",
       "    </tr>\n",
       "    <tr>\n",
       "      <th>2</th>\n",
       "      <td>1.623129</td>\n",
       "      <td>113</td>\n",
       "      <td>0</td>\n",
       "      <td>2</td>\n",
       "      <td>8</td>\n",
       "      <td>16</td>\n",
       "      <td>364</td>\n",
       "      <td>13186</td>\n",
       "      <td>14.170161</td>\n",
       "      <td>62</td>\n",
       "      <td>...</td>\n",
       "      <td>1</td>\n",
       "      <td>1</td>\n",
       "      <td>3</td>\n",
       "      <td>0</td>\n",
       "      <td>0</td>\n",
       "      <td>0</td>\n",
       "      <td>2</td>\n",
       "      <td>6</td>\n",
       "      <td>0</td>\n",
       "      <td>4</td>\n",
       "    </tr>\n",
       "    <tr>\n",
       "      <th>3</th>\n",
       "      <td>1.681642</td>\n",
       "      <td>113</td>\n",
       "      <td>3</td>\n",
       "      <td>2</td>\n",
       "      <td>12</td>\n",
       "      <td>12</td>\n",
       "      <td>628</td>\n",
       "      <td>770</td>\n",
       "      <td>13.677108</td>\n",
       "      <td>62</td>\n",
       "      <td>...</td>\n",
       "      <td>1</td>\n",
       "      <td>1</td>\n",
       "      <td>3</td>\n",
       "      <td>1</td>\n",
       "      <td>1</td>\n",
       "      <td>0</td>\n",
       "      <td>2</td>\n",
       "      <td>1</td>\n",
       "      <td>0</td>\n",
       "      <td>4</td>\n",
       "    </tr>\n",
       "    <tr>\n",
       "      <th>4</th>\n",
       "      <td>0.449454</td>\n",
       "      <td>113</td>\n",
       "      <td>0</td>\n",
       "      <td>2</td>\n",
       "      <td>10</td>\n",
       "      <td>6</td>\n",
       "      <td>534</td>\n",
       "      <td>268</td>\n",
       "      <td>33.373826</td>\n",
       "      <td>254</td>\n",
       "      <td>...</td>\n",
       "      <td>2</td>\n",
       "      <td>1</td>\n",
       "      <td>40</td>\n",
       "      <td>0</td>\n",
       "      <td>0</td>\n",
       "      <td>0</td>\n",
       "      <td>2</td>\n",
       "      <td>39</td>\n",
       "      <td>0</td>\n",
       "      <td>4</td>\n",
       "    </tr>\n",
       "  </tbody>\n",
       "</table>\n",
       "<p>5 rows × 43 columns</p>\n",
       "</div>\n",
       "      <button class=\"colab-df-convert\" onclick=\"convertToInteractive('df-f0d2518c-43b2-48ba-9823-6fefce714049')\"\n",
       "              title=\"Convert this dataframe to an interactive table.\"\n",
       "              style=\"display:none;\">\n",
       "\n",
       "  <svg xmlns=\"http://www.w3.org/2000/svg\" height=\"24px\"viewBox=\"0 0 24 24\"\n",
       "       width=\"24px\">\n",
       "    <path d=\"M0 0h24v24H0V0z\" fill=\"none\"/>\n",
       "    <path d=\"M18.56 5.44l.94 2.06.94-2.06 2.06-.94-2.06-.94-.94-2.06-.94 2.06-2.06.94zm-11 1L8.5 8.5l.94-2.06 2.06-.94-2.06-.94L8.5 2.5l-.94 2.06-2.06.94zm10 10l.94 2.06.94-2.06 2.06-.94-2.06-.94-.94-2.06-.94 2.06-2.06.94z\"/><path d=\"M17.41 7.96l-1.37-1.37c-.4-.4-.92-.59-1.43-.59-.52 0-1.04.2-1.43.59L10.3 9.45l-7.72 7.72c-.78.78-.78 2.05 0 2.83L4 21.41c.39.39.9.59 1.41.59.51 0 1.02-.2 1.41-.59l7.78-7.78 2.81-2.81c.8-.78.8-2.07 0-2.86zM5.41 20L4 18.59l7.72-7.72 1.47 1.35L5.41 20z\"/>\n",
       "  </svg>\n",
       "      </button>\n",
       "\n",
       "\n",
       "\n",
       "    <div id=\"df-bcd073b1-3a08-48c7-8610-5fdc2650afa1\">\n",
       "      <button class=\"colab-df-quickchart\" onclick=\"quickchart('df-bcd073b1-3a08-48c7-8610-5fdc2650afa1')\"\n",
       "              title=\"Suggest charts.\"\n",
       "              style=\"display:none;\">\n",
       "\n",
       "<svg xmlns=\"http://www.w3.org/2000/svg\" height=\"24px\"viewBox=\"0 0 24 24\"\n",
       "     width=\"24px\">\n",
       "    <g>\n",
       "        <path d=\"M19 3H5c-1.1 0-2 .9-2 2v14c0 1.1.9 2 2 2h14c1.1 0 2-.9 2-2V5c0-1.1-.9-2-2-2zM9 17H7v-7h2v7zm4 0h-2V7h2v10zm4 0h-2v-4h2v4z\"/>\n",
       "    </g>\n",
       "</svg>\n",
       "      </button>\n",
       "    </div>\n",
       "\n",
       "<style>\n",
       "  .colab-df-quickchart {\n",
       "    background-color: #E8F0FE;\n",
       "    border: none;\n",
       "    border-radius: 50%;\n",
       "    cursor: pointer;\n",
       "    display: none;\n",
       "    fill: #1967D2;\n",
       "    height: 32px;\n",
       "    padding: 0 0 0 0;\n",
       "    width: 32px;\n",
       "  }\n",
       "\n",
       "  .colab-df-quickchart:hover {\n",
       "    background-color: #E2EBFA;\n",
       "    box-shadow: 0px 1px 2px rgba(60, 64, 67, 0.3), 0px 1px 3px 1px rgba(60, 64, 67, 0.15);\n",
       "    fill: #174EA6;\n",
       "  }\n",
       "\n",
       "  [theme=dark] .colab-df-quickchart {\n",
       "    background-color: #3B4455;\n",
       "    fill: #D2E3FC;\n",
       "  }\n",
       "\n",
       "  [theme=dark] .colab-df-quickchart:hover {\n",
       "    background-color: #434B5C;\n",
       "    box-shadow: 0px 1px 3px 1px rgba(0, 0, 0, 0.15);\n",
       "    filter: drop-shadow(0px 1px 2px rgba(0, 0, 0, 0.3));\n",
       "    fill: #FFFFFF;\n",
       "  }\n",
       "</style>\n",
       "\n",
       "    <script>\n",
       "      async function quickchart(key) {\n",
       "        const containerElement = document.querySelector('#' + key);\n",
       "        const charts = await google.colab.kernel.invokeFunction(\n",
       "            'suggestCharts', [key], {});\n",
       "      }\n",
       "    </script>\n",
       "\n",
       "      <script>\n",
       "\n",
       "function displayQuickchartButton(domScope) {\n",
       "  let quickchartButtonEl =\n",
       "    domScope.querySelector('#df-bcd073b1-3a08-48c7-8610-5fdc2650afa1 button.colab-df-quickchart');\n",
       "  quickchartButtonEl.style.display =\n",
       "    google.colab.kernel.accessAllowed ? 'block' : 'none';\n",
       "}\n",
       "\n",
       "        displayQuickchartButton(document);\n",
       "      </script>\n",
       "      <style>\n",
       "    .colab-df-container {\n",
       "      display:flex;\n",
       "      flex-wrap:wrap;\n",
       "      gap: 12px;\n",
       "    }\n",
       "\n",
       "    .colab-df-convert {\n",
       "      background-color: #E8F0FE;\n",
       "      border: none;\n",
       "      border-radius: 50%;\n",
       "      cursor: pointer;\n",
       "      display: none;\n",
       "      fill: #1967D2;\n",
       "      height: 32px;\n",
       "      padding: 0 0 0 0;\n",
       "      width: 32px;\n",
       "    }\n",
       "\n",
       "    .colab-df-convert:hover {\n",
       "      background-color: #E2EBFA;\n",
       "      box-shadow: 0px 1px 2px rgba(60, 64, 67, 0.3), 0px 1px 3px 1px rgba(60, 64, 67, 0.15);\n",
       "      fill: #174EA6;\n",
       "    }\n",
       "\n",
       "    [theme=dark] .colab-df-convert {\n",
       "      background-color: #3B4455;\n",
       "      fill: #D2E3FC;\n",
       "    }\n",
       "\n",
       "    [theme=dark] .colab-df-convert:hover {\n",
       "      background-color: #434B5C;\n",
       "      box-shadow: 0px 1px 3px 1px rgba(0, 0, 0, 0.15);\n",
       "      filter: drop-shadow(0px 1px 2px rgba(0, 0, 0, 0.3));\n",
       "      fill: #FFFFFF;\n",
       "    }\n",
       "  </style>\n",
       "\n",
       "      <script>\n",
       "        const buttonEl =\n",
       "          document.querySelector('#df-f0d2518c-43b2-48ba-9823-6fefce714049 button.colab-df-convert');\n",
       "        buttonEl.style.display =\n",
       "          google.colab.kernel.accessAllowed ? 'block' : 'none';\n",
       "\n",
       "        async function convertToInteractive(key) {\n",
       "          const element = document.querySelector('#df-f0d2518c-43b2-48ba-9823-6fefce714049');\n",
       "          const dataTable =\n",
       "            await google.colab.kernel.invokeFunction('convertToInteractive',\n",
       "                                                     [key], {});\n",
       "          if (!dataTable) return;\n",
       "\n",
       "          const docLinkHtml = 'Like what you see? Visit the ' +\n",
       "            '<a target=\"_blank\" href=https://colab.research.google.com/notebooks/data_table.ipynb>data table notebook</a>'\n",
       "            + ' to learn more about interactive tables.';\n",
       "          element.innerHTML = '';\n",
       "          dataTable['output_type'] = 'display_data';\n",
       "          await google.colab.output.renderOutput(dataTable, element);\n",
       "          const docLink = document.createElement('div');\n",
       "          docLink.innerHTML = docLinkHtml;\n",
       "          element.appendChild(docLink);\n",
       "        }\n",
       "      </script>\n",
       "    </div>\n",
       "  </div>\n"
      ],
      "text/plain": [
       "        dur  proto  service  state  spkts  dpkts  sbytes  dbytes       rate  \\\n",
       "0  0.121478    113        0      2      6      4     258     172  74.087490   \n",
       "1  0.649902    113        0      2     14     38     734   42014  78.473372   \n",
       "2  1.623129    113        0      2      8     16     364   13186  14.170161   \n",
       "3  1.681642    113        3      2     12     12     628     770  13.677108   \n",
       "4  0.449454    113        0      2     10      6     534     268  33.373826   \n",
       "\n",
       "   sttl  ...  ct_src_dport_ltm  ct_dst_sport_ltm  ct_dst_src_ltm  \\\n",
       "0   252  ...                 1                 1               1   \n",
       "1    62  ...                 1                 1               2   \n",
       "2    62  ...                 1                 1               3   \n",
       "3    62  ...                 1                 1               3   \n",
       "4   254  ...                 2                 1              40   \n",
       "\n",
       "   is_ftp_login  ct_ftp_cmd  ct_flw_http_mthd  ct_src_ltm  ct_srv_dst  \\\n",
       "0             0           0                 0           1           1   \n",
       "1             0           0                 0           1           6   \n",
       "2             0           0                 0           2           6   \n",
       "3             1           1                 0           2           1   \n",
       "4             0           0                 0           2          39   \n",
       "\n",
       "   is_sm_ips_ports  attack_cat  \n",
       "0                0           4  \n",
       "1                0           4  \n",
       "2                0           4  \n",
       "3                0           4  \n",
       "4                0           4  \n",
       "\n",
       "[5 rows x 43 columns]"
      ]
     },
     "execution_count": 36,
     "metadata": {},
     "output_type": "execute_result"
    }
   ],
   "source": [
    "df.head(5)"
   ]
  },
  {
   "cell_type": "code",
   "execution_count": 37,
   "id": "9591c4e8",
   "metadata": {
    "colab": {
     "base_uri": "https://localhost:8080/"
    },
    "id": "9591c4e8",
    "outputId": "c9cf2bfb-b4bf-49ba-a81b-f12cc8e13327",
    "scrolled": true
   },
   "outputs": [
    {
     "data": {
      "text/plain": [
       "0         4\n",
       "1         4\n",
       "2         4\n",
       "3         4\n",
       "4         4\n",
       "         ..\n",
       "175248    0\n",
       "175267    1\n",
       "175277    1\n",
       "175299    1\n",
       "175305    1\n",
       "Name: attack_cat, Length: 103393, dtype: int64"
      ]
     },
     "execution_count": 37,
     "metadata": {},
     "output_type": "execute_result"
    }
   ],
   "source": [
    "df.attack_cat"
   ]
  },
  {
   "cell_type": "code",
   "execution_count": 38,
   "id": "e2b3ab43",
   "metadata": {
    "colab": {
     "base_uri": "https://localhost:8080/",
     "height": 457
    },
    "id": "e2b3ab43",
    "outputId": "72db818f-a2a8-4993-cc9e-5e8bfd862500"
   },
   "outputs": [
    {
     "data": {
      "image/png": "[encoded data removed]",
      "text/plain": [
       "<Figure size 640x480 with 1 Axes>"
      ]
     },
     "metadata": {},
     "output_type": "display_data"
    }
   ],
   "source": [
    "df['attack_cat'].value_counts().plot(kind='bar')\n",
    "plt.xlabel('attack_cat')\n",
    "plt.ylabel('Count')\n",
    "plt.show()"
   ]
  },
  {
   "cell_type": "markdown",
   "id": "e49f8bc1",
   "metadata": {
    "id": "e49f8bc1"
   },
   "source": [
    "# -----------------------------------------------------"
   ]
  },
  {
   "cell_type": "code",
   "execution_count": 78,
   "id": "39b7638b",
   "metadata": {
    "id": "39b7638b"
   },
   "outputs": [],
   "source": [
    "X_train = df.iloc[:, df.columns!='attack_cat']\n",
    "y_train = df.iloc[:, 42]"
   ]
  },
  {
   "cell_type": "code",
   "execution_count": 79,
   "id": "0933d6a1",
   "metadata": {
    "colab": {
     "base_uri": "https://localhost:8080/",
     "height": 488
    },
    "id": "0933d6a1",
    "outputId": "3ff5cbd9-da26-4e52-cfa8-271be337a311"
   },
   "outputs": [
    {
     "data": {
      "text/html": [
       "\n",
       "\n",
       "  <div id=\"df-1115dab1-bc5c-401a-b32f-843cb4a63a95\">\n",
       "    <div class=\"colab-df-container\">\n",
       "      <div>\n",
       "<style scoped>\n",
       "    .dataframe tbody tr th:only-of-type {\n",
       "        vertical-align: middle;\n",
       "    }\n",
       "\n",
       "    .dataframe tbody tr th {\n",
       "        vertical-align: top;\n",
       "    }\n",
       "\n",
       "    .dataframe thead th {\n",
       "        text-align: right;\n",
       "    }\n",
       "</style>\n",
       "<table border=\"1\" class=\"dataframe\">\n",
       "  <thead>\n",
       "    <tr style=\"text-align: right;\">\n",
       "      <th></th>\n",
       "      <th>dur</th>\n",
       "      <th>proto</th>\n",
       "      <th>service</th>\n",
       "      <th>state</th>\n",
       "      <th>spkts</th>\n",
       "      <th>dpkts</th>\n",
       "      <th>sbytes</th>\n",
       "      <th>dbytes</th>\n",
       "      <th>rate</th>\n",
       "      <th>sttl</th>\n",
       "      <th>...</th>\n",
       "      <th>ct_dst_ltm</th>\n",
       "      <th>ct_src_dport_ltm</th>\n",
       "      <th>ct_dst_sport_ltm</th>\n",
       "      <th>ct_dst_src_ltm</th>\n",
       "      <th>is_ftp_login</th>\n",
       "      <th>ct_ftp_cmd</th>\n",
       "      <th>ct_flw_http_mthd</th>\n",
       "      <th>ct_src_ltm</th>\n",
       "      <th>ct_srv_dst</th>\n",
       "      <th>is_sm_ips_ports</th>\n",
       "    </tr>\n",
       "  </thead>\n",
       "  <tbody>\n",
       "    <tr>\n",
       "      <th>0</th>\n",
       "      <td>0.121478</td>\n",
       "      <td>113</td>\n",
       "      <td>0</td>\n",
       "      <td>2</td>\n",
       "      <td>6</td>\n",
       "      <td>4</td>\n",
       "      <td>258</td>\n",
       "      <td>172</td>\n",
       "      <td>74.087490</td>\n",
       "      <td>252</td>\n",
       "      <td>...</td>\n",
       "      <td>1</td>\n",
       "      <td>1</td>\n",
       "      <td>1</td>\n",
       "      <td>1</td>\n",
       "      <td>0</td>\n",
       "      <td>0</td>\n",
       "      <td>0</td>\n",
       "      <td>1</td>\n",
       "      <td>1</td>\n",
       "      <td>0</td>\n",
       "    </tr>\n",
       "    <tr>\n",
       "      <th>1</th>\n",
       "      <td>0.649902</td>\n",
       "      <td>113</td>\n",
       "      <td>0</td>\n",
       "      <td>2</td>\n",
       "      <td>14</td>\n",
       "      <td>38</td>\n",
       "      <td>734</td>\n",
       "      <td>42014</td>\n",
       "      <td>78.473372</td>\n",
       "      <td>62</td>\n",
       "      <td>...</td>\n",
       "      <td>1</td>\n",
       "      <td>1</td>\n",
       "      <td>1</td>\n",
       "      <td>2</td>\n",
       "      <td>0</td>\n",
       "      <td>0</td>\n",
       "      <td>0</td>\n",
       "      <td>1</td>\n",
       "      <td>6</td>\n",
       "      <td>0</td>\n",
       "    </tr>\n",
       "    <tr>\n",
       "      <th>2</th>\n",
       "      <td>1.623129</td>\n",
       "      <td>113</td>\n",
       "      <td>0</td>\n",
       "      <td>2</td>\n",
       "      <td>8</td>\n",
       "      <td>16</td>\n",
       "      <td>364</td>\n",
       "      <td>13186</td>\n",
       "      <td>14.170161</td>\n",
       "      <td>62</td>\n",
       "      <td>...</td>\n",
       "      <td>2</td>\n",
       "      <td>1</td>\n",
       "      <td>1</td>\n",
       "      <td>3</td>\n",
       "      <td>0</td>\n",
       "      <td>0</td>\n",
       "      <td>0</td>\n",
       "      <td>2</td>\n",
       "      <td>6</td>\n",
       "      <td>0</td>\n",
       "    </tr>\n",
       "    <tr>\n",
       "      <th>3</th>\n",
       "      <td>1.681642</td>\n",
       "      <td>113</td>\n",
       "      <td>3</td>\n",
       "      <td>2</td>\n",
       "      <td>12</td>\n",
       "      <td>12</td>\n",
       "      <td>628</td>\n",
       "      <td>770</td>\n",
       "      <td>13.677108</td>\n",
       "      <td>62</td>\n",
       "      <td>...</td>\n",
       "      <td>2</td>\n",
       "      <td>1</td>\n",
       "      <td>1</td>\n",
       "      <td>3</td>\n",
       "      <td>1</td>\n",
       "      <td>1</td>\n",
       "      <td>0</td>\n",
       "      <td>2</td>\n",
       "      <td>1</td>\n",
       "      <td>0</td>\n",
       "    </tr>\n",
       "    <tr>\n",
       "      <th>4</th>\n",
       "      <td>0.449454</td>\n",
       "      <td>113</td>\n",
       "      <td>0</td>\n",
       "      <td>2</td>\n",
       "      <td>10</td>\n",
       "      <td>6</td>\n",
       "      <td>534</td>\n",
       "      <td>268</td>\n",
       "      <td>33.373826</td>\n",
       "      <td>254</td>\n",
       "      <td>...</td>\n",
       "      <td>2</td>\n",
       "      <td>2</td>\n",
       "      <td>1</td>\n",
       "      <td>40</td>\n",
       "      <td>0</td>\n",
       "      <td>0</td>\n",
       "      <td>0</td>\n",
       "      <td>2</td>\n",
       "      <td>39</td>\n",
       "      <td>0</td>\n",
       "    </tr>\n",
       "    <tr>\n",
       "      <th>...</th>\n",
       "      <td>...</td>\n",
       "      <td>...</td>\n",
       "      <td>...</td>\n",
       "      <td>...</td>\n",
       "      <td>...</td>\n",
       "      <td>...</td>\n",
       "      <td>...</td>\n",
       "      <td>...</td>\n",
       "      <td>...</td>\n",
       "      <td>...</td>\n",
       "      <td>...</td>\n",
       "      <td>...</td>\n",
       "      <td>...</td>\n",
       "      <td>...</td>\n",
       "      <td>...</td>\n",
       "      <td>...</td>\n",
       "      <td>...</td>\n",
       "      <td>...</td>\n",
       "      <td>...</td>\n",
       "      <td>...</td>\n",
       "      <td>...</td>\n",
       "    </tr>\n",
       "    <tr>\n",
       "      <th>175248</th>\n",
       "      <td>2.013791</td>\n",
       "      <td>113</td>\n",
       "      <td>9</td>\n",
       "      <td>2</td>\n",
       "      <td>226</td>\n",
       "      <td>50</td>\n",
       "      <td>272070</td>\n",
       "      <td>3084</td>\n",
       "      <td>136.558356</td>\n",
       "      <td>62</td>\n",
       "      <td>...</td>\n",
       "      <td>1</td>\n",
       "      <td>1</td>\n",
       "      <td>1</td>\n",
       "      <td>1</td>\n",
       "      <td>0</td>\n",
       "      <td>0</td>\n",
       "      <td>0</td>\n",
       "      <td>18</td>\n",
       "      <td>1</td>\n",
       "      <td>0</td>\n",
       "    </tr>\n",
       "    <tr>\n",
       "      <th>175267</th>\n",
       "      <td>1.914309</td>\n",
       "      <td>113</td>\n",
       "      <td>9</td>\n",
       "      <td>2</td>\n",
       "      <td>74</td>\n",
       "      <td>30</td>\n",
       "      <td>69997</td>\n",
       "      <td>2132</td>\n",
       "      <td>53.805315</td>\n",
       "      <td>62</td>\n",
       "      <td>...</td>\n",
       "      <td>1</td>\n",
       "      <td>1</td>\n",
       "      <td>1</td>\n",
       "      <td>1</td>\n",
       "      <td>0</td>\n",
       "      <td>0</td>\n",
       "      <td>0</td>\n",
       "      <td>18</td>\n",
       "      <td>1</td>\n",
       "      <td>0</td>\n",
       "    </tr>\n",
       "    <tr>\n",
       "      <th>175277</th>\n",
       "      <td>3.719110</td>\n",
       "      <td>113</td>\n",
       "      <td>0</td>\n",
       "      <td>2</td>\n",
       "      <td>66</td>\n",
       "      <td>340</td>\n",
       "      <td>3086</td>\n",
       "      <td>426483</td>\n",
       "      <td>108.897021</td>\n",
       "      <td>62</td>\n",
       "      <td>...</td>\n",
       "      <td>1</td>\n",
       "      <td>1</td>\n",
       "      <td>1</td>\n",
       "      <td>1</td>\n",
       "      <td>0</td>\n",
       "      <td>0</td>\n",
       "      <td>0</td>\n",
       "      <td>2</td>\n",
       "      <td>1</td>\n",
       "      <td>0</td>\n",
       "    </tr>\n",
       "    <tr>\n",
       "      <th>175299</th>\n",
       "      <td>0.996503</td>\n",
       "      <td>113</td>\n",
       "      <td>7</td>\n",
       "      <td>2</td>\n",
       "      <td>20</td>\n",
       "      <td>30</td>\n",
       "      <td>942</td>\n",
       "      <td>16684</td>\n",
       "      <td>49.171955</td>\n",
       "      <td>62</td>\n",
       "      <td>...</td>\n",
       "      <td>1</td>\n",
       "      <td>1</td>\n",
       "      <td>1</td>\n",
       "      <td>1</td>\n",
       "      <td>0</td>\n",
       "      <td>0</td>\n",
       "      <td>0</td>\n",
       "      <td>7</td>\n",
       "      <td>1</td>\n",
       "      <td>0</td>\n",
       "    </tr>\n",
       "    <tr>\n",
       "      <th>175305</th>\n",
       "      <td>1.557125</td>\n",
       "      <td>113</td>\n",
       "      <td>9</td>\n",
       "      <td>2</td>\n",
       "      <td>28</td>\n",
       "      <td>22</td>\n",
       "      <td>12601</td>\n",
       "      <td>1954</td>\n",
       "      <td>31.468251</td>\n",
       "      <td>62</td>\n",
       "      <td>...</td>\n",
       "      <td>2</td>\n",
       "      <td>1</td>\n",
       "      <td>1</td>\n",
       "      <td>2</td>\n",
       "      <td>0</td>\n",
       "      <td>0</td>\n",
       "      <td>0</td>\n",
       "      <td>2</td>\n",
       "      <td>1</td>\n",
       "      <td>0</td>\n",
       "    </tr>\n",
       "  </tbody>\n",
       "</table>\n",
       "<p>103393 rows × 42 columns</p>\n",
       "</div>\n",
       "      <button class=\"colab-df-convert\" onclick=\"convertToInteractive('df-1115dab1-bc5c-401a-b32f-843cb4a63a95')\"\n",
       "              title=\"Convert this dataframe to an interactive table.\"\n",
       "              style=\"display:none;\">\n",
       "\n",
       "  <svg xmlns=\"http://www.w3.org/2000/svg\" height=\"24px\"viewBox=\"0 0 24 24\"\n",
       "       width=\"24px\">\n",
       "    <path d=\"M0 0h24v24H0V0z\" fill=\"none\"/>\n",
       "    <path d=\"M18.56 5.44l.94 2.06.94-2.06 2.06-.94-2.06-.94-.94-2.06-.94 2.06-2.06.94zm-11 1L8.5 8.5l.94-2.06 2.06-.94-2.06-.94L8.5 2.5l-.94 2.06-2.06.94zm10 10l.94 2.06.94-2.06 2.06-.94-2.06-.94-.94-2.06-.94 2.06-2.06.94z\"/><path d=\"M17.41 7.96l-1.37-1.37c-.4-.4-.92-.59-1.43-.59-.52 0-1.04.2-1.43.59L10.3 9.45l-7.72 7.72c-.78.78-.78 2.05 0 2.83L4 21.41c.39.39.9.59 1.41.59.51 0 1.02-.2 1.41-.59l7.78-7.78 2.81-2.81c.8-.78.8-2.07 0-2.86zM5.41 20L4 18.59l7.72-7.72 1.47 1.35L5.41 20z\"/>\n",
       "  </svg>\n",
       "      </button>\n",
       "\n",
       "\n",
       "\n",
       "    <div id=\"df-a45df434-bc4c-4436-8966-3d9131ba177f\">\n",
       "      <button class=\"colab-df-quickchart\" onclick=\"quickchart('df-a45df434-bc4c-4436-8966-3d9131ba177f')\"\n",
       "              title=\"Suggest charts.\"\n",
       "              style=\"display:none;\">\n",
       "\n",
       "<svg xmlns=\"http://www.w3.org/2000/svg\" height=\"24px\"viewBox=\"0 0 24 24\"\n",
       "     width=\"24px\">\n",
       "    <g>\n",
       "        <path d=\"M19 3H5c-1.1 0-2 .9-2 2v14c0 1.1.9 2 2 2h14c1.1 0 2-.9 2-2V5c0-1.1-.9-2-2-2zM9 17H7v-7h2v7zm4 0h-2V7h2v10zm4 0h-2v-4h2v4z\"/>\n",
       "    </g>\n",
       "</svg>\n",
       "      </button>\n",
       "    </div>\n",
       "\n",
       "<style>\n",
       "  .colab-df-quickchart {\n",
       "    background-color: #E8F0FE;\n",
       "    border: none;\n",
       "    border-radius: 50%;\n",
       "    cursor: pointer;\n",
       "    display: none;\n",
       "    fill: #1967D2;\n",
       "    height: 32px;\n",
       "    padding: 0 0 0 0;\n",
       "    width: 32px;\n",
       "  }\n",
       "\n",
       "  .colab-df-quickchart:hover {\n",
       "    background-color: #E2EBFA;\n",
       "    box-shadow: 0px 1px 2px rgba(60, 64, 67, 0.3), 0px 1px 3px 1px rgba(60, 64, 67, 0.15);\n",
       "    fill: #174EA6;\n",
       "  }\n",
       "\n",
       "  [theme=dark] .colab-df-quickchart {\n",
       "    background-color: #3B4455;\n",
       "    fill: #D2E3FC;\n",
       "  }\n",
       "\n",
       "  [theme=dark] .colab-df-quickchart:hover {\n",
       "    background-color: #434B5C;\n",
       "    box-shadow: 0px 1px 3px 1px rgba(0, 0, 0, 0.15);\n",
       "    filter: drop-shadow(0px 1px 2px rgba(0, 0, 0, 0.3));\n",
       "    fill: #FFFFFF;\n",
       "  }\n",
       "</style>\n",
       "\n",
       "    <script>\n",
       "      async function quickchart(key) {\n",
       "        const containerElement = document.querySelector('#' + key);\n",
       "        const charts = await google.colab.kernel.invokeFunction(\n",
       "            'suggestCharts', [key], {});\n",
       "      }\n",
       "    </script>\n",
       "\n",
       "      <script>\n",
       "\n",
       "function displayQuickchartButton(domScope) {\n",
       "  let quickchartButtonEl =\n",
       "    domScope.querySelector('#df-a45df434-bc4c-4436-8966-3d9131ba177f button.colab-df-quickchart');\n",
       "  quickchartButtonEl.style.display =\n",
       "    google.colab.kernel.accessAllowed ? 'block' : 'none';\n",
       "}\n",
       "\n",
       "        displayQuickchartButton(document);\n",
       "      </script>\n",
       "      <style>\n",
       "    .colab-df-container {\n",
       "      display:flex;\n",
       "      flex-wrap:wrap;\n",
       "      gap: 12px;\n",
       "    }\n",
       "\n",
       "    .colab-df-convert {\n",
       "      background-color: #E8F0FE;\n",
       "      border: none;\n",
       "      border-radius: 50%;\n",
       "      cursor: pointer;\n",
       "      display: none;\n",
       "      fill: #1967D2;\n",
       "      height: 32px;\n",
       "      padding: 0 0 0 0;\n",
       "      width: 32px;\n",
       "    }\n",
       "\n",
       "    .colab-df-convert:hover {\n",
       "      background-color: #E2EBFA;\n",
       "      box-shadow: 0px 1px 2px rgba(60, 64, 67, 0.3), 0px 1px 3px 1px rgba(60, 64, 67, 0.15);\n",
       "      fill: #174EA6;\n",
       "    }\n",
       "\n",
       "    [theme=dark] .colab-df-convert {\n",
       "      background-color: #3B4455;\n",
       "      fill: #D2E3FC;\n",
       "    }\n",
       "\n",
       "    [theme=dark] .colab-df-convert:hover {\n",
       "      background-color: #434B5C;\n",
       "      box-shadow: 0px 1px 3px 1px rgba(0, 0, 0, 0.15);\n",
       "      filter: drop-shadow(0px 1px 2px rgba(0, 0, 0, 0.3));\n",
       "      fill: #FFFFFF;\n",
       "    }\n",
       "  </style>\n",
       "\n",
       "      <script>\n",
       "        const buttonEl =\n",
       "          document.querySelector('#df-1115dab1-bc5c-401a-b32f-843cb4a63a95 button.colab-df-convert');\n",
       "        buttonEl.style.display =\n",
       "          google.colab.kernel.accessAllowed ? 'block' : 'none';\n",
       "\n",
       "        async function convertToInteractive(key) {\n",
       "          const element = document.querySelector('#df-1115dab1-bc5c-401a-b32f-843cb4a63a95');\n",
       "          const dataTable =\n",
       "            await google.colab.kernel.invokeFunction('convertToInteractive',\n",
       "                                                     [key], {});\n",
       "          if (!dataTable) return;\n",
       "\n",
       "          const docLinkHtml = 'Like what you see? Visit the ' +\n",
       "            '<a target=\"_blank\" href=https://colab.research.google.com/notebooks/data_table.ipynb>data table notebook</a>'\n",
       "            + ' to learn more about interactive tables.';\n",
       "          element.innerHTML = '';\n",
       "          dataTable['output_type'] = 'display_data';\n",
       "          await google.colab.output.renderOutput(dataTable, element);\n",
       "          const docLink = document.createElement('div');\n",
       "          docLink.innerHTML = docLinkHtml;\n",
       "          element.appendChild(docLink);\n",
       "        }\n",
       "      </script>\n",
       "    </div>\n",
       "  </div>\n"
      ],
      "text/plain": [
       "             dur  proto  service  state  spkts  dpkts  sbytes  dbytes  \\\n",
       "0       0.121478    113        0      2      6      4     258     172   \n",
       "1       0.649902    113        0      2     14     38     734   42014   \n",
       "2       1.623129    113        0      2      8     16     364   13186   \n",
       "3       1.681642    113        3      2     12     12     628     770   \n",
       "4       0.449454    113        0      2     10      6     534     268   \n",
       "...          ...    ...      ...    ...    ...    ...     ...     ...   \n",
       "175248  2.013791    113        9      2    226     50  272070    3084   \n",
       "175267  1.914309    113        9      2     74     30   69997    2132   \n",
       "175277  3.719110    113        0      2     66    340    3086  426483   \n",
       "175299  0.996503    113        7      2     20     30     942   16684   \n",
       "175305  1.557125    113        9      2     28     22   12601    1954   \n",
       "\n",
       "              rate  sttl  ...  ct_dst_ltm  ct_src_dport_ltm  ct_dst_sport_ltm  \\\n",
       "0        74.087490   252  ...           1                 1                 1   \n",
       "1        78.473372    62  ...           1                 1                 1   \n",
       "2        14.170161    62  ...           2                 1                 1   \n",
       "3        13.677108    62  ...           2                 1                 1   \n",
       "4        33.373826   254  ...           2                 2                 1   \n",
       "...            ...   ...  ...         ...               ...               ...   \n",
       "175248  136.558356    62  ...           1                 1                 1   \n",
       "175267   53.805315    62  ...           1                 1                 1   \n",
       "175277  108.897021    62  ...           1                 1                 1   \n",
       "175299   49.171955    62  ...           1                 1                 1   \n",
       "175305   31.468251    62  ...           2                 1                 1   \n",
       "\n",
       "        ct_dst_src_ltm  is_ftp_login  ct_ftp_cmd  ct_flw_http_mthd  \\\n",
       "0                    1             0           0                 0   \n",
       "1                    2             0           0                 0   \n",
       "2                    3             0           0                 0   \n",
       "3                    3             1           1                 0   \n",
       "4                   40             0           0                 0   \n",
       "...                ...           ...         ...               ...   \n",
       "175248               1             0           0                 0   \n",
       "175267               1             0           0                 0   \n",
       "175277               1             0           0                 0   \n",
       "175299               1             0           0                 0   \n",
       "175305               2             0           0                 0   \n",
       "\n",
       "        ct_src_ltm  ct_srv_dst  is_sm_ips_ports  \n",
       "0                1           1                0  \n",
       "1                1           6                0  \n",
       "2                2           6                0  \n",
       "3                2           1                0  \n",
       "4                2          39                0  \n",
       "...            ...         ...              ...  \n",
       "175248          18           1                0  \n",
       "175267          18           1                0  \n",
       "175277           2           1                0  \n",
       "175299           7           1                0  \n",
       "175305           2           1                0  \n",
       "\n",
       "[103393 rows x 42 columns]"
      ]
     },
     "execution_count": 79,
     "metadata": {},
     "output_type": "execute_result"
    }
   ],
   "source": [
    "X_train"
   ]
  },
  {
   "cell_type": "code",
   "execution_count": 80,
   "id": "736b2df8",
   "metadata": {
    "id": "736b2df8"
   },
   "outputs": [],
   "source": [
    "X_test = df2.iloc[:, df2.columns!='attack_cat']\n",
    "y_test = df2.iloc[:, 42]"
   ]
  },
  {
   "cell_type": "code",
   "execution_count": 81,
   "id": "1fede2d4",
   "metadata": {
    "colab": {
     "base_uri": "https://localhost:8080/",
     "height": 488
    },
    "id": "1fede2d4",
    "outputId": "48a686c3-ffe9-4313-eb12-74c1b7841741",
    "scrolled": true
   },
   "outputs": [
    {
     "data": {
      "text/html": [
       "\n",
       "\n",
       "  <div id=\"df-91991f5a-14dd-42d8-8779-b176b3fb7559\">\n",
       "    <div class=\"colab-df-container\">\n",
       "      <div>\n",
       "<style scoped>\n",
       "    .dataframe tbody tr th:only-of-type {\n",
       "        vertical-align: middle;\n",
       "    }\n",
       "\n",
       "    .dataframe tbody tr th {\n",
       "        vertical-align: top;\n",
       "    }\n",
       "\n",
       "    .dataframe thead th {\n",
       "        text-align: right;\n",
       "    }\n",
       "</style>\n",
       "<table border=\"1\" class=\"dataframe\">\n",
       "  <thead>\n",
       "    <tr style=\"text-align: right;\">\n",
       "      <th></th>\n",
       "      <th>dur</th>\n",
       "      <th>proto</th>\n",
       "      <th>service</th>\n",
       "      <th>state</th>\n",
       "      <th>spkts</th>\n",
       "      <th>dpkts</th>\n",
       "      <th>sbytes</th>\n",
       "      <th>dbytes</th>\n",
       "      <th>rate</th>\n",
       "      <th>sttl</th>\n",
       "      <th>...</th>\n",
       "      <th>ct_dst_ltm</th>\n",
       "      <th>ct_src_dport_ltm</th>\n",
       "      <th>ct_dst_sport_ltm</th>\n",
       "      <th>ct_dst_src_ltm</th>\n",
       "      <th>is_ftp_login</th>\n",
       "      <th>ct_ftp_cmd</th>\n",
       "      <th>ct_flw_http_mthd</th>\n",
       "      <th>ct_src_ltm</th>\n",
       "      <th>ct_srv_dst</th>\n",
       "      <th>is_sm_ips_ports</th>\n",
       "    </tr>\n",
       "  </thead>\n",
       "  <tbody>\n",
       "    <tr>\n",
       "      <th>0</th>\n",
       "      <td>0.000011</td>\n",
       "      <td>117</td>\n",
       "      <td>0</td>\n",
       "      <td>4</td>\n",
       "      <td>2</td>\n",
       "      <td>0</td>\n",
       "      <td>496</td>\n",
       "      <td>0</td>\n",
       "      <td>90909.090200</td>\n",
       "      <td>254</td>\n",
       "      <td>...</td>\n",
       "      <td>1</td>\n",
       "      <td>1</td>\n",
       "      <td>1</td>\n",
       "      <td>2</td>\n",
       "      <td>0</td>\n",
       "      <td>0</td>\n",
       "      <td>0</td>\n",
       "      <td>1</td>\n",
       "      <td>2</td>\n",
       "      <td>0</td>\n",
       "    </tr>\n",
       "    <tr>\n",
       "      <th>1</th>\n",
       "      <td>0.000008</td>\n",
       "      <td>117</td>\n",
       "      <td>0</td>\n",
       "      <td>4</td>\n",
       "      <td>2</td>\n",
       "      <td>0</td>\n",
       "      <td>1762</td>\n",
       "      <td>0</td>\n",
       "      <td>125000.000300</td>\n",
       "      <td>254</td>\n",
       "      <td>...</td>\n",
       "      <td>1</td>\n",
       "      <td>1</td>\n",
       "      <td>1</td>\n",
       "      <td>2</td>\n",
       "      <td>0</td>\n",
       "      <td>0</td>\n",
       "      <td>0</td>\n",
       "      <td>1</td>\n",
       "      <td>2</td>\n",
       "      <td>0</td>\n",
       "    </tr>\n",
       "    <tr>\n",
       "      <th>2</th>\n",
       "      <td>0.000005</td>\n",
       "      <td>117</td>\n",
       "      <td>0</td>\n",
       "      <td>4</td>\n",
       "      <td>2</td>\n",
       "      <td>0</td>\n",
       "      <td>1068</td>\n",
       "      <td>0</td>\n",
       "      <td>200000.005100</td>\n",
       "      <td>254</td>\n",
       "      <td>...</td>\n",
       "      <td>1</td>\n",
       "      <td>1</td>\n",
       "      <td>1</td>\n",
       "      <td>3</td>\n",
       "      <td>0</td>\n",
       "      <td>0</td>\n",
       "      <td>0</td>\n",
       "      <td>1</td>\n",
       "      <td>3</td>\n",
       "      <td>0</td>\n",
       "    </tr>\n",
       "    <tr>\n",
       "      <th>3</th>\n",
       "      <td>0.000006</td>\n",
       "      <td>117</td>\n",
       "      <td>0</td>\n",
       "      <td>4</td>\n",
       "      <td>2</td>\n",
       "      <td>0</td>\n",
       "      <td>900</td>\n",
       "      <td>0</td>\n",
       "      <td>166666.660800</td>\n",
       "      <td>254</td>\n",
       "      <td>...</td>\n",
       "      <td>2</td>\n",
       "      <td>2</td>\n",
       "      <td>1</td>\n",
       "      <td>3</td>\n",
       "      <td>0</td>\n",
       "      <td>0</td>\n",
       "      <td>0</td>\n",
       "      <td>2</td>\n",
       "      <td>3</td>\n",
       "      <td>0</td>\n",
       "    </tr>\n",
       "    <tr>\n",
       "      <th>4</th>\n",
       "      <td>0.000010</td>\n",
       "      <td>117</td>\n",
       "      <td>0</td>\n",
       "      <td>4</td>\n",
       "      <td>2</td>\n",
       "      <td>0</td>\n",
       "      <td>2126</td>\n",
       "      <td>0</td>\n",
       "      <td>100000.002500</td>\n",
       "      <td>254</td>\n",
       "      <td>...</td>\n",
       "      <td>2</td>\n",
       "      <td>2</td>\n",
       "      <td>1</td>\n",
       "      <td>3</td>\n",
       "      <td>0</td>\n",
       "      <td>0</td>\n",
       "      <td>0</td>\n",
       "      <td>2</td>\n",
       "      <td>3</td>\n",
       "      <td>0</td>\n",
       "    </tr>\n",
       "    <tr>\n",
       "      <th>...</th>\n",
       "      <td>...</td>\n",
       "      <td>...</td>\n",
       "      <td>...</td>\n",
       "      <td>...</td>\n",
       "      <td>...</td>\n",
       "      <td>...</td>\n",
       "      <td>...</td>\n",
       "      <td>...</td>\n",
       "      <td>...</td>\n",
       "      <td>...</td>\n",
       "      <td>...</td>\n",
       "      <td>...</td>\n",
       "      <td>...</td>\n",
       "      <td>...</td>\n",
       "      <td>...</td>\n",
       "      <td>...</td>\n",
       "      <td>...</td>\n",
       "      <td>...</td>\n",
       "      <td>...</td>\n",
       "      <td>...</td>\n",
       "      <td>...</td>\n",
       "    </tr>\n",
       "    <tr>\n",
       "      <th>82327</th>\n",
       "      <td>0.000005</td>\n",
       "      <td>117</td>\n",
       "      <td>0</td>\n",
       "      <td>4</td>\n",
       "      <td>2</td>\n",
       "      <td>0</td>\n",
       "      <td>104</td>\n",
       "      <td>0</td>\n",
       "      <td>200000.005100</td>\n",
       "      <td>254</td>\n",
       "      <td>...</td>\n",
       "      <td>2</td>\n",
       "      <td>1</td>\n",
       "      <td>1</td>\n",
       "      <td>2</td>\n",
       "      <td>0</td>\n",
       "      <td>0</td>\n",
       "      <td>0</td>\n",
       "      <td>2</td>\n",
       "      <td>1</td>\n",
       "      <td>0</td>\n",
       "    </tr>\n",
       "    <tr>\n",
       "      <th>82328</th>\n",
       "      <td>1.106101</td>\n",
       "      <td>111</td>\n",
       "      <td>0</td>\n",
       "      <td>3</td>\n",
       "      <td>20</td>\n",
       "      <td>8</td>\n",
       "      <td>18062</td>\n",
       "      <td>354</td>\n",
       "      <td>24.410067</td>\n",
       "      <td>254</td>\n",
       "      <td>...</td>\n",
       "      <td>2</td>\n",
       "      <td>1</td>\n",
       "      <td>1</td>\n",
       "      <td>1</td>\n",
       "      <td>0</td>\n",
       "      <td>0</td>\n",
       "      <td>0</td>\n",
       "      <td>3</td>\n",
       "      <td>2</td>\n",
       "      <td>0</td>\n",
       "    </tr>\n",
       "    <tr>\n",
       "      <th>82329</th>\n",
       "      <td>0.000000</td>\n",
       "      <td>6</td>\n",
       "      <td>0</td>\n",
       "      <td>4</td>\n",
       "      <td>1</td>\n",
       "      <td>0</td>\n",
       "      <td>46</td>\n",
       "      <td>0</td>\n",
       "      <td>0.000000</td>\n",
       "      <td>0</td>\n",
       "      <td>...</td>\n",
       "      <td>1</td>\n",
       "      <td>1</td>\n",
       "      <td>1</td>\n",
       "      <td>1</td>\n",
       "      <td>0</td>\n",
       "      <td>0</td>\n",
       "      <td>0</td>\n",
       "      <td>1</td>\n",
       "      <td>1</td>\n",
       "      <td>1</td>\n",
       "    </tr>\n",
       "    <tr>\n",
       "      <th>82330</th>\n",
       "      <td>0.000000</td>\n",
       "      <td>6</td>\n",
       "      <td>0</td>\n",
       "      <td>4</td>\n",
       "      <td>1</td>\n",
       "      <td>0</td>\n",
       "      <td>46</td>\n",
       "      <td>0</td>\n",
       "      <td>0.000000</td>\n",
       "      <td>0</td>\n",
       "      <td>...</td>\n",
       "      <td>1</td>\n",
       "      <td>1</td>\n",
       "      <td>1</td>\n",
       "      <td>1</td>\n",
       "      <td>0</td>\n",
       "      <td>0</td>\n",
       "      <td>0</td>\n",
       "      <td>1</td>\n",
       "      <td>1</td>\n",
       "      <td>1</td>\n",
       "    </tr>\n",
       "    <tr>\n",
       "      <th>82331</th>\n",
       "      <td>0.000009</td>\n",
       "      <td>117</td>\n",
       "      <td>0</td>\n",
       "      <td>4</td>\n",
       "      <td>2</td>\n",
       "      <td>0</td>\n",
       "      <td>104</td>\n",
       "      <td>0</td>\n",
       "      <td>111111.107200</td>\n",
       "      <td>254</td>\n",
       "      <td>...</td>\n",
       "      <td>1</td>\n",
       "      <td>1</td>\n",
       "      <td>1</td>\n",
       "      <td>1</td>\n",
       "      <td>0</td>\n",
       "      <td>0</td>\n",
       "      <td>0</td>\n",
       "      <td>1</td>\n",
       "      <td>1</td>\n",
       "      <td>0</td>\n",
       "    </tr>\n",
       "  </tbody>\n",
       "</table>\n",
       "<p>80650 rows × 42 columns</p>\n",
       "</div>\n",
       "      <button class=\"colab-df-convert\" onclick=\"convertToInteractive('df-91991f5a-14dd-42d8-8779-b176b3fb7559')\"\n",
       "              title=\"Convert this dataframe to an interactive table.\"\n",
       "              style=\"display:none;\">\n",
       "\n",
       "  <svg xmlns=\"http://www.w3.org/2000/svg\" height=\"24px\"viewBox=\"0 0 24 24\"\n",
       "       width=\"24px\">\n",
       "    <path d=\"M0 0h24v24H0V0z\" fill=\"none\"/>\n",
       "    <path d=\"M18.56 5.44l.94 2.06.94-2.06 2.06-.94-2.06-.94-.94-2.06-.94 2.06-2.06.94zm-11 1L8.5 8.5l.94-2.06 2.06-.94-2.06-.94L8.5 2.5l-.94 2.06-2.06.94zm10 10l.94 2.06.94-2.06 2.06-.94-2.06-.94-.94-2.06-.94 2.06-2.06.94z\"/><path d=\"M17.41 7.96l-1.37-1.37c-.4-.4-.92-.59-1.43-.59-.52 0-1.04.2-1.43.59L10.3 9.45l-7.72 7.72c-.78.78-.78 2.05 0 2.83L4 21.41c.39.39.9.59 1.41.59.51 0 1.02-.2 1.41-.59l7.78-7.78 2.81-2.81c.8-.78.8-2.07 0-2.86zM5.41 20L4 18.59l7.72-7.72 1.47 1.35L5.41 20z\"/>\n",
       "  </svg>\n",
       "      </button>\n",
       "\n",
       "\n",
       "\n",
       "    <div id=\"df-f168ba2e-ad9d-4807-9c79-e2a53afa84da\">\n",
       "      <button class=\"colab-df-quickchart\" onclick=\"quickchart('df-f168ba2e-ad9d-4807-9c79-e2a53afa84da')\"\n",
       "              title=\"Suggest charts.\"\n",
       "              style=\"display:none;\">\n",
       "\n",
       "<svg xmlns=\"http://www.w3.org/2000/svg\" height=\"24px\"viewBox=\"0 0 24 24\"\n",
       "     width=\"24px\">\n",
       "    <g>\n",
       "        <path d=\"M19 3H5c-1.1 0-2 .9-2 2v14c0 1.1.9 2 2 2h14c1.1 0 2-.9 2-2V5c0-1.1-.9-2-2-2zM9 17H7v-7h2v7zm4 0h-2V7h2v10zm4 0h-2v-4h2v4z\"/>\n",
       "    </g>\n",
       "</svg>\n",
       "      </button>\n",
       "    </div>\n",
       "\n",
       "<style>\n",
       "  .colab-df-quickchart {\n",
       "    background-color: #E8F0FE;\n",
       "    border: none;\n",
       "    border-radius: 50%;\n",
       "    cursor: pointer;\n",
       "    display: none;\n",
       "    fill: #1967D2;\n",
       "    height: 32px;\n",
       "    padding: 0 0 0 0;\n",
       "    width: 32px;\n",
       "  }\n",
       "\n",
       "  .colab-df-quickchart:hover {\n",
       "    background-color: #E2EBFA;\n",
       "    box-shadow: 0px 1px 2px rgba(60, 64, 67, 0.3), 0px 1px 3px 1px rgba(60, 64, 67, 0.15);\n",
       "    fill: #174EA6;\n",
       "  }\n",
       "\n",
       "  [theme=dark] .colab-df-quickchart {\n",
       "    background-color: #3B4455;\n",
       "    fill: #D2E3FC;\n",
       "  }\n",
       "\n",
       "  [theme=dark] .colab-df-quickchart:hover {\n",
       "    background-color: #434B5C;\n",
       "    box-shadow: 0px 1px 3px 1px rgba(0, 0, 0, 0.15);\n",
       "    filter: drop-shadow(0px 1px 2px rgba(0, 0, 0, 0.3));\n",
       "    fill: #FFFFFF;\n",
       "  }\n",
       "</style>\n",
       "\n",
       "    <script>\n",
       "      async function quickchart(key) {\n",
       "        const containerElement = document.querySelector('#' + key);\n",
       "        const charts = await google.colab.kernel.invokeFunction(\n",
       "            'suggestCharts', [key], {});\n",
       "      }\n",
       "    </script>\n",
       "\n",
       "      <script>\n",
       "\n",
       "function displayQuickchartButton(domScope) {\n",
       "  let quickchartButtonEl =\n",
       "    domScope.querySelector('#df-f168ba2e-ad9d-4807-9c79-e2a53afa84da button.colab-df-quickchart');\n",
       "  quickchartButtonEl.style.display =\n",
       "    google.colab.kernel.accessAllowed ? 'block' : 'none';\n",
       "}\n",
       "\n",
       "        displayQuickchartButton(document);\n",
       "      </script>\n",
       "      <style>\n",
       "    .colab-df-container {\n",
       "      display:flex;\n",
       "      flex-wrap:wrap;\n",
       "      gap: 12px;\n",
       "    }\n",
       "\n",
       "    .colab-df-convert {\n",
       "      background-color: #E8F0FE;\n",
       "      border: none;\n",
       "      border-radius: 50%;\n",
       "      cursor: pointer;\n",
       "      display: none;\n",
       "      fill: #1967D2;\n",
       "      height: 32px;\n",
       "      padding: 0 0 0 0;\n",
       "      width: 32px;\n",
       "    }\n",
       "\n",
       "    .colab-df-convert:hover {\n",
       "      background-color: #E2EBFA;\n",
       "      box-shadow: 0px 1px 2px rgba(60, 64, 67, 0.3), 0px 1px 3px 1px rgba(60, 64, 67, 0.15);\n",
       "      fill: #174EA6;\n",
       "    }\n",
       "\n",
       "    [theme=dark] .colab-df-convert {\n",
       "      background-color: #3B4455;\n",
       "      fill: #D2E3FC;\n",
       "    }\n",
       "\n",
       "    [theme=dark] .colab-df-convert:hover {\n",
       "      background-color: #434B5C;\n",
       "      box-shadow: 0px 1px 3px 1px rgba(0, 0, 0, 0.15);\n",
       "      filter: drop-shadow(0px 1px 2px rgba(0, 0, 0, 0.3));\n",
       "      fill: #FFFFFF;\n",
       "    }\n",
       "  </style>\n",
       "\n",
       "      <script>\n",
       "        const buttonEl =\n",
       "          document.querySelector('#df-91991f5a-14dd-42d8-8779-b176b3fb7559 button.colab-df-convert');\n",
       "        buttonEl.style.display =\n",
       "          google.colab.kernel.accessAllowed ? 'block' : 'none';\n",
       "\n",
       "        async function convertToInteractive(key) {\n",
       "          const element = document.querySelector('#df-91991f5a-14dd-42d8-8779-b176b3fb7559');\n",
       "          const dataTable =\n",
       "            await google.colab.kernel.invokeFunction('convertToInteractive',\n",
       "                                                     [key], {});\n",
       "          if (!dataTable) return;\n",
       "\n",
       "          const docLinkHtml = 'Like what you see? Visit the ' +\n",
       "            '<a target=\"_blank\" href=https://colab.research.google.com/notebooks/data_table.ipynb>data table notebook</a>'\n",
       "            + ' to learn more about interactive tables.';\n",
       "          element.innerHTML = '';\n",
       "          dataTable['output_type'] = 'display_data';\n",
       "          await google.colab.output.renderOutput(dataTable, element);\n",
       "          const docLink = document.createElement('div');\n",
       "          docLink.innerHTML = docLinkHtml;\n",
       "          element.appendChild(docLink);\n",
       "        }\n",
       "      </script>\n",
       "    </div>\n",
       "  </div>\n"
      ],
      "text/plain": [
       "            dur  proto  service  state  spkts  dpkts  sbytes  dbytes  \\\n",
       "0      0.000011    117        0      4      2      0     496       0   \n",
       "1      0.000008    117        0      4      2      0    1762       0   \n",
       "2      0.000005    117        0      4      2      0    1068       0   \n",
       "3      0.000006    117        0      4      2      0     900       0   \n",
       "4      0.000010    117        0      4      2      0    2126       0   \n",
       "...         ...    ...      ...    ...    ...    ...     ...     ...   \n",
       "82327  0.000005    117        0      4      2      0     104       0   \n",
       "82328  1.106101    111        0      3     20      8   18062     354   \n",
       "82329  0.000000      6        0      4      1      0      46       0   \n",
       "82330  0.000000      6        0      4      1      0      46       0   \n",
       "82331  0.000009    117        0      4      2      0     104       0   \n",
       "\n",
       "                rate  sttl  ...  ct_dst_ltm  ct_src_dport_ltm  \\\n",
       "0       90909.090200   254  ...           1                 1   \n",
       "1      125000.000300   254  ...           1                 1   \n",
       "2      200000.005100   254  ...           1                 1   \n",
       "3      166666.660800   254  ...           2                 2   \n",
       "4      100000.002500   254  ...           2                 2   \n",
       "...              ...   ...  ...         ...               ...   \n",
       "82327  200000.005100   254  ...           2                 1   \n",
       "82328      24.410067   254  ...           2                 1   \n",
       "82329       0.000000     0  ...           1                 1   \n",
       "82330       0.000000     0  ...           1                 1   \n",
       "82331  111111.107200   254  ...           1                 1   \n",
       "\n",
       "       ct_dst_sport_ltm  ct_dst_src_ltm  is_ftp_login  ct_ftp_cmd  \\\n",
       "0                     1               2             0           0   \n",
       "1                     1               2             0           0   \n",
       "2                     1               3             0           0   \n",
       "3                     1               3             0           0   \n",
       "4                     1               3             0           0   \n",
       "...                 ...             ...           ...         ...   \n",
       "82327                 1               2             0           0   \n",
       "82328                 1               1             0           0   \n",
       "82329                 1               1             0           0   \n",
       "82330                 1               1             0           0   \n",
       "82331                 1               1             0           0   \n",
       "\n",
       "       ct_flw_http_mthd  ct_src_ltm  ct_srv_dst  is_sm_ips_ports  \n",
       "0                     0           1           2                0  \n",
       "1                     0           1           2                0  \n",
       "2                     0           1           3                0  \n",
       "3                     0           2           3                0  \n",
       "4                     0           2           3                0  \n",
       "...                 ...         ...         ...              ...  \n",
       "82327                 0           2           1                0  \n",
       "82328                 0           3           2                0  \n",
       "82329                 0           1           1                1  \n",
       "82330                 0           1           1                1  \n",
       "82331                 0           1           1                0  \n",
       "\n",
       "[80650 rows x 42 columns]"
      ]
     },
     "execution_count": 81,
     "metadata": {},
     "output_type": "execute_result"
    }
   ],
   "source": [
    "X_test"
   ]
  },
  {
   "cell_type": "markdown",
   "id": "970c53eb",
   "metadata": {
    "id": "970c53eb"
   },
   "source": [
    "# -------------------------------------------------"
   ]
  },
  {
   "cell_type": "markdown",
   "id": "0cbc2569",
   "metadata": {
    "id": "0cbc2569"
   },
   "source": [
    "# Oversampling"
   ]
  },
  {
   "cell_type": "code",
   "execution_count": 82,
   "id": "59012e32",
   "metadata": {
    "id": "59012e32",
    "scrolled": true
   },
   "outputs": [],
   "source": [
    "from imblearn.over_sampling import SMOTE\n",
    "X_train , y_train = SMOTE().fit_resample(X_train , y_train)\n",
    "\n",
    "#Classes are unbalanced.To solve this problem, we generate artificial data using this code to increase the samples of minority classes"
   ]
  },
  {
   "cell_type": "code",
   "execution_count": 83,
   "id": "47f5e8c2",
   "metadata": {
    "colab": {
     "base_uri": "https://localhost:8080/",
     "height": 488
    },
    "id": "47f5e8c2",
    "outputId": "7c2b76ff-8245-4c2c-db87-2033d004ae04"
   },
   "outputs": [
    {
     "data": {
      "text/html": [
       "\n",
       "\n",
       "  <div id=\"df-8b772f6a-ffe4-4848-87ce-aab796e2f711\">\n",
       "    <div class=\"colab-df-container\">\n",
       "      <div>\n",
       "<style scoped>\n",
       "    .dataframe tbody tr th:only-of-type {\n",
       "        vertical-align: middle;\n",
       "    }\n",
       "\n",
       "    .dataframe tbody tr th {\n",
       "        vertical-align: top;\n",
       "    }\n",
       "\n",
       "    .dataframe thead th {\n",
       "        text-align: right;\n",
       "    }\n",
       "</style>\n",
       "<table border=\"1\" class=\"dataframe\">\n",
       "  <thead>\n",
       "    <tr style=\"text-align: right;\">\n",
       "      <th></th>\n",
       "      <th>dur</th>\n",
       "      <th>proto</th>\n",
       "      <th>service</th>\n",
       "      <th>state</th>\n",
       "      <th>spkts</th>\n",
       "      <th>dpkts</th>\n",
       "      <th>sbytes</th>\n",
       "      <th>dbytes</th>\n",
       "      <th>rate</th>\n",
       "      <th>sttl</th>\n",
       "      <th>...</th>\n",
       "      <th>ct_dst_ltm</th>\n",
       "      <th>ct_src_dport_ltm</th>\n",
       "      <th>ct_dst_sport_ltm</th>\n",
       "      <th>ct_dst_src_ltm</th>\n",
       "      <th>is_ftp_login</th>\n",
       "      <th>ct_ftp_cmd</th>\n",
       "      <th>ct_flw_http_mthd</th>\n",
       "      <th>ct_src_ltm</th>\n",
       "      <th>ct_srv_dst</th>\n",
       "      <th>is_sm_ips_ports</th>\n",
       "    </tr>\n",
       "  </thead>\n",
       "  <tbody>\n",
       "    <tr>\n",
       "      <th>0</th>\n",
       "      <td>0.121478</td>\n",
       "      <td>113</td>\n",
       "      <td>0</td>\n",
       "      <td>2</td>\n",
       "      <td>6</td>\n",
       "      <td>4</td>\n",
       "      <td>258</td>\n",
       "      <td>172</td>\n",
       "      <td>74.087490</td>\n",
       "      <td>252</td>\n",
       "      <td>...</td>\n",
       "      <td>1</td>\n",
       "      <td>1</td>\n",
       "      <td>1</td>\n",
       "      <td>1</td>\n",
       "      <td>0</td>\n",
       "      <td>0</td>\n",
       "      <td>0</td>\n",
       "      <td>1</td>\n",
       "      <td>1</td>\n",
       "      <td>0</td>\n",
       "    </tr>\n",
       "    <tr>\n",
       "      <th>1</th>\n",
       "      <td>0.649902</td>\n",
       "      <td>113</td>\n",
       "      <td>0</td>\n",
       "      <td>2</td>\n",
       "      <td>14</td>\n",
       "      <td>38</td>\n",
       "      <td>734</td>\n",
       "      <td>42014</td>\n",
       "      <td>78.473372</td>\n",
       "      <td>62</td>\n",
       "      <td>...</td>\n",
       "      <td>1</td>\n",
       "      <td>1</td>\n",
       "      <td>1</td>\n",
       "      <td>2</td>\n",
       "      <td>0</td>\n",
       "      <td>0</td>\n",
       "      <td>0</td>\n",
       "      <td>1</td>\n",
       "      <td>6</td>\n",
       "      <td>0</td>\n",
       "    </tr>\n",
       "    <tr>\n",
       "      <th>2</th>\n",
       "      <td>1.623129</td>\n",
       "      <td>113</td>\n",
       "      <td>0</td>\n",
       "      <td>2</td>\n",
       "      <td>8</td>\n",
       "      <td>16</td>\n",
       "      <td>364</td>\n",
       "      <td>13186</td>\n",
       "      <td>14.170161</td>\n",
       "      <td>62</td>\n",
       "      <td>...</td>\n",
       "      <td>2</td>\n",
       "      <td>1</td>\n",
       "      <td>1</td>\n",
       "      <td>3</td>\n",
       "      <td>0</td>\n",
       "      <td>0</td>\n",
       "      <td>0</td>\n",
       "      <td>2</td>\n",
       "      <td>6</td>\n",
       "      <td>0</td>\n",
       "    </tr>\n",
       "    <tr>\n",
       "      <th>3</th>\n",
       "      <td>1.681642</td>\n",
       "      <td>113</td>\n",
       "      <td>3</td>\n",
       "      <td>2</td>\n",
       "      <td>12</td>\n",
       "      <td>12</td>\n",
       "      <td>628</td>\n",
       "      <td>770</td>\n",
       "      <td>13.677108</td>\n",
       "      <td>62</td>\n",
       "      <td>...</td>\n",
       "      <td>2</td>\n",
       "      <td>1</td>\n",
       "      <td>1</td>\n",
       "      <td>3</td>\n",
       "      <td>1</td>\n",
       "      <td>1</td>\n",
       "      <td>0</td>\n",
       "      <td>2</td>\n",
       "      <td>1</td>\n",
       "      <td>0</td>\n",
       "    </tr>\n",
       "    <tr>\n",
       "      <th>4</th>\n",
       "      <td>0.449454</td>\n",
       "      <td>113</td>\n",
       "      <td>0</td>\n",
       "      <td>2</td>\n",
       "      <td>10</td>\n",
       "      <td>6</td>\n",
       "      <td>534</td>\n",
       "      <td>268</td>\n",
       "      <td>33.373826</td>\n",
       "      <td>254</td>\n",
       "      <td>...</td>\n",
       "      <td>2</td>\n",
       "      <td>2</td>\n",
       "      <td>1</td>\n",
       "      <td>40</td>\n",
       "      <td>0</td>\n",
       "      <td>0</td>\n",
       "      <td>0</td>\n",
       "      <td>2</td>\n",
       "      <td>39</td>\n",
       "      <td>0</td>\n",
       "    </tr>\n",
       "    <tr>\n",
       "      <th>...</th>\n",
       "      <td>...</td>\n",
       "      <td>...</td>\n",
       "      <td>...</td>\n",
       "      <td>...</td>\n",
       "      <td>...</td>\n",
       "      <td>...</td>\n",
       "      <td>...</td>\n",
       "      <td>...</td>\n",
       "      <td>...</td>\n",
       "      <td>...</td>\n",
       "      <td>...</td>\n",
       "      <td>...</td>\n",
       "      <td>...</td>\n",
       "      <td>...</td>\n",
       "      <td>...</td>\n",
       "      <td>...</td>\n",
       "      <td>...</td>\n",
       "      <td>...</td>\n",
       "      <td>...</td>\n",
       "      <td>...</td>\n",
       "      <td>...</td>\n",
       "    </tr>\n",
       "    <tr>\n",
       "      <th>311335</th>\n",
       "      <td>0.304014</td>\n",
       "      <td>113</td>\n",
       "      <td>3</td>\n",
       "      <td>2</td>\n",
       "      <td>10</td>\n",
       "      <td>6</td>\n",
       "      <td>741</td>\n",
       "      <td>285</td>\n",
       "      <td>63.680155</td>\n",
       "      <td>254</td>\n",
       "      <td>...</td>\n",
       "      <td>1</td>\n",
       "      <td>1</td>\n",
       "      <td>1</td>\n",
       "      <td>1</td>\n",
       "      <td>0</td>\n",
       "      <td>0</td>\n",
       "      <td>0</td>\n",
       "      <td>37</td>\n",
       "      <td>1</td>\n",
       "      <td>0</td>\n",
       "    </tr>\n",
       "    <tr>\n",
       "      <th>311336</th>\n",
       "      <td>0.793179</td>\n",
       "      <td>113</td>\n",
       "      <td>0</td>\n",
       "      <td>2</td>\n",
       "      <td>10</td>\n",
       "      <td>7</td>\n",
       "      <td>594</td>\n",
       "      <td>344</td>\n",
       "      <td>22.975083</td>\n",
       "      <td>254</td>\n",
       "      <td>...</td>\n",
       "      <td>1</td>\n",
       "      <td>1</td>\n",
       "      <td>1</td>\n",
       "      <td>1</td>\n",
       "      <td>0</td>\n",
       "      <td>0</td>\n",
       "      <td>0</td>\n",
       "      <td>1</td>\n",
       "      <td>1</td>\n",
       "      <td>0</td>\n",
       "    </tr>\n",
       "    <tr>\n",
       "      <th>311337</th>\n",
       "      <td>0.837396</td>\n",
       "      <td>113</td>\n",
       "      <td>1</td>\n",
       "      <td>2</td>\n",
       "      <td>10</td>\n",
       "      <td>7</td>\n",
       "      <td>638</td>\n",
       "      <td>334</td>\n",
       "      <td>20.384994</td>\n",
       "      <td>254</td>\n",
       "      <td>...</td>\n",
       "      <td>1</td>\n",
       "      <td>1</td>\n",
       "      <td>1</td>\n",
       "      <td>1</td>\n",
       "      <td>0</td>\n",
       "      <td>0</td>\n",
       "      <td>0</td>\n",
       "      <td>1</td>\n",
       "      <td>1</td>\n",
       "      <td>0</td>\n",
       "    </tr>\n",
       "    <tr>\n",
       "      <th>311338</th>\n",
       "      <td>0.435698</td>\n",
       "      <td>113</td>\n",
       "      <td>2</td>\n",
       "      <td>2</td>\n",
       "      <td>10</td>\n",
       "      <td>6</td>\n",
       "      <td>747</td>\n",
       "      <td>303</td>\n",
       "      <td>55.402828</td>\n",
       "      <td>254</td>\n",
       "      <td>...</td>\n",
       "      <td>1</td>\n",
       "      <td>1</td>\n",
       "      <td>1</td>\n",
       "      <td>1</td>\n",
       "      <td>0</td>\n",
       "      <td>0</td>\n",
       "      <td>0</td>\n",
       "      <td>1</td>\n",
       "      <td>1</td>\n",
       "      <td>0</td>\n",
       "    </tr>\n",
       "    <tr>\n",
       "      <th>311339</th>\n",
       "      <td>0.000022</td>\n",
       "      <td>110</td>\n",
       "      <td>0</td>\n",
       "      <td>3</td>\n",
       "      <td>1</td>\n",
       "      <td>0</td>\n",
       "      <td>60</td>\n",
       "      <td>0</td>\n",
       "      <td>0.000000</td>\n",
       "      <td>0</td>\n",
       "      <td>...</td>\n",
       "      <td>1</td>\n",
       "      <td>1</td>\n",
       "      <td>1</td>\n",
       "      <td>2</td>\n",
       "      <td>0</td>\n",
       "      <td>0</td>\n",
       "      <td>0</td>\n",
       "      <td>1</td>\n",
       "      <td>2</td>\n",
       "      <td>0</td>\n",
       "    </tr>\n",
       "  </tbody>\n",
       "</table>\n",
       "<p>311340 rows × 42 columns</p>\n",
       "</div>\n",
       "      <button class=\"colab-df-convert\" onclick=\"convertToInteractive('df-8b772f6a-ffe4-4848-87ce-aab796e2f711')\"\n",
       "              title=\"Convert this dataframe to an interactive table.\"\n",
       "              style=\"display:none;\">\n",
       "\n",
       "  <svg xmlns=\"http://www.w3.org/2000/svg\" height=\"24px\"viewBox=\"0 0 24 24\"\n",
       "       width=\"24px\">\n",
       "    <path d=\"M0 0h24v24H0V0z\" fill=\"none\"/>\n",
       "    <path d=\"M18.56 5.44l.94 2.06.94-2.06 2.06-.94-2.06-.94-.94-2.06-.94 2.06-2.06.94zm-11 1L8.5 8.5l.94-2.06 2.06-.94-2.06-.94L8.5 2.5l-.94 2.06-2.06.94zm10 10l.94 2.06.94-2.06 2.06-.94-2.06-.94-.94-2.06-.94 2.06-2.06.94z\"/><path d=\"M17.41 7.96l-1.37-1.37c-.4-.4-.92-.59-1.43-.59-.52 0-1.04.2-1.43.59L10.3 9.45l-7.72 7.72c-.78.78-.78 2.05 0 2.83L4 21.41c.39.39.9.59 1.41.59.51 0 1.02-.2 1.41-.59l7.78-7.78 2.81-2.81c.8-.78.8-2.07 0-2.86zM5.41 20L4 18.59l7.72-7.72 1.47 1.35L5.41 20z\"/>\n",
       "  </svg>\n",
       "      </button>\n",
       "\n",
       "\n",
       "\n",
       "    <div id=\"df-e1525141-7b0b-416c-822c-307a6f58f9ff\">\n",
       "      <button class=\"colab-df-quickchart\" onclick=\"quickchart('df-e1525141-7b0b-416c-822c-307a6f58f9ff')\"\n",
       "              title=\"Suggest charts.\"\n",
       "              style=\"display:none;\">\n",
       "\n",
       "<svg xmlns=\"http://www.w3.org/2000/svg\" height=\"24px\"viewBox=\"0 0 24 24\"\n",
       "     width=\"24px\">\n",
       "    <g>\n",
       "        <path d=\"M19 3H5c-1.1 0-2 .9-2 2v14c0 1.1.9 2 2 2h14c1.1 0 2-.9 2-2V5c0-1.1-.9-2-2-2zM9 17H7v-7h2v7zm4 0h-2V7h2v10zm4 0h-2v-4h2v4z\"/>\n",
       "    </g>\n",
       "</svg>\n",
       "      </button>\n",
       "    </div>\n",
       "\n",
       "<style>\n",
       "  .colab-df-quickchart {\n",
       "    background-color: #E8F0FE;\n",
       "    border: none;\n",
       "    border-radius: 50%;\n",
       "    cursor: pointer;\n",
       "    display: none;\n",
       "    fill: #1967D2;\n",
       "    height: 32px;\n",
       "    padding: 0 0 0 0;\n",
       "    width: 32px;\n",
       "  }\n",
       "\n",
       "  .colab-df-quickchart:hover {\n",
       "    background-color: #E2EBFA;\n",
       "    box-shadow: 0px 1px 2px rgba(60, 64, 67, 0.3), 0px 1px 3px 1px rgba(60, 64, 67, 0.15);\n",
       "    fill: #174EA6;\n",
       "  }\n",
       "\n",
       "  [theme=dark] .colab-df-quickchart {\n",
       "    background-color: #3B4455;\n",
       "    fill: #D2E3FC;\n",
       "  }\n",
       "\n",
       "  [theme=dark] .colab-df-quickchart:hover {\n",
       "    background-color: #434B5C;\n",
       "    box-shadow: 0px 1px 3px 1px rgba(0, 0, 0, 0.15);\n",
       "    filter: drop-shadow(0px 1px 2px rgba(0, 0, 0, 0.3));\n",
       "    fill: #FFFFFF;\n",
       "  }\n",
       "</style>\n",
       "\n",
       "    <script>\n",
       "      async function quickchart(key) {\n",
       "        const containerElement = document.querySelector('#' + key);\n",
       "        const charts = await google.colab.kernel.invokeFunction(\n",
       "            'suggestCharts', [key], {});\n",
       "      }\n",
       "    </script>\n",
       "\n",
       "      <script>\n",
       "\n",
       "function displayQuickchartButton(domScope) {\n",
       "  let quickchartButtonEl =\n",
       "    domScope.querySelector('#df-e1525141-7b0b-416c-822c-307a6f58f9ff button.colab-df-quickchart');\n",
       "  quickchartButtonEl.style.display =\n",
       "    google.colab.kernel.accessAllowed ? 'block' : 'none';\n",
       "}\n",
       "\n",
       "        displayQuickchartButton(document);\n",
       "      </script>\n",
       "      <style>\n",
       "    .colab-df-container {\n",
       "      display:flex;\n",
       "      flex-wrap:wrap;\n",
       "      gap: 12px;\n",
       "    }\n",
       "\n",
       "    .colab-df-convert {\n",
       "      background-color: #E8F0FE;\n",
       "      border: none;\n",
       "      border-radius: 50%;\n",
       "      cursor: pointer;\n",
       "      display: none;\n",
       "      fill: #1967D2;\n",
       "      height: 32px;\n",
       "      padding: 0 0 0 0;\n",
       "      width: 32px;\n",
       "    }\n",
       "\n",
       "    .colab-df-convert:hover {\n",
       "      background-color: #E2EBFA;\n",
       "      box-shadow: 0px 1px 2px rgba(60, 64, 67, 0.3), 0px 1px 3px 1px rgba(60, 64, 67, 0.15);\n",
       "      fill: #174EA6;\n",
       "    }\n",
       "\n",
       "    [theme=dark] .colab-df-convert {\n",
       "      background-color: #3B4455;\n",
       "      fill: #D2E3FC;\n",
       "    }\n",
       "\n",
       "    [theme=dark] .colab-df-convert:hover {\n",
       "      background-color: #434B5C;\n",
       "      box-shadow: 0px 1px 3px 1px rgba(0, 0, 0, 0.15);\n",
       "      filter: drop-shadow(0px 1px 2px rgba(0, 0, 0, 0.3));\n",
       "      fill: #FFFFFF;\n",
       "    }\n",
       "  </style>\n",
       "\n",
       "      <script>\n",
       "        const buttonEl =\n",
       "          document.querySelector('#df-8b772f6a-ffe4-4848-87ce-aab796e2f711 button.colab-df-convert');\n",
       "        buttonEl.style.display =\n",
       "          google.colab.kernel.accessAllowed ? 'block' : 'none';\n",
       "\n",
       "        async function convertToInteractive(key) {\n",
       "          const element = document.querySelector('#df-8b772f6a-ffe4-4848-87ce-aab796e2f711');\n",
       "          const dataTable =\n",
       "            await google.colab.kernel.invokeFunction('convertToInteractive',\n",
       "                                                     [key], {});\n",
       "          if (!dataTable) return;\n",
       "\n",
       "          const docLinkHtml = 'Like what you see? Visit the ' +\n",
       "            '<a target=\"_blank\" href=https://colab.research.google.com/notebooks/data_table.ipynb>data table notebook</a>'\n",
       "            + ' to learn more about interactive tables.';\n",
       "          element.innerHTML = '';\n",
       "          dataTable['output_type'] = 'display_data';\n",
       "          await google.colab.output.renderOutput(dataTable, element);\n",
       "          const docLink = document.createElement('div');\n",
       "          docLink.innerHTML = docLinkHtml;\n",
       "          element.appendChild(docLink);\n",
       "        }\n",
       "      </script>\n",
       "    </div>\n",
       "  </div>\n"
      ],
      "text/plain": [
       "             dur  proto  service  state  spkts  dpkts  sbytes  dbytes  \\\n",
       "0       0.121478    113        0      2      6      4     258     172   \n",
       "1       0.649902    113        0      2     14     38     734   42014   \n",
       "2       1.623129    113        0      2      8     16     364   13186   \n",
       "3       1.681642    113        3      2     12     12     628     770   \n",
       "4       0.449454    113        0      2     10      6     534     268   \n",
       "...          ...    ...      ...    ...    ...    ...     ...     ...   \n",
       "311335  0.304014    113        3      2     10      6     741     285   \n",
       "311336  0.793179    113        0      2     10      7     594     344   \n",
       "311337  0.837396    113        1      2     10      7     638     334   \n",
       "311338  0.435698    113        2      2     10      6     747     303   \n",
       "311339  0.000022    110        0      3      1      0      60       0   \n",
       "\n",
       "             rate  sttl  ...  ct_dst_ltm  ct_src_dport_ltm  ct_dst_sport_ltm  \\\n",
       "0       74.087490   252  ...           1                 1                 1   \n",
       "1       78.473372    62  ...           1                 1                 1   \n",
       "2       14.170161    62  ...           2                 1                 1   \n",
       "3       13.677108    62  ...           2                 1                 1   \n",
       "4       33.373826   254  ...           2                 2                 1   \n",
       "...           ...   ...  ...         ...               ...               ...   \n",
       "311335  63.680155   254  ...           1                 1                 1   \n",
       "311336  22.975083   254  ...           1                 1                 1   \n",
       "311337  20.384994   254  ...           1                 1                 1   \n",
       "311338  55.402828   254  ...           1                 1                 1   \n",
       "311339   0.000000     0  ...           1                 1                 1   \n",
       "\n",
       "        ct_dst_src_ltm  is_ftp_login  ct_ftp_cmd  ct_flw_http_mthd  \\\n",
       "0                    1             0           0                 0   \n",
       "1                    2             0           0                 0   \n",
       "2                    3             0           0                 0   \n",
       "3                    3             1           1                 0   \n",
       "4                   40             0           0                 0   \n",
       "...                ...           ...         ...               ...   \n",
       "311335               1             0           0                 0   \n",
       "311336               1             0           0                 0   \n",
       "311337               1             0           0                 0   \n",
       "311338               1             0           0                 0   \n",
       "311339               2             0           0                 0   \n",
       "\n",
       "        ct_src_ltm  ct_srv_dst  is_sm_ips_ports  \n",
       "0                1           1                0  \n",
       "1                1           6                0  \n",
       "2                2           6                0  \n",
       "3                2           1                0  \n",
       "4                2          39                0  \n",
       "...            ...         ...              ...  \n",
       "311335          37           1                0  \n",
       "311336           1           1                0  \n",
       "311337           1           1                0  \n",
       "311338           1           1                0  \n",
       "311339           1           2                0  \n",
       "\n",
       "[311340 rows x 42 columns]"
      ]
     },
     "execution_count": 83,
     "metadata": {},
     "output_type": "execute_result"
    }
   ],
   "source": [
    "X_train"
   ]
  },
  {
   "cell_type": "code",
   "execution_count": 84,
   "id": "f0a1fa7e",
   "metadata": {
    "colab": {
     "base_uri": "https://localhost:8080/"
    },
    "id": "f0a1fa7e",
    "outputId": "bf36075e-510b-47e4-fa90-6f4ef8f8384e"
   },
   "outputs": [
    {
     "data": {
      "text/plain": [
       "(311340, 42)"
      ]
     },
     "execution_count": 84,
     "metadata": {},
     "output_type": "execute_result"
    }
   ],
   "source": [
    "X_train.shape"
   ]
  },
  {
   "cell_type": "code",
   "execution_count": 85,
   "id": "b82f47d2",
   "metadata": {
    "colab": {
     "base_uri": "https://localhost:8080/"
    },
    "id": "b82f47d2",
    "outputId": "46d3b521-fc16-455a-8281-0bd44be80107",
    "scrolled": false
   },
   "outputs": [
    {
     "data": {
      "text/plain": [
       "4    51890\n",
       "2    51890\n",
       "5    51890\n",
       "1    51890\n",
       "0    51890\n",
       "3    51890\n",
       "Name: attack_cat, dtype: int64"
      ]
     },
     "execution_count": 85,
     "metadata": {},
     "output_type": "execute_result"
    }
   ],
   "source": [
    "y_train.value_counts()  #The number of samples of all classes was equal"
   ]
  },
  {
   "cell_type": "markdown",
   "id": "8927e942",
   "metadata": {
    "id": "8927e942"
   },
   "source": [
    "# ---------------------------------"
   ]
  },
  {
   "cell_type": "markdown",
   "id": "114ca935",
   "metadata": {
    "id": "114ca935"
   },
   "source": [
    "# Standard and Normal"
   ]
  },
  {
   "cell_type": "code",
   "execution_count": 86,
   "id": "42e8f728",
   "metadata": {
    "id": "42e8f728"
   },
   "outputs": [],
   "source": [
    "#In this part, we do standardization and normalization to increase the accuracy of the model"
   ]
  },
  {
   "cell_type": "code",
   "execution_count": 87,
   "id": "d73d0185",
   "metadata": {
    "id": "d73d0185"
   },
   "outputs": [],
   "source": [
    "from sklearn.preprocessing import StandardScaler"
   ]
  },
  {
   "cell_type": "code",
   "execution_count": 88,
   "id": "85b0fcdf",
   "metadata": {
    "id": "85b0fcdf"
   },
   "outputs": [],
   "source": [
    "#Data standardization\n",
    "scaler = StandardScaler()\n",
    "X_train = scaler.fit_transform(X_train)\n",
    "X_test = scaler.transform(X_test)"
   ]
  },
  {
   "cell_type": "code",
   "execution_count": 89,
   "id": "20b8bcf1",
   "metadata": {
    "colab": {
     "base_uri": "https://localhost:8080/"
    },
    "id": "20b8bcf1",
    "outputId": "6faa9d39-e89c-4121-bc77-f3dc27177646",
    "scrolled": true
   },
   "outputs": [
    {
     "data": {
      "text/plain": [
       "array([-0.23325359,  0.11107759, -0.77576762, -0.35122756, -0.11378292,\n",
       "       -0.11486831, -0.07471545, -0.08666172, -0.46839103,  0.65183202,\n",
       "        0.96486222, -0.30788644, -0.21050852, -0.09541544, -0.10157089,\n",
       "       -0.07222271, -0.11690109, -0.15661725, -0.17837477,  0.78753825,\n",
       "       -0.48967742,  0.61345603,  0.79067851, -0.86351106, -0.79206693,\n",
       "       -0.8514816 , -0.53612249, -0.36136374, -0.14442825, -0.04409588,\n",
       "       -0.5892123 , -1.63757469, -0.46473158, -0.37889852, -0.37370448,\n",
       "       -0.53018539, -0.07676932, -0.07676932, -0.31689441, -0.54994483,\n",
       "       -0.55415074, -0.04187562])"
      ]
     },
     "execution_count": 89,
     "metadata": {},
     "output_type": "execute_result"
    }
   ],
   "source": [
    "X_train[0]"
   ]
  },
  {
   "cell_type": "code",
   "execution_count": 90,
   "id": "12f7021d",
   "metadata": {
    "colab": {
     "base_uri": "https://localhost:8080/"
    },
    "id": "12f7021d",
    "outputId": "e92b1982-12ea-46f0-e963-bcceee4e5d1b"
   },
   "outputs": [
    {
     "data": {
      "text/plain": [
       "array([-0.25248034,  0.35209941, -0.77576762,  2.40818012, -0.13358484,\n",
       "       -0.13546627, -0.07380402, -0.08733299,  0.11921297,  0.67373891,\n",
       "       -1.11792795,  0.49322806, -0.2151111 , -0.09541544, -0.10157089,\n",
       "       -0.08123704, -0.12870128, -0.15755438, -0.18204433, -1.26986924,\n",
       "       -0.92516031, -0.92607041, -1.26480513, -0.86351106, -0.79206693,\n",
       "       -0.8514816 ,  0.35725822, -0.53409229, -0.14442825, -0.04409588,\n",
       "       -0.4786473 ,  1.00702868, -0.46473158, -0.37889852, -0.37370448,\n",
       "       -0.42152852, -0.07676932, -0.07676932, -0.31689441, -0.54994483,\n",
       "       -0.44401521, -0.04187562])"
      ]
     },
     "execution_count": 90,
     "metadata": {},
     "output_type": "execute_result"
    }
   ],
   "source": [
    "X_test[0]"
   ]
  },
  {
   "cell_type": "code",
   "execution_count": 91,
   "id": "ad65938c",
   "metadata": {
    "id": "ad65938c"
   },
   "outputs": [],
   "source": [
    "#Data normalization\n",
    "from sklearn.preprocessing import Normalizer\n",
    "norm = Normalizer()\n",
    "X_train = norm.fit_transform(X_train)\n",
    "X_test = norm.transform(X_test)"
   ]
  },
  {
   "cell_type": "code",
   "execution_count": 92,
   "id": "2e74a63a",
   "metadata": {
    "colab": {
     "base_uri": "https://localhost:8080/"
    },
    "id": "2e74a63a",
    "outputId": "ad8a6515-b9d8-4134-ea8d-cb5ce3372f87"
   },
   "outputs": [
    {
     "data": {
      "text/plain": [
       "array([-0.06856515,  0.03265138, -0.22803774, -0.10324372, -0.03344661,\n",
       "       -0.03376566, -0.02196269, -0.02547431, -0.13768406,  0.19160673,\n",
       "        0.2836223 , -0.09050355, -0.06187921, -0.02804747, -0.02985688,\n",
       "       -0.02122995, -0.0343632 , -0.04603781, -0.05243346,  0.23149773,\n",
       "       -0.14394121,  0.18032607,  0.23242081, -0.25383002, -0.23282894,\n",
       "       -0.25029394, -0.15759379, -0.10622326, -0.04245484, -0.01296203,\n",
       "       -0.1731996 , -0.48136687, -0.13660835, -0.11137763, -0.10985084,\n",
       "       -0.15584857, -0.02256643, -0.02256643, -0.09315146, -0.16165688,\n",
       "       -0.16289321, -0.01230938])"
      ]
     },
     "execution_count": 92,
     "metadata": {},
     "output_type": "execute_result"
    }
   ],
   "source": [
    "X_train[0]"
   ]
  },
  {
   "cell_type": "code",
   "execution_count": 93,
   "id": "f5a16af4",
   "metadata": {
    "colab": {
     "base_uri": "https://localhost:8080/"
    },
    "id": "f5a16af4",
    "outputId": "8e274cf4-0b72-4115-9b65-6fbb2f691225",
    "scrolled": true
   },
   "outputs": [
    {
     "data": {
      "text/plain": [
       "array([-0.05832443,  0.08133701, -0.17920683,  0.55630361, -0.03085888,\n",
       "       -0.0312935 , -0.01704916, -0.02017443,  0.02753889,  0.1556376 ,\n",
       "       -0.25824786,  0.11393855, -0.04969192, -0.02204152, -0.02346347,\n",
       "       -0.01876623, -0.02973074, -0.03639598, -0.0420533 , -0.29334718,\n",
       "       -0.21371741, -0.21392765, -0.29217734, -0.19947608, -0.18297207,\n",
       "       -0.1966972 ,  0.08252873, -0.12337842, -0.03336376, -0.01018641,\n",
       "       -0.11057031,  0.23262948, -0.1073557 , -0.08752776, -0.08632791,\n",
       "       -0.09737554, -0.01773416, -0.01773416, -0.07320445, -0.12704045,\n",
       "       -0.10257009, -0.00967351])"
      ]
     },
     "execution_count": 93,
     "metadata": {},
     "output_type": "execute_result"
    }
   ],
   "source": [
    "X_test[0]"
   ]
  },
  {
   "cell_type": "markdown",
   "id": "3e9aa15b",
   "metadata": {
    "id": "3e9aa15b"
   },
   "source": [
    "# =============================================================="
   ]
  },
  {
   "cell_type": "markdown",
   "id": "0b5bb272",
   "metadata": {
    "id": "0b5bb272"
   },
   "source": [
    "# Models with all features"
   ]
  },
  {
   "cell_type": "markdown",
   "id": "f510bebb",
   "metadata": {
    "id": "f510bebb"
   },
   "source": [
    "# -------------------------"
   ]
  },
  {
   "cell_type": "markdown",
   "id": "fd7861d7",
   "metadata": {
    "id": "fd7861d7"
   },
   "source": [
    "# Random Forest Model"
   ]
  },
  {
   "cell_type": "code",
   "execution_count": 55,
   "id": "76c2eb22",
   "metadata": {
    "colab": {
     "base_uri": "https://localhost:8080/"
    },
    "id": "76c2eb22",
    "outputId": "2e6874ac-de59-4b33-b031-60f6ba7ac1eb",
    "scrolled": false
   },
   "outputs": [
    {
     "name": "stdout",
     "output_type": "stream",
     "text": [
      "Accuracy: 0.7390824550526969\n",
      "              precision    recall  f1-score   support\n",
      "\n",
      "           0       0.37      0.64      0.47      4089\n",
      "           1       0.78      0.60      0.68     11132\n",
      "           2       0.27      0.73      0.40      6062\n",
      "           3       0.98      0.97      0.97     18871\n",
      "           4       0.98      0.67      0.80     37000\n",
      "           5       0.60      0.83      0.70      3496\n",
      "\n",
      "    accuracy                           0.74     80650\n",
      "   macro avg       0.66      0.74      0.67     80650\n",
      "weighted avg       0.85      0.74      0.77     80650\n",
      "\n"
     ]
    }
   ],
   "source": [
    "#We create a random forest with 100 trees\n",
    "model = RandomForestClassifier(n_estimators=100,\n",
    "                               bootstrap = True,\n",
    "                               max_features = 'sqrt')\n",
    "# We train the model\n",
    "model.fit(X_train, y_train)\n",
    "rf_predictions = model.predict(X_test)\n",
    "#We calculate the accuracy of the model\n",
    "print(\"Accuracy:\",metrics.accuracy_score(y_test, rf_predictions))\n",
    "print(classification_report(y_test, rf_predictions))"
   ]
  },
  {
   "cell_type": "code",
   "execution_count": 56,
   "id": "2ade7dc7",
   "metadata": {
    "id": "2ade7dc7"
   },
   "outputs": [],
   "source": [
    "#model.score(X_test_selected,y_test)"
   ]
  },
  {
   "cell_type": "code",
   "execution_count": 57,
   "id": "06248786",
   "metadata": {
    "colab": {
     "base_uri": "https://localhost:8080/"
    },
    "id": "06248786",
    "outputId": "396e8c3c-e23c-43e6-fbcc-0d4da381a855"
   },
   "outputs": [
    {
     "data": {
      "text/plain": [
       "0.7390824550526969"
      ]
     },
     "execution_count": 57,
     "metadata": {},
     "output_type": "execute_result"
    }
   ],
   "source": [
    "accuracy_score(y_test, rf_predictions)"
   ]
  },
  {
   "cell_type": "code",
   "execution_count": 58,
   "id": "faeaaf4b",
   "metadata": {
    "colab": {
     "base_uri": "https://localhost:8080/"
    },
    "id": "faeaaf4b",
    "outputId": "4383747d-653c-49a7-b59c-be4d66ed84cc"
   },
   "outputs": [
    {
     "data": {
      "text/plain": [
       "(311340, 42)"
      ]
     },
     "execution_count": 58,
     "metadata": {},
     "output_type": "execute_result"
    }
   ],
   "source": [
    "X_train.shape"
   ]
  },
  {
   "cell_type": "markdown",
   "id": "7aa33c24",
   "metadata": {
    "id": "7aa33c24"
   },
   "source": [
    "# -------------------------------------------------"
   ]
  },
  {
   "cell_type": "markdown",
   "id": "c5ffeff2",
   "metadata": {
    "id": "c5ffeff2"
   },
   "source": [
    "# Decision Tree"
   ]
  },
  {
   "cell_type": "code",
   "execution_count": null,
   "id": "c52a8005",
   "metadata": {
    "id": "c52a8005",
    "outputId": "dca6bf7e-9f3c-49a5-a533-8531a60b80d5"
   },
   "outputs": [
    {
     "name": "stdout",
     "output_type": "stream",
     "text": [
      "Accuracy: 0.7101053936763794\n",
      "              precision    recall  f1-score   support\n",
      "\n",
      "           0       0.25      0.47      0.33      4089\n",
      "           1       0.66      0.54      0.59     11132\n",
      "           2       0.24      0.48      0.32      6062\n",
      "           3       0.92      0.97      0.94     18871\n",
      "           4       0.95      0.71      0.81     37000\n",
      "           5       0.45      0.61      0.52      3496\n",
      "\n",
      "    accuracy                           0.71     80650\n",
      "   macro avg       0.58      0.63      0.59     80650\n",
      "weighted avg       0.79      0.71      0.74     80650\n",
      "\n"
     ]
    }
   ],
   "source": [
    "from sklearn.tree import DecisionTreeClassifier\n",
    "dtree_model = DecisionTreeClassifier(criterion = 'entropy').fit(X_train, y_train)\n",
    "dtree_predictions = dtree_model.predict(X_test)\n",
    "\n",
    "print(\"Accuracy:\",metrics.accuracy_score(y_test, dtree_predictions))\n",
    "print(classification_report(y_test, dtree_predictions))"
   ]
  },
  {
   "cell_type": "markdown",
   "id": "b5460e30",
   "metadata": {
    "id": "b5460e30"
   },
   "source": [
    "# -----------------------------------------------"
   ]
  },
  {
   "cell_type": "markdown",
   "id": "7a51b103",
   "metadata": {
    "id": "7a51b103"
   },
   "source": [
    "# KNN"
   ]
  },
  {
   "cell_type": "code",
   "execution_count": 59,
   "id": "055022b3",
   "metadata": {
    "colab": {
     "base_uri": "https://localhost:8080/"
    },
    "id": "055022b3",
    "outputId": "27a86916-cd16-4c81-c208-2e0312688759"
   },
   "outputs": [
    {
     "name": "stdout",
     "output_type": "stream",
     "text": [
      "Accuracy: 0.6816243025418475\n",
      "              precision    recall  f1-score   support\n",
      "\n",
      "           0       0.27      0.62      0.38      4089\n",
      "           1       0.73      0.49      0.59     11132\n",
      "           2       0.24      0.59      0.35      6062\n",
      "           3       0.95      0.96      0.96     18871\n",
      "           4       0.98      0.61      0.75     37000\n",
      "           5       0.36      0.72      0.48      3496\n",
      "\n",
      "    accuracy                           0.68     80650\n",
      "   macro avg       0.59      0.67      0.58     80650\n",
      "weighted avg       0.82      0.68      0.72     80650\n",
      "\n"
     ]
    }
   ],
   "source": [
    "from sklearn.neighbors import KNeighborsClassifier\n",
    "knn = KNeighborsClassifier(n_neighbors = 7).fit(X_train, y_train)\n",
    "knn_predictions = knn.predict(X_test)\n",
    "print(\"Accuracy:\",metrics.accuracy_score(y_test, knn_predictions))\n",
    "print(classification_report(y_test, knn_predictions))"
   ]
  },
  {
   "cell_type": "code",
   "execution_count": 60,
   "id": "a061ad64",
   "metadata": {
    "colab": {
     "base_uri": "https://localhost:8080/"
    },
    "id": "a061ad64",
    "outputId": "46fab607-6c2f-4849-e566-b25c4604bdcf"
   },
   "outputs": [
    {
     "data": {
      "text/plain": [
       "(311340, 42)"
      ]
     },
     "execution_count": 60,
     "metadata": {},
     "output_type": "execute_result"
    }
   ],
   "source": [
    "X_train.shape"
   ]
  },
  {
   "cell_type": "markdown",
   "id": "40cacaae",
   "metadata": {
    "id": "40cacaae"
   },
   "source": [
    "# ------------------------------------------"
   ]
  },
  {
   "cell_type": "markdown",
   "id": "08d7f393",
   "metadata": {
    "id": "08d7f393"
   },
   "source": [
    "# ANN"
   ]
  },
  {
   "cell_type": "code",
   "execution_count": 94,
   "id": "2fad61e8",
   "metadata": {
    "id": "2fad61e8"
   },
   "outputs": [],
   "source": [
    "from keras.models import Sequential\n",
    "from keras.layers import Dense"
   ]
  },
  {
   "cell_type": "code",
   "execution_count": 95,
   "id": "0b9a09c8",
   "metadata": {
    "id": "0b9a09c8"
   },
   "outputs": [],
   "source": [
    "from keras.utils import to_categorical\n",
    "y_train = to_categorical(y_train)\n",
    "y_test = to_categorical(y_test)"
   ]
  },
  {
   "cell_type": "code",
   "execution_count": 96,
   "id": "70ad5c9f",
   "metadata": {
    "id": "70ad5c9f"
   },
   "outputs": [],
   "source": [
    "#Setting up an artificial neural network\n",
    "ANN_model = Sequential()\n",
    "#Creating input layer\n",
    "ANN_model.add(Dense(200, input_dim=42, activation='sigmoid'))\n",
    "ANN_model.add(Dense(400, input_dim=42, activation='sigmoid'))\n",
    "ANN_model.add(Dense(200, input_dim=42, activation='sigmoid'))\n",
    "#Creating output layer\n",
    "ANN_model.add(Dense(6, activation='softmax'))\n",
    "#Compiling the model along with the definition of optimizer\n",
    "ANN_model.compile(optimizer='rmsprop', loss='categorical_crossentropy', metrics=['accuracy'])"
   ]
  },
  {
   "cell_type": "code",
   "execution_count": 99,
   "id": "0f3352a2",
   "metadata": {
    "colab": {
     "base_uri": "https://localhost:8080/"
    },
    "id": "0f3352a2",
    "outputId": "eed9bf68-21bb-4248-95fe-47246729ee81",
    "scrolled": true
   },
   "outputs": [
    {
     "name": "stdout",
     "output_type": "stream",
     "text": [
      "Epoch 1/10\n",
      "6227/6227 [==============================] - 42s 7ms/step - loss: 0.9481 - accuracy: 0.6203\n",
      "Epoch 2/10\n",
      "6227/6227 [==============================] - 39s 6ms/step - loss: 0.7481 - accuracy: 0.7021\n",
      "Epoch 3/10\n",
      "6227/6227 [==============================] - 37s 6ms/step - loss: 0.6954 - accuracy: 0.7266\n",
      "Epoch 4/10\n",
      "6227/6227 [==============================] - 39s 6ms/step - loss: 0.6672 - accuracy: 0.7382\n",
      "Epoch 5/10\n",
      "6227/6227 [==============================] - 38s 6ms/step - loss: 0.6505 - accuracy: 0.7449\n",
      "Epoch 6/10\n",
      "6227/6227 [==============================] - 39s 6ms/step - loss: 0.6377 - accuracy: 0.7502\n",
      "Epoch 7/10\n",
      "6227/6227 [==============================] - 40s 6ms/step - loss: 0.6297 - accuracy: 0.7535\n",
      "Epoch 8/10\n",
      "6227/6227 [==============================] - 38s 6ms/step - loss: 0.6221 - accuracy: 0.7571\n",
      "Epoch 9/10\n",
      "6227/6227 [==============================] - 40s 6ms/step - loss: 0.6172 - accuracy: 0.7589\n",
      "Epoch 10/10\n",
      "6227/6227 [==============================] - 40s 6ms/step - loss: 0.6120 - accuracy: 0.7611\n"
     ]
    },
    {
     "data": {
      "text/plain": [
       "<keras.callbacks.History at 0x7d58b01d0340>"
      ]
     },
     "execution_count": 99,
     "metadata": {},
     "output_type": "execute_result"
    }
   ],
   "source": [
    "ANN_model.fit(X_train, y_train, batch_size=50, epochs=10)\n"
   ]
  },
  {
   "cell_type": "code",
   "execution_count": 100,
   "id": "a1b623c9",
   "metadata": {
    "colab": {
     "base_uri": "https://localhost:8080/"
    },
    "id": "a1b623c9",
    "outputId": "a1a64a4e-40a2-4da5-d282-b825de741f4f"
   },
   "outputs": [
    {
     "name": "stdout",
     "output_type": "stream",
     "text": [
      "2521/2521 [==============================] - 5s 2ms/step\n"
     ]
    }
   ],
   "source": [
    "predictions = ANN_model.predict(X_test)"
   ]
  },
  {
   "cell_type": "code",
   "execution_count": 101,
   "id": "fi2ISXlPahav",
   "metadata": {
    "colab": {
     "base_uri": "https://localhost:8080/"
    },
    "id": "fi2ISXlPahav",
    "outputId": "947a4022-79bc-48e9-e816-709720a8ed56"
   },
   "outputs": [
    {
     "name": "stdout",
     "output_type": "stream",
     "text": [
      "2521/2521 [==============================] - 7s 3ms/step - loss: 0.8447 - accuracy: 0.6845\n"
     ]
    },
    {
     "data": {
      "text/plain": [
       "[0.8446996808052063, 0.6844885349273682]"
      ]
     },
     "execution_count": 101,
     "metadata": {},
     "output_type": "execute_result"
    }
   ],
   "source": [
    "ANN_model.evaluate(X_test,y_test)"
   ]
  },
  {
   "cell_type": "markdown",
   "id": "aa95177e",
   "metadata": {
    "id": "aa95177e"
   },
   "source": [
    "# =============================================================="
   ]
  },
  {
   "cell_type": "markdown",
   "id": "2b342257",
   "metadata": {
    "id": "2b342257"
   },
   "source": [
    "# Feature Processing-Part1"
   ]
  },
  {
   "cell_type": "code",
   "execution_count": 102,
   "id": "003e5a25",
   "metadata": {
    "id": "003e5a25"
   },
   "outputs": [],
   "source": [
    "#Feature selection by tree-based method."
   ]
  },
  {
   "cell_type": "code",
   "execution_count": 103,
   "id": "3290046b",
   "metadata": {
    "id": "3290046b",
    "scrolled": true
   },
   "outputs": [],
   "source": [
    "from sklearn.ensemble import ExtraTreesClassifier\n",
    "from sklearn.feature_selection import SelectFromModel\n",
    "\n",
    "clf = ExtraTreesClassifier(n_estimators = 100)\n",
    "clf = clf.fit(X_train, y_train)\n",
    "\n",
    "clf.feature_importances_\n",
    "\n",
    "model = SelectFromModel(clf, prefit=True)\n",
    "Xnew = model.transform(X_train)\n",
    "Xnew.shape\n",
    "\n",
    "X_test_selected = model.transform(X_test)\n"
   ]
  },
  {
   "cell_type": "code",
   "execution_count": 104,
   "id": "1b27480b",
   "metadata": {
    "colab": {
     "base_uri": "https://localhost:8080/"
    },
    "id": "1b27480b",
    "outputId": "2cff3378-2e37-4a78-e356-c285837d3312"
   },
   "outputs": [
    {
     "data": {
      "text/plain": [
       "(80650, 13)"
      ]
     },
     "execution_count": 104,
     "metadata": {},
     "output_type": "execute_result"
    }
   ],
   "source": [
    "X_test_selected.shape"
   ]
  },
  {
   "cell_type": "code",
   "execution_count": 105,
   "id": "e980e6be",
   "metadata": {
    "colab": {
     "base_uri": "https://localhost:8080/"
    },
    "id": "e980e6be",
    "outputId": "d72cec06-f969-4a1b-f297-bc83334e0494"
   },
   "outputs": [
    {
     "data": {
      "text/plain": [
       "(311340, 13)"
      ]
     },
     "execution_count": 105,
     "metadata": {},
     "output_type": "execute_result"
    }
   ],
   "source": [
    "Xnew.shape"
   ]
  },
  {
   "cell_type": "code",
   "execution_count": 106,
   "id": "65a41b61",
   "metadata": {
    "colab": {
     "base_uri": "https://localhost:8080/"
    },
    "id": "65a41b61",
    "outputId": "308fbb27-d4b8-433c-a439-180c18a56e05"
   },
   "outputs": [
    {
     "data": {
      "text/plain": [
       "(80650, 13)"
      ]
     },
     "execution_count": 106,
     "metadata": {},
     "output_type": "execute_result"
    }
   ],
   "source": [
    "X_test_selected.shape"
   ]
  },
  {
   "cell_type": "code",
   "execution_count": 107,
   "id": "f7506508",
   "metadata": {
    "colab": {
     "base_uri": "https://localhost:8080/"
    },
    "id": "f7506508",
    "outputId": "4ce4fc92-4137-46a9-cdd7-88a7265da28a"
   },
   "outputs": [
    {
     "data": {
      "text/plain": [
       "13"
      ]
     },
     "execution_count": 107,
     "metadata": {},
     "output_type": "execute_result"
    }
   ],
   "source": [
    "Xnew.shape[1]"
   ]
  },
  {
   "cell_type": "markdown",
   "id": "708baa9c",
   "metadata": {
    "id": "708baa9c"
   },
   "source": [
    "# ---------------------------------------"
   ]
  },
  {
   "cell_type": "markdown",
   "id": "edf03672",
   "metadata": {
    "id": "edf03672"
   },
   "source": [
    "# Random Forest Model"
   ]
  },
  {
   "cell_type": "code",
   "execution_count": null,
   "id": "5fc2cd5f",
   "metadata": {
    "id": "5fc2cd5f",
    "outputId": "852cd32c-e657-4b81-fbdf-dfb7da54680a"
   },
   "outputs": [
    {
     "name": "stdout",
     "output_type": "stream",
     "text": [
      "Accuracy: 0.724922504649721\n",
      "              precision    recall  f1-score   support\n",
      "\n",
      "           0       0.34      0.52      0.41      4089\n",
      "           1       0.77      0.56      0.65     11132\n",
      "           2       0.25      0.65      0.36      6062\n",
      "           3       0.95      0.97      0.96     18871\n",
      "           4       0.98      0.68      0.80     37000\n",
      "           5       0.52      0.81      0.64      3496\n",
      "\n",
      "    accuracy                           0.72     80650\n",
      "   macro avg       0.63      0.70      0.64     80650\n",
      "weighted avg       0.83      0.72      0.76     80650\n",
      "\n"
     ]
    }
   ],
   "source": [
    "\n",
    "model = RandomForestClassifier(n_estimators=100,\n",
    "                               bootstrap = True,\n",
    "                               max_features = 'sqrt')\n",
    "\n",
    "model.fit(Xnew, y_train)\n",
    "rf_predictions = model.predict(X_test_selected)\n",
    "\n",
    "print(\"Accuracy:\",metrics.accuracy_score(y_test, rf_predictions))\n",
    "print(classification_report(y_test, rf_predictions))"
   ]
  },
  {
   "cell_type": "code",
   "execution_count": null,
   "id": "e9c6ebb9",
   "metadata": {
    "id": "e9c6ebb9",
    "outputId": "ec678f3a-0333-41ad-80da-55345ae037c8"
   },
   "outputs": [
    {
     "data": {
      "text/plain": [
       "0.724922504649721"
      ]
     },
     "execution_count": 66,
     "metadata": {},
     "output_type": "execute_result"
    }
   ],
   "source": [
    "accuracy_score(y_test, rf_predictions)"
   ]
  },
  {
   "cell_type": "markdown",
   "id": "e0696c19",
   "metadata": {
    "id": "e0696c19"
   },
   "source": [
    "# --------------------------------------"
   ]
  },
  {
   "cell_type": "markdown",
   "id": "4412460e",
   "metadata": {
    "id": "4412460e"
   },
   "source": [
    "# Decision Tree"
   ]
  },
  {
   "cell_type": "code",
   "execution_count": null,
   "id": "08c5bbf3",
   "metadata": {
    "id": "08c5bbf3",
    "outputId": "6f7b321d-3894-41ef-f18f-1a88d57ef068",
    "scrolled": true
   },
   "outputs": [
    {
     "name": "stdout",
     "output_type": "stream",
     "text": [
      "Accuracy: 0.7227650340979541\n",
      "              precision    recall  f1-score   support\n",
      "\n",
      "           0       0.30      0.44      0.36      4089\n",
      "           1       0.70      0.53      0.60     11132\n",
      "           2       0.24      0.52      0.33      6062\n",
      "           3       0.89      0.97      0.93     18871\n",
      "           4       0.95      0.71      0.82     37000\n",
      "           5       0.57      0.79      0.66      3496\n",
      "\n",
      "    accuracy                           0.72     80650\n",
      "   macro avg       0.61      0.66      0.62     80650\n",
      "weighted avg       0.80      0.72      0.75     80650\n",
      "\n"
     ]
    }
   ],
   "source": [
    "from sklearn.tree import DecisionTreeClassifier\n",
    "dtree_model = DecisionTreeClassifier(criterion = 'entropy').fit(Xnew, y_train)\n",
    "dtree_predictions = dtree_model.predict(X_test_selected)\n",
    "\n",
    "print(\"Accuracy:\",metrics.accuracy_score(y_test, dtree_predictions))\n",
    "print(classification_report(y_test, dtree_predictions))"
   ]
  },
  {
   "cell_type": "markdown",
   "id": "a9c73601",
   "metadata": {
    "id": "a9c73601"
   },
   "source": [
    "# -----------------------------------------"
   ]
  },
  {
   "cell_type": "markdown",
   "id": "d60f61f5",
   "metadata": {
    "id": "d60f61f5"
   },
   "source": [
    "# KNN"
   ]
  },
  {
   "cell_type": "code",
   "execution_count": null,
   "id": "9c8c9f09",
   "metadata": {
    "id": "9c8c9f09",
    "outputId": "dc98c975-f25e-48cb-c09f-a564d4fd434e",
    "scrolled": true
   },
   "outputs": [
    {
     "name": "stdout",
     "output_type": "stream",
     "text": [
      "Accuracy: 0.7178425294482331\n",
      "              precision    recall  f1-score   support\n",
      "\n",
      "           0       0.33      0.63      0.43      4089\n",
      "           1       0.80      0.53      0.64     11132\n",
      "           2       0.23      0.56      0.32      6062\n",
      "           3       0.96      0.97      0.96     18871\n",
      "           4       0.96      0.67      0.79     37000\n",
      "           5       0.51      0.81      0.63      3496\n",
      "\n",
      "    accuracy                           0.72     80650\n",
      "   macro avg       0.63      0.70      0.63     80650\n",
      "weighted avg       0.83      0.72      0.75     80650\n",
      "\n"
     ]
    }
   ],
   "source": [
    "from sklearn.neighbors import KNeighborsClassifier\n",
    "knn = KNeighborsClassifier(n_neighbors = 7).fit(Xnew, y_train)\n",
    "knn_predictions = knn.predict(X_test_selected)\n",
    "print(\"Accuracy:\",metrics.accuracy_score(y_test, knn_predictions))\n",
    "print(classification_report(y_test, knn_predictions))"
   ]
  },
  {
   "cell_type": "markdown",
   "id": "9331f2b9",
   "metadata": {
    "id": "9331f2b9"
   },
   "source": [
    "# ------------------------------------"
   ]
  },
  {
   "cell_type": "markdown",
   "id": "c0d630fe",
   "metadata": {
    "id": "c0d630fe"
   },
   "source": [
    "# ANN"
   ]
  },
  {
   "cell_type": "code",
   "execution_count": 109,
   "id": "864c71c0",
   "metadata": {
    "id": "864c71c0"
   },
   "outputs": [],
   "source": [
    "\n",
    "ANN_model = Sequential()\n",
    "\n",
    "ANN_model.add(Dense(200, input_dim=Xnew.shape[1], activation='sigmoid'))\n",
    "ANN_model.add(Dense(400, input_dim=Xnew.shape[1], activation='sigmoid'))\n",
    "ANN_model.add(Dense(200, input_dim=Xnew.shape[1], activation='sigmoid'))\n",
    "\n",
    "ANN_model.add(Dense(6, activation='softmax'))\n",
    "\n",
    "ANN_model.compile(optimizer='rmsprop', loss='categorical_crossentropy', metrics=['accuracy'])"
   ]
  },
  {
   "cell_type": "code",
   "execution_count": 110,
   "id": "631c6b37",
   "metadata": {
    "colab": {
     "base_uri": "https://localhost:8080/"
    },
    "id": "631c6b37",
    "outputId": "bdd7f1f1-1af5-4679-d782-f461adffd1bb"
   },
   "outputs": [
    {
     "name": "stdout",
     "output_type": "stream",
     "text": [
      "Epoch 1/10\n",
      "6227/6227 [==============================] - 49s 7ms/step - loss: 0.9918 - accuracy: 0.5970\n",
      "Epoch 2/10\n",
      "6227/6227 [==============================] - 38s 6ms/step - loss: 0.7727 - accuracy: 0.6893\n",
      "Epoch 3/10\n",
      "6227/6227 [==============================] - 40s 6ms/step - loss: 0.7262 - accuracy: 0.7134\n",
      "Epoch 4/10\n",
      "6227/6227 [==============================] - 39s 6ms/step - loss: 0.6992 - accuracy: 0.7253\n",
      "Epoch 5/10\n",
      "6227/6227 [==============================] - 39s 6ms/step - loss: 0.6794 - accuracy: 0.7346\n",
      "Epoch 6/10\n",
      "6227/6227 [==============================] - 40s 6ms/step - loss: 0.6635 - accuracy: 0.7403\n",
      "Epoch 7/10\n",
      "6227/6227 [==============================] - 40s 6ms/step - loss: 0.6522 - accuracy: 0.7453\n",
      "Epoch 8/10\n",
      "6227/6227 [==============================] - 39s 6ms/step - loss: 0.6445 - accuracy: 0.7482\n",
      "Epoch 9/10\n",
      "6227/6227 [==============================] - 41s 7ms/step - loss: 0.6376 - accuracy: 0.7507\n",
      "Epoch 10/10\n",
      "6227/6227 [==============================] - 41s 7ms/step - loss: 0.6326 - accuracy: 0.7525\n"
     ]
    },
    {
     "data": {
      "text/plain": [
       "<keras.callbacks.History at 0x7d58a70eaa40>"
      ]
     },
     "execution_count": 110,
     "metadata": {},
     "output_type": "execute_result"
    }
   ],
   "source": [
    "ANN_model.fit(Xnew, y_train, batch_size=50, epochs=10)"
   ]
  },
  {
   "cell_type": "code",
   "execution_count": 111,
   "id": "ec0f4360",
   "metadata": {
    "colab": {
     "base_uri": "https://localhost:8080/"
    },
    "id": "ec0f4360",
    "outputId": "fae99001-d6d8-49c1-ffd0-4cfe0ba25832"
   },
   "outputs": [
    {
     "name": "stdout",
     "output_type": "stream",
     "text": [
      "2521/2521 [==============================] - 5s 2ms/step\n",
      "2521/2521 [==============================] - 6s 2ms/step - loss: 0.7372 - accuracy: 0.7040\n"
     ]
    },
    {
     "data": {
      "text/plain": [
       "[0.7372429370880127, 0.7039925456047058]"
      ]
     },
     "execution_count": 111,
     "metadata": {},
     "output_type": "execute_result"
    }
   ],
   "source": [
    "predictions = ANN_model.predict(X_test_selected)\n",
    "ANN_model.evaluate(X_test_selected,y_test)"
   ]
  },
  {
   "cell_type": "markdown",
   "id": "aaa87e9f",
   "metadata": {
    "id": "aaa87e9f"
   },
   "source": [
    "# =============================================================="
   ]
  },
  {
   "cell_type": "markdown",
   "id": "254db1c7",
   "metadata": {
    "id": "254db1c7"
   },
   "source": [
    "# Feature Processing-Part2"
   ]
  },
  {
   "cell_type": "markdown",
   "id": "1cc6ff52",
   "metadata": {
    "id": "1cc6ff52"
   },
   "source": [
    "# information gain and feature selection"
   ]
  },
  {
   "cell_type": "code",
   "execution_count": 112,
   "id": "7b85918d",
   "metadata": {
    "id": "7b85918d"
   },
   "outputs": [],
   "source": [
    "import pandas as pd\n",
    "from sklearn.feature_selection import mutual_info_classif\n",
    "\n",
    "\n",
    "\n",
    "X = df.drop('attack_cat', axis=1)\n",
    "y = df['attack_cat']\n",
    "\n",
    "#We calculate the information gain for each feature\n",
    "info_gains = mutual_info_classif(X, y)\n",
    "\n",
    "#We make a table including features and information gain\n",
    "feature_info_gains = pd.DataFrame({'Feature': X.columns, 'Information Gain': info_gains})\n",
    "\n",
    "#We sort the features in the table based on information gain\n",
    "feature_info_gains = feature_info_gains.sort_values(by='Information Gain', ascending=False)\n"
   ]
  },
  {
   "cell_type": "code",
   "execution_count": 113,
   "id": "96a1b5f1",
   "metadata": {
    "id": "96a1b5f1"
   },
   "outputs": [],
   "source": [
    "X , y = SMOTE().fit_resample(X, y)"
   ]
  },
  {
   "cell_type": "code",
   "execution_count": 114,
   "id": "f630d10d",
   "metadata": {
    "colab": {
     "base_uri": "https://localhost:8080/",
     "height": 833
    },
    "id": "f630d10d",
    "outputId": "af9f1754-3144-41ee-8d36-7cdfef242bd7",
    "scrolled": false
   },
   "outputs": [
    {
     "data": {
      "text/html": [
       "\n",
       "\n",
       "  <div id=\"df-21eb43e1-52c9-4117-b201-7484101476ee\">\n",
       "    <div class=\"colab-df-container\">\n",
       "      <div>\n",
       "<style scoped>\n",
       "    .dataframe tbody tr th:only-of-type {\n",
       "        vertical-align: middle;\n",
       "    }\n",
       "\n",
       "    .dataframe tbody tr th {\n",
       "        vertical-align: top;\n",
       "    }\n",
       "\n",
       "    .dataframe thead th {\n",
       "        text-align: right;\n",
       "    }\n",
       "</style>\n",
       "<table border=\"1\" class=\"dataframe\">\n",
       "  <thead>\n",
       "    <tr style=\"text-align: right;\">\n",
       "      <th></th>\n",
       "      <th>Feature</th>\n",
       "      <th>Information Gain</th>\n",
       "    </tr>\n",
       "  </thead>\n",
       "  <tbody>\n",
       "    <tr>\n",
       "      <th>6</th>\n",
       "      <td>sbytes</td>\n",
       "      <td>0.818218</td>\n",
       "    </tr>\n",
       "    <tr>\n",
       "      <th>7</th>\n",
       "      <td>dbytes</td>\n",
       "      <td>0.645613</td>\n",
       "    </tr>\n",
       "    <tr>\n",
       "      <th>26</th>\n",
       "      <td>smean</td>\n",
       "      <td>0.566625</td>\n",
       "    </tr>\n",
       "    <tr>\n",
       "      <th>9</th>\n",
       "      <td>sttl</td>\n",
       "      <td>0.517900</td>\n",
       "    </tr>\n",
       "    <tr>\n",
       "      <th>27</th>\n",
       "      <td>dmean</td>\n",
       "      <td>0.510366</td>\n",
       "    </tr>\n",
       "    <tr>\n",
       "      <th>31</th>\n",
       "      <td>ct_state_ttl</td>\n",
       "      <td>0.446935</td>\n",
       "    </tr>\n",
       "    <tr>\n",
       "      <th>10</th>\n",
       "      <td>dttl</td>\n",
       "      <td>0.446844</td>\n",
       "    </tr>\n",
       "    <tr>\n",
       "      <th>11</th>\n",
       "      <td>sload</td>\n",
       "      <td>0.438868</td>\n",
       "    </tr>\n",
       "    <tr>\n",
       "      <th>12</th>\n",
       "      <td>dload</td>\n",
       "      <td>0.401162</td>\n",
       "    </tr>\n",
       "    <tr>\n",
       "      <th>16</th>\n",
       "      <td>dinpkt</td>\n",
       "      <td>0.401057</td>\n",
       "    </tr>\n",
       "    <tr>\n",
       "      <th>5</th>\n",
       "      <td>dpkts</td>\n",
       "      <td>0.399753</td>\n",
       "    </tr>\n",
       "    <tr>\n",
       "      <th>8</th>\n",
       "      <td>rate</td>\n",
       "      <td>0.396321</td>\n",
       "    </tr>\n",
       "    <tr>\n",
       "      <th>23</th>\n",
       "      <td>tcprtt</td>\n",
       "      <td>0.365795</td>\n",
       "    </tr>\n",
       "    <tr>\n",
       "      <th>24</th>\n",
       "      <td>synack</td>\n",
       "      <td>0.365572</td>\n",
       "    </tr>\n",
       "    <tr>\n",
       "      <th>0</th>\n",
       "      <td>dur</td>\n",
       "      <td>0.363716</td>\n",
       "    </tr>\n",
       "    <tr>\n",
       "      <th>25</th>\n",
       "      <td>ackdat</td>\n",
       "      <td>0.352690</td>\n",
       "    </tr>\n",
       "    <tr>\n",
       "      <th>15</th>\n",
       "      <td>sinpkt</td>\n",
       "      <td>0.300735</td>\n",
       "    </tr>\n",
       "    <tr>\n",
       "      <th>14</th>\n",
       "      <td>dloss</td>\n",
       "      <td>0.296199</td>\n",
       "    </tr>\n",
       "    <tr>\n",
       "      <th>17</th>\n",
       "      <td>sjit</td>\n",
       "      <td>0.287757</td>\n",
       "    </tr>\n",
       "    <tr>\n",
       "      <th>18</th>\n",
       "      <td>djit</td>\n",
       "      <td>0.283692</td>\n",
       "    </tr>\n",
       "    <tr>\n",
       "      <th>40</th>\n",
       "      <td>ct_srv_dst</td>\n",
       "      <td>0.281717</td>\n",
       "    </tr>\n",
       "    <tr>\n",
       "      <th>4</th>\n",
       "      <td>spkts</td>\n",
       "      <td>0.278123</td>\n",
       "    </tr>\n",
       "    <tr>\n",
       "      <th>2</th>\n",
       "      <td>service</td>\n",
       "      <td>0.238624</td>\n",
       "    </tr>\n",
       "    <tr>\n",
       "      <th>30</th>\n",
       "      <td>ct_srv_src</td>\n",
       "      <td>0.237441</td>\n",
       "    </tr>\n",
       "    <tr>\n",
       "      <th>13</th>\n",
       "      <td>sloss</td>\n",
       "      <td>0.236964</td>\n",
       "    </tr>\n",
       "  </tbody>\n",
       "</table>\n",
       "</div>\n",
       "      <button class=\"colab-df-convert\" onclick=\"convertToInteractive('df-21eb43e1-52c9-4117-b201-7484101476ee')\"\n",
       "              title=\"Convert this dataframe to an interactive table.\"\n",
       "              style=\"display:none;\">\n",
       "\n",
       "  <svg xmlns=\"http://www.w3.org/2000/svg\" height=\"24px\"viewBox=\"0 0 24 24\"\n",
       "       width=\"24px\">\n",
       "    <path d=\"M0 0h24v24H0V0z\" fill=\"none\"/>\n",
       "    <path d=\"M18.56 5.44l.94 2.06.94-2.06 2.06-.94-2.06-.94-.94-2.06-.94 2.06-2.06.94zm-11 1L8.5 8.5l.94-2.06 2.06-.94-2.06-.94L8.5 2.5l-.94 2.06-2.06.94zm10 10l.94 2.06.94-2.06 2.06-.94-2.06-.94-.94-2.06-.94 2.06-2.06.94z\"/><path d=\"M17.41 7.96l-1.37-1.37c-.4-.4-.92-.59-1.43-.59-.52 0-1.04.2-1.43.59L10.3 9.45l-7.72 7.72c-.78.78-.78 2.05 0 2.83L4 21.41c.39.39.9.59 1.41.59.51 0 1.02-.2 1.41-.59l7.78-7.78 2.81-2.81c.8-.78.8-2.07 0-2.86zM5.41 20L4 18.59l7.72-7.72 1.47 1.35L5.41 20z\"/>\n",
       "  </svg>\n",
       "      </button>\n",
       "\n",
       "\n",
       "\n",
       "    <div id=\"df-d46a8ed8-900d-43a0-a11c-51523913c984\">\n",
       "      <button class=\"colab-df-quickchart\" onclick=\"quickchart('df-d46a8ed8-900d-43a0-a11c-51523913c984')\"\n",
       "              title=\"Suggest charts.\"\n",
       "              style=\"display:none;\">\n",
       "\n",
       "<svg xmlns=\"http://www.w3.org/2000/svg\" height=\"24px\"viewBox=\"0 0 24 24\"\n",
       "     width=\"24px\">\n",
       "    <g>\n",
       "        <path d=\"M19 3H5c-1.1 0-2 .9-2 2v14c0 1.1.9 2 2 2h14c1.1 0 2-.9 2-2V5c0-1.1-.9-2-2-2zM9 17H7v-7h2v7zm4 0h-2V7h2v10zm4 0h-2v-4h2v4z\"/>\n",
       "    </g>\n",
       "</svg>\n",
       "      </button>\n",
       "    </div>\n",
       "\n",
       "<style>\n",
       "  .colab-df-quickchart {\n",
       "    background-color: #E8F0FE;\n",
       "    border: none;\n",
       "    border-radius: 50%;\n",
       "    cursor: pointer;\n",
       "    display: none;\n",
       "    fill: #1967D2;\n",
       "    height: 32px;\n",
       "    padding: 0 0 0 0;\n",
       "    width: 32px;\n",
       "  }\n",
       "\n",
       "  .colab-df-quickchart:hover {\n",
       "    background-color: #E2EBFA;\n",
       "    box-shadow: 0px 1px 2px rgba(60, 64, 67, 0.3), 0px 1px 3px 1px rgba(60, 64, 67, 0.15);\n",
       "    fill: #174EA6;\n",
       "  }\n",
       "\n",
       "  [theme=dark] .colab-df-quickchart {\n",
       "    background-color: #3B4455;\n",
       "    fill: #D2E3FC;\n",
       "  }\n",
       "\n",
       "  [theme=dark] .colab-df-quickchart:hover {\n",
       "    background-color: #434B5C;\n",
       "    box-shadow: 0px 1px 3px 1px rgba(0, 0, 0, 0.15);\n",
       "    filter: drop-shadow(0px 1px 2px rgba(0, 0, 0, 0.3));\n",
       "    fill: #FFFFFF;\n",
       "  }\n",
       "</style>\n",
       "\n",
       "    <script>\n",
       "      async function quickchart(key) {\n",
       "        const containerElement = document.querySelector('#' + key);\n",
       "        const charts = await google.colab.kernel.invokeFunction(\n",
       "            'suggestCharts', [key], {});\n",
       "      }\n",
       "    </script>\n",
       "\n",
       "      <script>\n",
       "\n",
       "function displayQuickchartButton(domScope) {\n",
       "  let quickchartButtonEl =\n",
       "    domScope.querySelector('#df-d46a8ed8-900d-43a0-a11c-51523913c984 button.colab-df-quickchart');\n",
       "  quickchartButtonEl.style.display =\n",
       "    google.colab.kernel.accessAllowed ? 'block' : 'none';\n",
       "}\n",
       "\n",
       "        displayQuickchartButton(document);\n",
       "      </script>\n",
       "      <style>\n",
       "    .colab-df-container {\n",
       "      display:flex;\n",
       "      flex-wrap:wrap;\n",
       "      gap: 12px;\n",
       "    }\n",
       "\n",
       "    .colab-df-convert {\n",
       "      background-color: #E8F0FE;\n",
       "      border: none;\n",
       "      border-radius: 50%;\n",
       "      cursor: pointer;\n",
       "      display: none;\n",
       "      fill: #1967D2;\n",
       "      height: 32px;\n",
       "      padding: 0 0 0 0;\n",
       "      width: 32px;\n",
       "    }\n",
       "\n",
       "    .colab-df-convert:hover {\n",
       "      background-color: #E2EBFA;\n",
       "      box-shadow: 0px 1px 2px rgba(60, 64, 67, 0.3), 0px 1px 3px 1px rgba(60, 64, 67, 0.15);\n",
       "      fill: #174EA6;\n",
       "    }\n",
       "\n",
       "    [theme=dark] .colab-df-convert {\n",
       "      background-color: #3B4455;\n",
       "      fill: #D2E3FC;\n",
       "    }\n",
       "\n",
       "    [theme=dark] .colab-df-convert:hover {\n",
       "      background-color: #434B5C;\n",
       "      box-shadow: 0px 1px 3px 1px rgba(0, 0, 0, 0.15);\n",
       "      filter: drop-shadow(0px 1px 2px rgba(0, 0, 0, 0.3));\n",
       "      fill: #FFFFFF;\n",
       "    }\n",
       "  </style>\n",
       "\n",
       "      <script>\n",
       "        const buttonEl =\n",
       "          document.querySelector('#df-21eb43e1-52c9-4117-b201-7484101476ee button.colab-df-convert');\n",
       "        buttonEl.style.display =\n",
       "          google.colab.kernel.accessAllowed ? 'block' : 'none';\n",
       "\n",
       "        async function convertToInteractive(key) {\n",
       "          const element = document.querySelector('#df-21eb43e1-52c9-4117-b201-7484101476ee');\n",
       "          const dataTable =\n",
       "            await google.colab.kernel.invokeFunction('convertToInteractive',\n",
       "                                                     [key], {});\n",
       "          if (!dataTable) return;\n",
       "\n",
       "          const docLinkHtml = 'Like what you see? Visit the ' +\n",
       "            '<a target=\"_blank\" href=https://colab.research.google.com/notebooks/data_table.ipynb>data table notebook</a>'\n",
       "            + ' to learn more about interactive tables.';\n",
       "          element.innerHTML = '';\n",
       "          dataTable['output_type'] = 'display_data';\n",
       "          await google.colab.output.renderOutput(dataTable, element);\n",
       "          const docLink = document.createElement('div');\n",
       "          docLink.innerHTML = docLinkHtml;\n",
       "          element.appendChild(docLink);\n",
       "        }\n",
       "      </script>\n",
       "    </div>\n",
       "  </div>\n"
      ],
      "text/plain": [
       "         Feature  Information Gain\n",
       "6         sbytes          0.818218\n",
       "7         dbytes          0.645613\n",
       "26         smean          0.566625\n",
       "9           sttl          0.517900\n",
       "27         dmean          0.510366\n",
       "31  ct_state_ttl          0.446935\n",
       "10          dttl          0.446844\n",
       "11         sload          0.438868\n",
       "12         dload          0.401162\n",
       "16        dinpkt          0.401057\n",
       "5          dpkts          0.399753\n",
       "8           rate          0.396321\n",
       "23        tcprtt          0.365795\n",
       "24        synack          0.365572\n",
       "0            dur          0.363716\n",
       "25        ackdat          0.352690\n",
       "15        sinpkt          0.300735\n",
       "14         dloss          0.296199\n",
       "17          sjit          0.287757\n",
       "18          djit          0.283692\n",
       "40    ct_srv_dst          0.281717\n",
       "4          spkts          0.278123\n",
       "2        service          0.238624\n",
       "30    ct_srv_src          0.237441\n",
       "13         sloss          0.236964"
      ]
     },
     "execution_count": 114,
     "metadata": {},
     "output_type": "execute_result"
    }
   ],
   "source": [
    "feature_info_gains.head(25)"
   ]
  },
  {
   "cell_type": "code",
   "execution_count": 115,
   "id": "99a9ac65",
   "metadata": {
    "id": "99a9ac65"
   },
   "outputs": [],
   "source": [
    "X_train_ig = X[feature_info_gains[\"Feature\"][0:25]]"
   ]
  },
  {
   "cell_type": "code",
   "execution_count": 116,
   "id": "e0ebae01",
   "metadata": {
    "id": "e0ebae01"
   },
   "outputs": [],
   "source": [
    "X_test_ig = df2[feature_info_gains[\"Feature\"][0:25]]"
   ]
  },
  {
   "cell_type": "code",
   "execution_count": 117,
   "id": "90ebf679",
   "metadata": {
    "colab": {
     "base_uri": "https://localhost:8080/"
    },
    "id": "90ebf679",
    "outputId": "8ba53c63-d707-4b46-ce1d-42939a66354a",
    "scrolled": true
   },
   "outputs": [
    {
     "data": {
      "text/plain": [
       "(311340, 25)"
      ]
     },
     "execution_count": 117,
     "metadata": {},
     "output_type": "execute_result"
    }
   ],
   "source": [
    "X_train_ig.shape"
   ]
  },
  {
   "cell_type": "code",
   "execution_count": 118,
   "id": "6ca47bc5",
   "metadata": {
    "colab": {
     "base_uri": "https://localhost:8080/",
     "height": 488
    },
    "id": "6ca47bc5",
    "outputId": "78f01f36-5b1f-4a07-a71f-b84b656e026d",
    "scrolled": true
   },
   "outputs": [
    {
     "data": {
      "text/html": [
       "\n",
       "\n",
       "  <div id=\"df-0ffe6dad-2b51-4952-bec7-8bf067fab2bb\">\n",
       "    <div class=\"colab-df-container\">\n",
       "      <div>\n",
       "<style scoped>\n",
       "    .dataframe tbody tr th:only-of-type {\n",
       "        vertical-align: middle;\n",
       "    }\n",
       "\n",
       "    .dataframe tbody tr th {\n",
       "        vertical-align: top;\n",
       "    }\n",
       "\n",
       "    .dataframe thead th {\n",
       "        text-align: right;\n",
       "    }\n",
       "</style>\n",
       "<table border=\"1\" class=\"dataframe\">\n",
       "  <thead>\n",
       "    <tr style=\"text-align: right;\">\n",
       "      <th></th>\n",
       "      <th>sbytes</th>\n",
       "      <th>dbytes</th>\n",
       "      <th>smean</th>\n",
       "      <th>sttl</th>\n",
       "      <th>dmean</th>\n",
       "      <th>ct_state_ttl</th>\n",
       "      <th>dttl</th>\n",
       "      <th>sload</th>\n",
       "      <th>dload</th>\n",
       "      <th>dinpkt</th>\n",
       "      <th>...</th>\n",
       "      <th>ackdat</th>\n",
       "      <th>sinpkt</th>\n",
       "      <th>dloss</th>\n",
       "      <th>sjit</th>\n",
       "      <th>djit</th>\n",
       "      <th>ct_srv_dst</th>\n",
       "      <th>spkts</th>\n",
       "      <th>service</th>\n",
       "      <th>ct_srv_src</th>\n",
       "      <th>sloss</th>\n",
       "    </tr>\n",
       "  </thead>\n",
       "  <tbody>\n",
       "    <tr>\n",
       "      <th>0</th>\n",
       "      <td>258</td>\n",
       "      <td>172</td>\n",
       "      <td>43</td>\n",
       "      <td>252</td>\n",
       "      <td>43</td>\n",
       "      <td>0</td>\n",
       "      <td>254</td>\n",
       "      <td>1.415894e+04</td>\n",
       "      <td>8495.365234</td>\n",
       "      <td>8.375000</td>\n",
       "      <td>...</td>\n",
       "      <td>0.000000</td>\n",
       "      <td>24.295600</td>\n",
       "      <td>0</td>\n",
       "      <td>30.177547</td>\n",
       "      <td>11.830604</td>\n",
       "      <td>1</td>\n",
       "      <td>6</td>\n",
       "      <td>0</td>\n",
       "      <td>1</td>\n",
       "      <td>0</td>\n",
       "    </tr>\n",
       "    <tr>\n",
       "      <th>1</th>\n",
       "      <td>734</td>\n",
       "      <td>42014</td>\n",
       "      <td>52</td>\n",
       "      <td>62</td>\n",
       "      <td>1106</td>\n",
       "      <td>1</td>\n",
       "      <td>252</td>\n",
       "      <td>8.395112e+03</td>\n",
       "      <td>503571.312500</td>\n",
       "      <td>15.432865</td>\n",
       "      <td>...</td>\n",
       "      <td>0.000000</td>\n",
       "      <td>49.915000</td>\n",
       "      <td>17</td>\n",
       "      <td>61.426934</td>\n",
       "      <td>1387.778330</td>\n",
       "      <td>6</td>\n",
       "      <td>14</td>\n",
       "      <td>0</td>\n",
       "      <td>43</td>\n",
       "      <td>2</td>\n",
       "    </tr>\n",
       "    <tr>\n",
       "      <th>2</th>\n",
       "      <td>364</td>\n",
       "      <td>13186</td>\n",
       "      <td>46</td>\n",
       "      <td>62</td>\n",
       "      <td>824</td>\n",
       "      <td>1</td>\n",
       "      <td>252</td>\n",
       "      <td>1.572272e+03</td>\n",
       "      <td>60929.230470</td>\n",
       "      <td>102.737203</td>\n",
       "      <td>...</td>\n",
       "      <td>0.050439</td>\n",
       "      <td>231.875571</td>\n",
       "      <td>6</td>\n",
       "      <td>17179.586860</td>\n",
       "      <td>11420.926230</td>\n",
       "      <td>6</td>\n",
       "      <td>8</td>\n",
       "      <td>0</td>\n",
       "      <td>7</td>\n",
       "      <td>1</td>\n",
       "    </tr>\n",
       "    <tr>\n",
       "      <th>3</th>\n",
       "      <td>628</td>\n",
       "      <td>770</td>\n",
       "      <td>52</td>\n",
       "      <td>62</td>\n",
       "      <td>64</td>\n",
       "      <td>1</td>\n",
       "      <td>252</td>\n",
       "      <td>2.740179e+03</td>\n",
       "      <td>3358.622070</td>\n",
       "      <td>90.235726</td>\n",
       "      <td>...</td>\n",
       "      <td>0.000000</td>\n",
       "      <td>152.876547</td>\n",
       "      <td>3</td>\n",
       "      <td>259.080172</td>\n",
       "      <td>4991.784669</td>\n",
       "      <td>1</td>\n",
       "      <td>12</td>\n",
       "      <td>3</td>\n",
       "      <td>1</td>\n",
       "      <td>1</td>\n",
       "    </tr>\n",
       "    <tr>\n",
       "      <th>4</th>\n",
       "      <td>534</td>\n",
       "      <td>268</td>\n",
       "      <td>53</td>\n",
       "      <td>254</td>\n",
       "      <td>45</td>\n",
       "      <td>1</td>\n",
       "      <td>252</td>\n",
       "      <td>8.561499e+03</td>\n",
       "      <td>3987.059814</td>\n",
       "      <td>75.659602</td>\n",
       "      <td>...</td>\n",
       "      <td>0.057234</td>\n",
       "      <td>47.750333</td>\n",
       "      <td>1</td>\n",
       "      <td>2415.837634</td>\n",
       "      <td>115.807000</td>\n",
       "      <td>39</td>\n",
       "      <td>10</td>\n",
       "      <td>0</td>\n",
       "      <td>43</td>\n",
       "      <td>2</td>\n",
       "    </tr>\n",
       "    <tr>\n",
       "      <th>...</th>\n",
       "      <td>...</td>\n",
       "      <td>...</td>\n",
       "      <td>...</td>\n",
       "      <td>...</td>\n",
       "      <td>...</td>\n",
       "      <td>...</td>\n",
       "      <td>...</td>\n",
       "      <td>...</td>\n",
       "      <td>...</td>\n",
       "      <td>...</td>\n",
       "      <td>...</td>\n",
       "      <td>...</td>\n",
       "      <td>...</td>\n",
       "      <td>...</td>\n",
       "      <td>...</td>\n",
       "      <td>...</td>\n",
       "      <td>...</td>\n",
       "      <td>...</td>\n",
       "      <td>...</td>\n",
       "      <td>...</td>\n",
       "      <td>...</td>\n",
       "    </tr>\n",
       "    <tr>\n",
       "      <th>311335</th>\n",
       "      <td>168</td>\n",
       "      <td>0</td>\n",
       "      <td>84</td>\n",
       "      <td>254</td>\n",
       "      <td>0</td>\n",
       "      <td>2</td>\n",
       "      <td>0</td>\n",
       "      <td>5.600000e+07</td>\n",
       "      <td>0.000000</td>\n",
       "      <td>0.000000</td>\n",
       "      <td>...</td>\n",
       "      <td>0.000000</td>\n",
       "      <td>0.012000</td>\n",
       "      <td>0</td>\n",
       "      <td>0.000000</td>\n",
       "      <td>0.000000</td>\n",
       "      <td>1</td>\n",
       "      <td>2</td>\n",
       "      <td>0</td>\n",
       "      <td>3</td>\n",
       "      <td>0</td>\n",
       "    </tr>\n",
       "    <tr>\n",
       "      <th>311336</th>\n",
       "      <td>168</td>\n",
       "      <td>0</td>\n",
       "      <td>84</td>\n",
       "      <td>254</td>\n",
       "      <td>0</td>\n",
       "      <td>2</td>\n",
       "      <td>0</td>\n",
       "      <td>7.466666e+07</td>\n",
       "      <td>0.000000</td>\n",
       "      <td>0.000000</td>\n",
       "      <td>...</td>\n",
       "      <td>0.000000</td>\n",
       "      <td>0.009000</td>\n",
       "      <td>0</td>\n",
       "      <td>0.000000</td>\n",
       "      <td>0.000000</td>\n",
       "      <td>1</td>\n",
       "      <td>2</td>\n",
       "      <td>0</td>\n",
       "      <td>8</td>\n",
       "      <td>0</td>\n",
       "    </tr>\n",
       "    <tr>\n",
       "      <th>311337</th>\n",
       "      <td>664</td>\n",
       "      <td>320</td>\n",
       "      <td>66</td>\n",
       "      <td>254</td>\n",
       "      <td>44</td>\n",
       "      <td>1</td>\n",
       "      <td>252</td>\n",
       "      <td>8.313510e+03</td>\n",
       "      <td>3439.785725</td>\n",
       "      <td>97.339331</td>\n",
       "      <td>...</td>\n",
       "      <td>0.018817</td>\n",
       "      <td>73.105005</td>\n",
       "      <td>1</td>\n",
       "      <td>5318.103780</td>\n",
       "      <td>151.057251</td>\n",
       "      <td>1</td>\n",
       "      <td>10</td>\n",
       "      <td>1</td>\n",
       "      <td>1</td>\n",
       "      <td>2</td>\n",
       "    </tr>\n",
       "    <tr>\n",
       "      <th>311338</th>\n",
       "      <td>815</td>\n",
       "      <td>340</td>\n",
       "      <td>81</td>\n",
       "      <td>254</td>\n",
       "      <td>44</td>\n",
       "      <td>1</td>\n",
       "      <td>252</td>\n",
       "      <td>1.061337e+04</td>\n",
       "      <td>4308.909556</td>\n",
       "      <td>76.880415</td>\n",
       "      <td>...</td>\n",
       "      <td>0.079505</td>\n",
       "      <td>57.662592</td>\n",
       "      <td>1</td>\n",
       "      <td>3651.046234</td>\n",
       "      <td>128.382648</td>\n",
       "      <td>1</td>\n",
       "      <td>10</td>\n",
       "      <td>5</td>\n",
       "      <td>1</td>\n",
       "      <td>2</td>\n",
       "    </tr>\n",
       "    <tr>\n",
       "      <th>311339</th>\n",
       "      <td>200</td>\n",
       "      <td>0</td>\n",
       "      <td>100</td>\n",
       "      <td>254</td>\n",
       "      <td>0</td>\n",
       "      <td>2</td>\n",
       "      <td>0</td>\n",
       "      <td>8.000000e+07</td>\n",
       "      <td>0.000000</td>\n",
       "      <td>0.000000</td>\n",
       "      <td>...</td>\n",
       "      <td>0.000000</td>\n",
       "      <td>0.010000</td>\n",
       "      <td>0</td>\n",
       "      <td>0.000000</td>\n",
       "      <td>0.000000</td>\n",
       "      <td>3</td>\n",
       "      <td>2</td>\n",
       "      <td>0</td>\n",
       "      <td>3</td>\n",
       "      <td>0</td>\n",
       "    </tr>\n",
       "  </tbody>\n",
       "</table>\n",
       "<p>311340 rows × 25 columns</p>\n",
       "</div>\n",
       "      <button class=\"colab-df-convert\" onclick=\"convertToInteractive('df-0ffe6dad-2b51-4952-bec7-8bf067fab2bb')\"\n",
       "              title=\"Convert this dataframe to an interactive table.\"\n",
       "              style=\"display:none;\">\n",
       "\n",
       "  <svg xmlns=\"http://www.w3.org/2000/svg\" height=\"24px\"viewBox=\"0 0 24 24\"\n",
       "       width=\"24px\">\n",
       "    <path d=\"M0 0h24v24H0V0z\" fill=\"none\"/>\n",
       "    <path d=\"M18.56 5.44l.94 2.06.94-2.06 2.06-.94-2.06-.94-.94-2.06-.94 2.06-2.06.94zm-11 1L8.5 8.5l.94-2.06 2.06-.94-2.06-.94L8.5 2.5l-.94 2.06-2.06.94zm10 10l.94 2.06.94-2.06 2.06-.94-2.06-.94-.94-2.06-.94 2.06-2.06.94z\"/><path d=\"M17.41 7.96l-1.37-1.37c-.4-.4-.92-.59-1.43-.59-.52 0-1.04.2-1.43.59L10.3 9.45l-7.72 7.72c-.78.78-.78 2.05 0 2.83L4 21.41c.39.39.9.59 1.41.59.51 0 1.02-.2 1.41-.59l7.78-7.78 2.81-2.81c.8-.78.8-2.07 0-2.86zM5.41 20L4 18.59l7.72-7.72 1.47 1.35L5.41 20z\"/>\n",
       "  </svg>\n",
       "      </button>\n",
       "\n",
       "\n",
       "\n",
       "    <div id=\"df-04e0d663-6b3e-4701-8299-6571ba52877b\">\n",
       "      <button class=\"colab-df-quickchart\" onclick=\"quickchart('df-04e0d663-6b3e-4701-8299-6571ba52877b')\"\n",
       "              title=\"Suggest charts.\"\n",
       "              style=\"display:none;\">\n",
       "\n",
       "<svg xmlns=\"http://www.w3.org/2000/svg\" height=\"24px\"viewBox=\"0 0 24 24\"\n",
       "     width=\"24px\">\n",
       "    <g>\n",
       "        <path d=\"M19 3H5c-1.1 0-2 .9-2 2v14c0 1.1.9 2 2 2h14c1.1 0 2-.9 2-2V5c0-1.1-.9-2-2-2zM9 17H7v-7h2v7zm4 0h-2V7h2v10zm4 0h-2v-4h2v4z\"/>\n",
       "    </g>\n",
       "</svg>\n",
       "      </button>\n",
       "    </div>\n",
       "\n",
       "<style>\n",
       "  .colab-df-quickchart {\n",
       "    background-color: #E8F0FE;\n",
       "    border: none;\n",
       "    border-radius: 50%;\n",
       "    cursor: pointer;\n",
       "    display: none;\n",
       "    fill: #1967D2;\n",
       "    height: 32px;\n",
       "    padding: 0 0 0 0;\n",
       "    width: 32px;\n",
       "  }\n",
       "\n",
       "  .colab-df-quickchart:hover {\n",
       "    background-color: #E2EBFA;\n",
       "    box-shadow: 0px 1px 2px rgba(60, 64, 67, 0.3), 0px 1px 3px 1px rgba(60, 64, 67, 0.15);\n",
       "    fill: #174EA6;\n",
       "  }\n",
       "\n",
       "  [theme=dark] .colab-df-quickchart {\n",
       "    background-color: #3B4455;\n",
       "    fill: #D2E3FC;\n",
       "  }\n",
       "\n",
       "  [theme=dark] .colab-df-quickchart:hover {\n",
       "    background-color: #434B5C;\n",
       "    box-shadow: 0px 1px 3px 1px rgba(0, 0, 0, 0.15);\n",
       "    filter: drop-shadow(0px 1px 2px rgba(0, 0, 0, 0.3));\n",
       "    fill: #FFFFFF;\n",
       "  }\n",
       "</style>\n",
       "\n",
       "    <script>\n",
       "      async function quickchart(key) {\n",
       "        const containerElement = document.querySelector('#' + key);\n",
       "        const charts = await google.colab.kernel.invokeFunction(\n",
       "            'suggestCharts', [key], {});\n",
       "      }\n",
       "    </script>\n",
       "\n",
       "      <script>\n",
       "\n",
       "function displayQuickchartButton(domScope) {\n",
       "  let quickchartButtonEl =\n",
       "    domScope.querySelector('#df-04e0d663-6b3e-4701-8299-6571ba52877b button.colab-df-quickchart');\n",
       "  quickchartButtonEl.style.display =\n",
       "    google.colab.kernel.accessAllowed ? 'block' : 'none';\n",
       "}\n",
       "\n",
       "        displayQuickchartButton(document);\n",
       "      </script>\n",
       "      <style>\n",
       "    .colab-df-container {\n",
       "      display:flex;\n",
       "      flex-wrap:wrap;\n",
       "      gap: 12px;\n",
       "    }\n",
       "\n",
       "    .colab-df-convert {\n",
       "      background-color: #E8F0FE;\n",
       "      border: none;\n",
       "      border-radius: 50%;\n",
       "      cursor: pointer;\n",
       "      display: none;\n",
       "      fill: #1967D2;\n",
       "      height: 32px;\n",
       "      padding: 0 0 0 0;\n",
       "      width: 32px;\n",
       "    }\n",
       "\n",
       "    .colab-df-convert:hover {\n",
       "      background-color: #E2EBFA;\n",
       "      box-shadow: 0px 1px 2px rgba(60, 64, 67, 0.3), 0px 1px 3px 1px rgba(60, 64, 67, 0.15);\n",
       "      fill: #174EA6;\n",
       "    }\n",
       "\n",
       "    [theme=dark] .colab-df-convert {\n",
       "      background-color: #3B4455;\n",
       "      fill: #D2E3FC;\n",
       "    }\n",
       "\n",
       "    [theme=dark] .colab-df-convert:hover {\n",
       "      background-color: #434B5C;\n",
       "      box-shadow: 0px 1px 3px 1px rgba(0, 0, 0, 0.15);\n",
       "      filter: drop-shadow(0px 1px 2px rgba(0, 0, 0, 0.3));\n",
       "      fill: #FFFFFF;\n",
       "    }\n",
       "  </style>\n",
       "\n",
       "      <script>\n",
       "        const buttonEl =\n",
       "          document.querySelector('#df-0ffe6dad-2b51-4952-bec7-8bf067fab2bb button.colab-df-convert');\n",
       "        buttonEl.style.display =\n",
       "          google.colab.kernel.accessAllowed ? 'block' : 'none';\n",
       "\n",
       "        async function convertToInteractive(key) {\n",
       "          const element = document.querySelector('#df-0ffe6dad-2b51-4952-bec7-8bf067fab2bb');\n",
       "          const dataTable =\n",
       "            await google.colab.kernel.invokeFunction('convertToInteractive',\n",
       "                                                     [key], {});\n",
       "          if (!dataTable) return;\n",
       "\n",
       "          const docLinkHtml = 'Like what you see? Visit the ' +\n",
       "            '<a target=\"_blank\" href=https://colab.research.google.com/notebooks/data_table.ipynb>data table notebook</a>'\n",
       "            + ' to learn more about interactive tables.';\n",
       "          element.innerHTML = '';\n",
       "          dataTable['output_type'] = 'display_data';\n",
       "          await google.colab.output.renderOutput(dataTable, element);\n",
       "          const docLink = document.createElement('div');\n",
       "          docLink.innerHTML = docLinkHtml;\n",
       "          element.appendChild(docLink);\n",
       "        }\n",
       "      </script>\n",
       "    </div>\n",
       "  </div>\n"
      ],
      "text/plain": [
       "        sbytes  dbytes  smean  sttl  dmean  ct_state_ttl  dttl         sload  \\\n",
       "0          258     172     43   252     43             0   254  1.415894e+04   \n",
       "1          734   42014     52    62   1106             1   252  8.395112e+03   \n",
       "2          364   13186     46    62    824             1   252  1.572272e+03   \n",
       "3          628     770     52    62     64             1   252  2.740179e+03   \n",
       "4          534     268     53   254     45             1   252  8.561499e+03   \n",
       "...        ...     ...    ...   ...    ...           ...   ...           ...   \n",
       "311335     168       0     84   254      0             2     0  5.600000e+07   \n",
       "311336     168       0     84   254      0             2     0  7.466666e+07   \n",
       "311337     664     320     66   254     44             1   252  8.313510e+03   \n",
       "311338     815     340     81   254     44             1   252  1.061337e+04   \n",
       "311339     200       0    100   254      0             2     0  8.000000e+07   \n",
       "\n",
       "                dload      dinpkt  ...    ackdat      sinpkt  dloss  \\\n",
       "0         8495.365234    8.375000  ...  0.000000   24.295600      0   \n",
       "1       503571.312500   15.432865  ...  0.000000   49.915000     17   \n",
       "2        60929.230470  102.737203  ...  0.050439  231.875571      6   \n",
       "3         3358.622070   90.235726  ...  0.000000  152.876547      3   \n",
       "4         3987.059814   75.659602  ...  0.057234   47.750333      1   \n",
       "...               ...         ...  ...       ...         ...    ...   \n",
       "311335       0.000000    0.000000  ...  0.000000    0.012000      0   \n",
       "311336       0.000000    0.000000  ...  0.000000    0.009000      0   \n",
       "311337    3439.785725   97.339331  ...  0.018817   73.105005      1   \n",
       "311338    4308.909556   76.880415  ...  0.079505   57.662592      1   \n",
       "311339       0.000000    0.000000  ...  0.000000    0.010000      0   \n",
       "\n",
       "                sjit          djit  ct_srv_dst  spkts  service  ct_srv_src  \\\n",
       "0          30.177547     11.830604           1      6        0           1   \n",
       "1          61.426934   1387.778330           6     14        0          43   \n",
       "2       17179.586860  11420.926230           6      8        0           7   \n",
       "3         259.080172   4991.784669           1     12        3           1   \n",
       "4        2415.837634    115.807000          39     10        0          43   \n",
       "...              ...           ...         ...    ...      ...         ...   \n",
       "311335      0.000000      0.000000           1      2        0           3   \n",
       "311336      0.000000      0.000000           1      2        0           8   \n",
       "311337   5318.103780    151.057251           1     10        1           1   \n",
       "311338   3651.046234    128.382648           1     10        5           1   \n",
       "311339      0.000000      0.000000           3      2        0           3   \n",
       "\n",
       "        sloss  \n",
       "0           0  \n",
       "1           2  \n",
       "2           1  \n",
       "3           1  \n",
       "4           2  \n",
       "...       ...  \n",
       "311335      0  \n",
       "311336      0  \n",
       "311337      2  \n",
       "311338      2  \n",
       "311339      0  \n",
       "\n",
       "[311340 rows x 25 columns]"
      ]
     },
     "execution_count": 118,
     "metadata": {},
     "output_type": "execute_result"
    }
   ],
   "source": [
    "X_train_ig"
   ]
  },
  {
   "cell_type": "code",
   "execution_count": 120,
   "id": "cfebd819",
   "metadata": {
    "colab": {
     "base_uri": "https://localhost:8080/",
     "height": 559
    },
    "id": "cfebd819",
    "outputId": "c8708be8-08a3-422a-91ae-71e8c2ab2be8"
   },
   "outputs": [
    {
     "data": {
      "text/plain": [
       "<Axes: >"
      ]
     },
     "execution_count": 120,
     "metadata": {},
     "output_type": "execute_result"
    },
    {
     "data": {
      "image/png": "[encoded data removed]",
      "text/plain": [
       "<Figure size 640x480 with 2 Axes>"
      ]
     },
     "metadata": {},
     "output_type": "display_data"
    }
   ],
   "source": [
    "\n",
    "#Calculating the correlation matrix of features\n",
    "corr_matrix = X_train_ig.corr()\n",
    "\n",
    "#Drawing correlation matrix using heatmap\n",
    "sns.heatmap(corr_matrix,cmap='coolwarm')"
   ]
  },
  {
   "cell_type": "code",
   "execution_count": 121,
   "id": "83f51ba2",
   "metadata": {
    "id": "83f51ba2"
   },
   "outputs": [],
   "source": [
    "scaler = StandardScaler()\n",
    "X_train_ig = scaler.fit_transform(X_train_ig)\n",
    "X_test_ig = scaler.transform(X_test_ig)"
   ]
  },
  {
   "cell_type": "code",
   "execution_count": null,
   "id": "b82c6619",
   "metadata": {
    "id": "b82c6619"
   },
   "outputs": [],
   "source": [
    "X_train_ig"
   ]
  },
  {
   "cell_type": "code",
   "execution_count": 123,
   "id": "0613439c",
   "metadata": {
    "id": "0613439c"
   },
   "outputs": [],
   "source": [
    "from sklearn.preprocessing import Normalizer\n",
    "norm = Normalizer()\n",
    "X_train_ig = norm.fit_transform(X_train_ig)\n",
    "X_test_ig = norm.transform(X_test_ig)"
   ]
  },
  {
   "cell_type": "code",
   "execution_count": 124,
   "id": "077a2a24",
   "metadata": {
    "colab": {
     "base_uri": "https://localhost:8080/"
    },
    "id": "077a2a24",
    "outputId": "6b403b8f-0b22-433c-dd52-bcd1d1990899",
    "scrolled": true
   },
   "outputs": [
    {
     "data": {
      "text/plain": [
       "(311340, 6)"
      ]
     },
     "execution_count": 124,
     "metadata": {},
     "output_type": "execute_result"
    }
   ],
   "source": [
    "y_train.shape"
   ]
  },
  {
   "cell_type": "code",
   "execution_count": 125,
   "id": "6f706940",
   "metadata": {
    "colab": {
     "base_uri": "https://localhost:8080/"
    },
    "id": "6f706940",
    "outputId": "59ab5bfe-de31-4ed8-ce0e-d8771d13599b"
   },
   "outputs": [
    {
     "data": {
      "text/plain": [
       "(311340,)"
      ]
     },
     "execution_count": 125,
     "metadata": {},
     "output_type": "execute_result"
    }
   ],
   "source": [
    "y.shape"
   ]
  },
  {
   "cell_type": "markdown",
   "id": "66c27439",
   "metadata": {
    "id": "66c27439"
   },
   "source": [
    "# ----------------------------------------"
   ]
  },
  {
   "cell_type": "markdown",
   "id": "898b6c4b",
   "metadata": {
    "id": "898b6c4b"
   },
   "source": [
    "# Random Forest"
   ]
  },
  {
   "cell_type": "code",
   "execution_count": null,
   "id": "7059168e",
   "metadata": {
    "id": "7059168e",
    "outputId": "04eaad38-7f25-47e6-e1a2-135de5ef9bc2",
    "scrolled": true
   },
   "outputs": [
    {
     "name": "stdout",
     "output_type": "stream",
     "text": [
      "Accuracy: 0.7493862368257904\n",
      "              precision    recall  f1-score   support\n",
      "\n",
      "           0       0.40      0.69      0.51      4089\n",
      "           1       0.81      0.60      0.69     11132\n",
      "           2       0.27      0.73      0.40      6062\n",
      "           3       0.99      0.97      0.98     18871\n",
      "           4       0.97      0.68      0.80     37000\n",
      "           5       0.64      0.83      0.72      3496\n",
      "\n",
      "    accuracy                           0.75     80650\n",
      "   macro avg       0.68      0.75      0.68     80650\n",
      "weighted avg       0.86      0.75      0.78     80650\n",
      "\n"
     ]
    }
   ],
   "source": [
    "\n",
    "rf_model = RandomForestClassifier(n_estimators=100,\n",
    "                               bootstrap = True,\n",
    "                               max_features = 'sqrt')\n",
    "\n",
    "rf_model.fit(X_train_ig, y_train)\n",
    "rf_predictions = rf_model.predict(X_test_ig)\n",
    "\n",
    "print(\"Accuracy:\",metrics.accuracy_score(y_test, rf_predictions))\n",
    "print(classification_report(y_test, rf_predictions))"
   ]
  },
  {
   "cell_type": "markdown",
   "id": "a42d730c",
   "metadata": {
    "id": "a42d730c"
   },
   "source": [
    "# hyperparameters in Random Forest"
   ]
  },
  {
   "cell_type": "code",
   "execution_count": null,
   "id": "aa1b0e22",
   "metadata": {
    "id": "aa1b0e22"
   },
   "outputs": [],
   "source": [
    "from sklearn.ensemble import RandomForestClassifier\n",
    "from sklearn.model_selection import RandomizedSearchCV"
   ]
  },
  {
   "cell_type": "code",
   "execution_count": null,
   "id": "37e00f9b",
   "metadata": {
    "id": "37e00f9b"
   },
   "outputs": [],
   "source": [
    "rf = RandomForestClassifier(n_estimators=100, max_depth=10, max_features=30)"
   ]
  },
  {
   "cell_type": "code",
   "execution_count": null,
   "id": "b928560c",
   "metadata": {
    "id": "b928560c"
   },
   "outputs": [],
   "source": [
    "\n",
    "param_dist = {\"n_estimators\": [100, 150],\n",
    "              \"max_depth\": [5, 10, 15],\n",
    "              \"max_features\": [20, 30]}\n",
    "\n",
    "rf_random = RandomizedSearchCV(estimator=rf, param_distributions=param_dist,cv=5)\n",
    "\n",
    "rf_random.fit(X_train_ig, y_train)"
   ]
  },
  {
   "cell_type": "code",
   "execution_count": null,
   "id": "1bb14561",
   "metadata": {
    "id": "1bb14561"
   },
   "outputs": [],
   "source": [
    "print(rf_random.best_params_)"
   ]
  },
  {
   "cell_type": "markdown",
   "id": "bd570407",
   "metadata": {
    "id": "bd570407"
   },
   "source": [
    "# --------------------------------------------------"
   ]
  },
  {
   "cell_type": "markdown",
   "id": "24491157",
   "metadata": {
    "id": "24491157"
   },
   "source": [
    "# Decision Tree"
   ]
  },
  {
   "cell_type": "code",
   "execution_count": null,
   "id": "6310374b",
   "metadata": {
    "id": "6310374b",
    "outputId": "daa64485-414f-4966-ec51-89ec09f497ae"
   },
   "outputs": [
    {
     "name": "stdout",
     "output_type": "stream",
     "text": [
      "Accuracy: 0.7488034717916925\n",
      "              precision    recall  f1-score   support\n",
      "\n",
      "           0       0.37      0.70      0.48      4089\n",
      "           1       0.75      0.55      0.64     11132\n",
      "           2       0.27      0.61      0.37      6062\n",
      "           3       0.98      0.97      0.98     18871\n",
      "           4       0.95      0.72      0.82     37000\n",
      "           5       0.66      0.79      0.72      3496\n",
      "\n",
      "    accuracy                           0.75     80650\n",
      "   macro avg       0.66      0.72      0.67     80650\n",
      "weighted avg       0.83      0.75      0.77     80650\n",
      "\n"
     ]
    }
   ],
   "source": [
    "from sklearn.tree import DecisionTreeClassifier\n",
    "dt_model = DecisionTreeClassifier(criterion = 'entropy').fit(X_train_ig, y_train)\n",
    "dtree_predictions = dt_model.predict(X_test_ig)\n",
    "\n",
    "#testing set accuracy\n",
    "print(\"Accuracy:\",metrics.accuracy_score(y_test, dtree_predictions))\n",
    "print(classification_report(y_test, dtree_predictions))"
   ]
  },
  {
   "cell_type": "markdown",
   "id": "ca571406",
   "metadata": {
    "id": "ca571406"
   },
   "source": [
    "# hyperparameters in Decision Tree"
   ]
  },
  {
   "cell_type": "code",
   "execution_count": null,
   "id": "e1405a11",
   "metadata": {
    "id": "e1405a11",
    "outputId": "b14ba7f7-284c-4ce0-b141-fda20190f982"
   },
   "outputs": [
    {
     "name": "stdout",
     "output_type": "stream",
     "text": [
      "{'min_samples_split': 6, 'min_samples_leaf': 1, 'max_depth': 9}\n"
     ]
    }
   ],
   "source": [
    "from sklearn.model_selection import RandomizedSearchCV\n",
    "from sklearn.tree import DecisionTreeClassifier\n",
    "model = DecisionTreeClassifier()\n",
    "\n",
    "# Define the set of parameters to search\n",
    "param_dist = {\n",
    "    'max_depth': np.arange(3, 10),\n",
    "    'min_samples_split': np.arange(2, 10),\n",
    "    'min_samples_leaf': np.arange(1, 5)\n",
    "}\n",
    "\n",
    "# Applying random search method\n",
    "random_search = RandomizedSearchCV(model, param_distributions=param_dist, cv=5)\n",
    "random_search.fit(X_train_ig, y_train)\n",
    "\n",
    "# Printing the best value of hyperparameters\n",
    "print(random_search.best_params_)"
   ]
  },
  {
   "cell_type": "markdown",
   "id": "b16a49af",
   "metadata": {
    "id": "b16a49af"
   },
   "source": [
    "# -----------------------------------------------------"
   ]
  },
  {
   "cell_type": "markdown",
   "id": "aa885093",
   "metadata": {
    "id": "aa885093"
   },
   "source": [
    "# KNN"
   ]
  },
  {
   "cell_type": "code",
   "execution_count": null,
   "id": "1292e7f4",
   "metadata": {
    "id": "1292e7f4"
   },
   "outputs": [],
   "source": [
    "from sklearn.neighbors import KNeighborsClassifier\n",
    "knn_model = KNeighborsClassifier(n_neighbors = 5).fit(X_train_ig, y)\n",
    "knn_predictions = knn_model.predict(X_test_ig)\n",
    "print(\"Accuracy:\",metrics.accuracy_score(y_test, knn_predictions))\n",
    "print(classification_report(y_test, knn_predictions))"
   ]
  },
  {
   "cell_type": "code",
   "execution_count": null,
   "id": "9ae641f8",
   "metadata": {
    "id": "9ae641f8",
    "outputId": "1641b42c-7a56-4060-abf5-67d071d103dd"
   },
   "outputs": [
    {
     "name": "stdout",
     "output_type": "stream",
     "text": [
      "Accuracy: 0.7274147551146931\n",
      "              precision    recall  f1-score   support\n",
      "\n",
      "           0       0.32      0.46      0.38      4089\n",
      "           1       0.73      0.60      0.66     11132\n",
      "           2       0.26      0.68      0.37      6062\n",
      "           3       0.99      0.97      0.98     18871\n",
      "           4       0.97      0.67      0.79     37000\n",
      "           5       0.51      0.82      0.63      3496\n",
      "\n",
      "    accuracy                           0.73     80650\n",
      "   macro avg       0.63      0.70      0.64     80650\n",
      "weighted avg       0.83      0.73      0.76     80650\n",
      "\n"
     ]
    }
   ],
   "source": [
    "from sklearn.neighbors import KNeighborsClassifier\n",
    "knn = KNeighborsClassifier(n_neighbors = 9 , metric = 'manhattan' , weights = 'distance').fit(X_train_ig, y_train)\n",
    "knn_predictions = knn.predict(X_test_ig)\n",
    "print(\"Accuracy:\",metrics.accuracy_score(y_test, knn_predictions))\n",
    "print(classification_report(y_test, knn_predictions))"
   ]
  },
  {
   "cell_type": "markdown",
   "id": "2faac529",
   "metadata": {
    "id": "2faac529"
   },
   "source": [
    "# hyperparameters in KNN"
   ]
  },
  {
   "cell_type": "code",
   "execution_count": null,
   "id": "57f5927c",
   "metadata": {
    "id": "57f5927c"
   },
   "outputs": [],
   "source": [
    "from sklearn.neighbors import KNeighborsClassifier\n",
    "from sklearn.model_selection import RandomizedSearchCV"
   ]
  },
  {
   "cell_type": "code",
   "execution_count": null,
   "id": "6905ab2c",
   "metadata": {
    "id": "6905ab2c"
   },
   "outputs": [],
   "source": [
    "param_dist = {'n_neighbors': [5, 7],\n",
    "              'weights': ['uniform', 'distance'],\n",
    "              'metric': ['euclidean', 'manhattan', 'minkowski']}\n",
    "\n",
    "knn_random = RandomizedSearchCV(estimator = KNeighborsClassifier(), param_distributions=param_dist, cv=5)\n",
    "\n",
    "knn_random.fit(X_train_ig, y_train)"
   ]
  },
  {
   "cell_type": "markdown",
   "id": "058698fb",
   "metadata": {
    "id": "058698fb"
   },
   "source": [
    "# --------------------------------------------------"
   ]
  },
  {
   "cell_type": "markdown",
   "id": "c9695757",
   "metadata": {
    "id": "c9695757"
   },
   "source": [
    "# ANN"
   ]
  },
  {
   "cell_type": "code",
   "execution_count": 126,
   "id": "c037e917",
   "metadata": {
    "id": "c037e917"
   },
   "outputs": [],
   "source": [
    "\n",
    "ANN_model = Sequential()\n",
    "\n",
    "ANN_model.add(Dense(200, input_dim=25, activation='sigmoid'))\n",
    "ANN_model.add(Dense(400, input_dim=25, activation='sigmoid'))\n",
    "ANN_model.add(Dense(400, input_dim=25, activation='sigmoid'))\n",
    "ANN_model.add(Dense(200, input_dim=25, activation='sigmoid'))\n",
    "\n",
    "ANN_model.add(Dense(6, activation='softmax'))\n",
    "\n",
    "ANN_model.compile(optimizer='rmsprop', loss='categorical_crossentropy', metrics=['accuracy'])"
   ]
  },
  {
   "cell_type": "code",
   "execution_count": 127,
   "id": "34f50bcd",
   "metadata": {
    "colab": {
     "base_uri": "https://localhost:8080/"
    },
    "id": "34f50bcd",
    "outputId": "71aef466-9e3d-4f9d-92c2-b4de2586de95"
   },
   "outputs": [
    {
     "name": "stdout",
     "output_type": "stream",
     "text": [
      "Epoch 1/10\n",
      "6227/6227 [==============================] - 58s 9ms/step - loss: 1.0702 - accuracy: 0.5510\n",
      "Epoch 2/10\n",
      "6227/6227 [==============================] - 59s 10ms/step - loss: 0.8105 - accuracy: 0.6812\n",
      "Epoch 3/10\n",
      "6227/6227 [==============================] - 57s 9ms/step - loss: 0.7326 - accuracy: 0.7142\n",
      "Epoch 4/10\n",
      "6227/6227 [==============================] - 57s 9ms/step - loss: 0.6854 - accuracy: 0.7306\n",
      "Epoch 5/10\n",
      "6227/6227 [==============================] - 55s 9ms/step - loss: 0.6637 - accuracy: 0.7401\n",
      "Epoch 6/10\n",
      "6227/6227 [==============================] - 57s 9ms/step - loss: 0.6514 - accuracy: 0.7451\n",
      "Epoch 7/10\n",
      "6227/6227 [==============================] - 57s 9ms/step - loss: 0.6418 - accuracy: 0.7495\n",
      "Epoch 8/10\n",
      "6227/6227 [==============================] - 76s 12ms/step - loss: 0.6331 - accuracy: 0.7530\n",
      "Epoch 9/10\n",
      "6227/6227 [==============================] - 57s 9ms/step - loss: 0.6258 - accuracy: 0.7562\n",
      "Epoch 10/10\n",
      "6227/6227 [==============================] - 58s 9ms/step - loss: 0.6191 - accuracy: 0.7589\n"
     ]
    },
    {
     "data": {
      "text/plain": [
       "<keras.callbacks.History at 0x7d58a6272020>"
      ]
     },
     "execution_count": 127,
     "metadata": {},
     "output_type": "execute_result"
    }
   ],
   "source": [
    "ANN_model.fit(X_train_ig, y_train, batch_size=50, epochs=10)"
   ]
  },
  {
   "cell_type": "code",
   "execution_count": 129,
   "id": "41018fa3",
   "metadata": {
    "colab": {
     "base_uri": "https://localhost:8080/"
    },
    "id": "41018fa3",
    "outputId": "7e59d53b-582e-4ca8-fae0-5925f0fada06"
   },
   "outputs": [
    {
     "name": "stdout",
     "output_type": "stream",
     "text": [
      "2521/2521 [==============================] - 10s 4ms/step\n",
      "2521/2521 [==============================] - 13s 5ms/step - loss: 0.6776 - accuracy: 0.7193\n"
     ]
    },
    {
     "data": {
      "text/plain": [
       "[0.6776184439659119, 0.7193180322647095]"
      ]
     },
     "execution_count": 129,
     "metadata": {},
     "output_type": "execute_result"
    }
   ],
   "source": [
    "predictions = ANN_model.predict(X_test_ig)\n",
    "ANN_model.evaluate(X_test_ig,y_test)   \n",
    "#If we increase the number of epochs, the accuracy of the model will increase."
   ]
  },
  {
   "cell_type": "markdown",
   "id": "d77f6173",
   "metadata": {
    "id": "d77f6173"
   },
   "source": [
    "# =============================================================="
   ]
  },
  {
   "cell_type": "markdown",
   "id": "57efe5d3",
   "metadata": {
    "id": "57efe5d3"
   },
   "source": [
    "# Ensembel"
   ]
  },
  {
   "cell_type": "code",
   "execution_count": 133,
   "id": "e397a0ee",
   "metadata": {
    "id": "e397a0ee"
   },
   "outputs": [],
   "source": [
    "#In this part, we combine the models made in the previous parts to achieve better accuracy."
   ]
  },
  {
   "cell_type": "code",
   "execution_count": 134,
   "id": "56190837",
   "metadata": {
    "id": "56190837"
   },
   "outputs": [],
   "source": [
    "from sklearn.ensemble import VotingClassifier"
   ]
  },
  {
   "cell_type": "code",
   "execution_count": null,
   "id": "iYpBPGSuxSe1",
   "metadata": {
    "id": "iYpBPGSuxSe1"
   },
   "outputs": [],
   "source": [
    "estimators=[('knn', knn_model), ('RF', rf_model), ('Dt', dt_model)]\n",
    "\n",
    "ensemble = VotingClassifier(estimators, voting='hard')\n",
    "\n",
    "ensemble.fit(X_train_ig, y)\n",
    "\n",
    "y_pred_ensemble = ensemble.predict(X_test_ig)"
   ]
  },
  {
   "cell_type": "code",
   "execution_count": null,
   "id": "41ba9707",
   "metadata": {
    "id": "41ba9707",
    "outputId": "a4cf95fc-d878-463d-fa73-2a90c08e11b7"
   },
   "outputs": [
    {
     "name": "stdout",
     "output_type": "stream",
     "text": [
      "Accuracy: 0.7460260384376938\n",
      "              precision    recall  f1-score   support\n",
      "\n",
      "           0       0.37      0.73      0.49      4089\n",
      "           1       0.78      0.59      0.67     11132\n",
      "           2       0.27      0.70      0.39      6062\n",
      "           3       0.99      0.97      0.98     18871\n",
      "           4       0.97      0.68      0.80     37000\n",
      "           5       0.69      0.81      0.74      3496\n",
      "\n",
      "    accuracy                           0.75     80650\n",
      "   macro avg       0.68      0.75      0.68     80650\n",
      "weighted avg       0.85      0.75      0.78     80650\n",
      "\n"
     ]
    }
   ],
   "source": [
    "print(\"Accuracy:\",metrics.accuracy_score(y_test, y_pred_ensemble))\n",
    "print(classification_report(y_test, y_pred_ensemble))"
   ]
  },
  {
   "cell_type": "code",
   "execution_count": null,
   "id": "e7ae517f",
   "metadata": {
    "id": "e7ae517f"
   },
   "outputs": [],
   "source": []
  },
  {
   "cell_type": "code",
   "execution_count": null,
   "id": "515a8832",
   "metadata": {
    "id": "515a8832"
   },
   "outputs": [],
   "source": []
  },
  {
   "cell_type": "code",
   "execution_count": null,
   "id": "aa04d65a",
   "metadata": {
    "id": "aa04d65a"
   },
   "outputs": [],
   "source": []
  },
  {
   "cell_type": "code",
   "execution_count": null,
   "id": "6c050cd6",
   "metadata": {
    "id": "6c050cd6"
   },
   "outputs": [],
   "source": []
  },
  {
   "cell_type": "code",
   "execution_count": null,
   "id": "e709952b",
   "metadata": {
    "id": "e709952b"
   },
   "outputs": [],
   "source": []
  },
  {
   "cell_type": "markdown",
   "id": "9a6c94e3",
   "metadata": {
    "id": "9a6c94e3"
   },
   "source": [
    "# =============================================================="
   ]
  }
 ],
 "metadata": {
  "colab": {
   "provenance": []
  },
  "kernelspec": {
   "display_name": "Python 3 (ipykernel)",
   "language": "python",
   "name": "python3"
  },
  "language_info": {
   "codemirror_mode": {
    "name": "ipython",
    "version": 3
   },
   "file_extension": ".py",
   "mimetype": "text/x-python",
   "name": "python",
   "nbconvert_exporter": "python",
   "pygments_lexer": "ipython3",
   "version": "3.10.9"
  }
 },
 "nbformat": 4,
 "nbformat_minor": 5
}
